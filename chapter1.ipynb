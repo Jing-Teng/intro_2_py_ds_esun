{
 "cells": [
  {
   "cell_type": "markdown",
   "metadata": {
    "slideshow": {
     "slide_type": "slide"
    }
   },
   "source": [
    "# Codecademy Recap\n",
    "\n",
    "## 郭耀仁"
   ]
  },
  {
   "cell_type": "markdown",
   "metadata": {
    "slideshow": {
     "slide_type": "subslide"
    }
   },
   "source": [
    "## 課程內容\n",
    "\n",
    "- 基本資料類型\n",
    "- 基本資料容器\n",
    "- 流程控制與迴圈\n",
    "- 作業\n",
    "- 延伸閱讀"
   ]
  },
  {
   "cell_type": "markdown",
   "metadata": {
    "slideshow": {
     "slide_type": "fragment"
    }
   },
   "source": [
    "## 基本資料類型"
   ]
  },
  {
   "cell_type": "markdown",
   "metadata": {
    "slideshow": {
     "slide_type": "slide"
    }
   },
   "source": [
    "## 五種基本資料類型\n",
    "\n",
    "|基本資料類型|基本資料類型英文|範例|\n",
    "|----------|-------------|----|\n",
    "|整數|int|`87`|\n",
    "|浮點數|float|`8.7`|\n",
    "|複數|complex|`8 + 7j`|\n",
    "|布林|bool|`True`、`False`|\n",
    "|文字|str|`\"Introduction to Python Data Science\"`|"
   ]
  },
  {
   "cell_type": "markdown",
   "metadata": {
    "slideshow": {
     "slide_type": "subslide"
    }
   },
   "source": [
    "## 善用 `type()` 函數\n",
    "\n",
    "- 請 Python 告訴我們資料類型為何"
   ]
  },
  {
   "cell_type": "code",
   "execution_count": 2,
   "metadata": {
    "collapsed": false
   },
   "outputs": [
    {
     "name": "stdout",
     "output_type": "stream",
     "text": [
      "<type 'int'>\n",
      "<type 'float'>\n",
      "<type 'complex'>\n",
      "<type 'bool'>\n",
      "<type 'bool'>\n",
      "<type 'str'>\n"
     ]
    }
   ],
   "source": [
    "print type(87)\n",
    "print type(8.7)\n",
    "print type(8 + 7j)\n",
    "print type(True)\n",
    "print type(False)\n",
    "print type(\"Introduction to Python Data Science\")"
   ]
  },
  {
   "cell_type": "markdown",
   "metadata": {
    "slideshow": {
     "slide_type": "subslide"
    }
   },
   "source": [
    "## 使用 Python 當作計算機\n",
    "\n",
    "|運算符號|作用|\n",
    "|-------|---|\n",
    "|`+`|加|\n",
    "|`-`|減|\n",
    "|`*`|乘|\n",
    "|`/`|除|\n",
    "|`**`|次方|\n",
    "|`%`|回傳餘數|"
   ]
  },
  {
   "cell_type": "markdown",
   "metadata": {
    "slideshow": {
     "slide_type": "subslide"
    }
   },
   "source": [
    "## 隨堂練習\n",
    "\n",
    "- 完成這段計算 [BMI](https://en.wikipedia.org/wiki/Body_mass_index) 的程式\n",
    "\n",
    "$$BMI = \\frac{weight_{kg}}{height_{m}^2}$$\n",
    "\n",
    "```python\n",
    "# BMI Calculator\n",
    "my_weight_kg = __\n",
    "my_height_m = __ / 100.0\n",
    "bmi = __ / __**2\n",
    "\n",
    "print bmi\n",
    "```"
   ]
  },
  {
   "cell_type": "markdown",
   "metadata": {
    "slideshow": {
     "slide_type": "subslide"
    }
   },
   "source": [
    "## 賦值運算符號\n",
    "\n",
    "|賦值運算符號|範例|\n",
    "|----------|---|\n",
    "|`+=`|`a = a + 2` 可以簡寫為 `a += 2`|\n",
    "|`-=`|`a = a - 2` 可以簡寫為 `a -= 2`|\n",
    "|`*=`|`a = a * 2` 可以簡寫為 `a *= 2`|\n",
    "|`/=`|`a = a / 2` 可以簡寫為 `a /= 2`|\n",
    "|`**=`|`a = a ** 2` 可以簡寫為 `a **= 2`|\n",
    "|`%=`|`a = a % 2` 可以簡寫為 `a %= 2`|"
   ]
  },
  {
   "cell_type": "markdown",
   "metadata": {
    "slideshow": {
     "slide_type": "subslide"
    }
   },
   "source": [
    "## 認識布林\n",
    "\n",
    "- 進行**條件判斷**的時候我們需要仰賴布林（bool）\n",
    "\n",
    "|判斷運算符號|作用|\n",
    "|--------|---|\n",
    "|`==`|是否等於|\n",
    "|`!=`|是否不等於|\n",
    "|`>`|是否大於|\n",
    "|`<`|是否小於|\n",
    "|`>=`|是否大於等於|\n",
    "|`<=`|是否小於等於|\n",
    "|`in`|是否包含於|\n",
    "|`not in`|是否不包含於|"
   ]
  },
  {
   "cell_type": "code",
   "execution_count": null,
   "metadata": {
    "collapsed": true,
    "slideshow": {
     "slide_type": "subslide"
    }
   },
   "outputs": [],
   "source": [
    "print 8 == 7\n",
    "print 8 != 7\n",
    "print 8 > 7\n",
    "print 8 < 7\n",
    "print 8 >= 7\n",
    "print 8 <= 7\n",
    "print 8 in [7, 8]\n",
    "print 8 not in [7, 8]"
   ]
  },
  {
   "cell_type": "markdown",
   "metadata": {
    "slideshow": {
     "slide_type": "subslide"
    }
   },
   "source": [
    "## 布林可以納入數學運算"
   ]
  },
  {
   "cell_type": "code",
   "execution_count": 6,
   "metadata": {
    "collapsed": false
   },
   "outputs": [
    {
     "name": "stdout",
     "output_type": "stream",
     "text": [
      "True\n",
      "True\n",
      "9\n",
      "8\n",
      "0\n",
      "8\n"
     ]
    }
   ],
   "source": [
    "print True == 1\n",
    "print False == 0\n",
    "print \"---\"\n",
    "print 8 + True\n",
    "print 8 - False\n",
    "print 8 * False\n",
    "print 8 / True"
   ]
  },
  {
   "cell_type": "markdown",
   "metadata": {
    "slideshow": {
     "slide_type": "subslide"
    }
   },
   "source": [
    "## 布林與邏輯運算符號\n",
    "\n",
    "|邏輯運算符號|作用|\n",
    "|--------|---|\n",
    "|`and`|判斷兩側的條件是否都為 `True`|\n",
    "|`or`|判斷兩側的條件是否至少有一側為 `True`|\n",
    "|`not`|將布林的 `True` 或 `False` 反轉|"
   ]
  },
  {
   "cell_type": "code",
   "execution_count": 9,
   "metadata": {
    "collapsed": false,
    "slideshow": {
     "slide_type": "subslide"
    }
   },
   "outputs": [
    {
     "name": "stdout",
     "output_type": "stream",
     "text": [
      "True\n",
      "False\n",
      "False\n",
      "False\n",
      "---\n",
      "True\n",
      "True\n",
      "True\n",
      "False\n",
      "---\n",
      "False\n",
      "True\n"
     ]
    }
   ],
   "source": [
    "print True and True\n",
    "print True and False\n",
    "print False & True # 可以用 & 符號\n",
    "print False & False\n",
    "print \"---\"\n",
    "print True or True\n",
    "print True or False\n",
    "print False | True # 可以用 | 符號\n",
    "print False | False\n",
    "print \"---\"\n",
    "print not True\n",
    "print not False"
   ]
  },
  {
   "cell_type": "markdown",
   "metadata": {
    "slideshow": {
     "slide_type": "subslide"
    }
   },
   "source": [
    "## 認識文字\n",
    "\n",
    "- 使用單引號（`'`）或雙引號（`\"`）建立文字\n",
    "- 適時地使用 `\\` 跳脫"
   ]
  },
  {
   "cell_type": "code",
   "execution_count": 12,
   "metadata": {
    "collapsed": false
   },
   "outputs": [
    {
     "name": "stdout",
     "output_type": "stream",
     "text": [
      "I am loving it!\n",
      "I am loving it!\n",
      "---\n",
      "I'm loving it!\n",
      "I'm loving it!\n",
      "I don't think you'll ever be just \"anybody\".\n",
      "I don't think you'll ever be just \"anybody\".\n"
     ]
    }
   ],
   "source": [
    "print \"I am loving it!\"\n",
    "print 'I am loving it!'\n",
    "print \"---\"\n",
    "print \"I'm loving it!\"\n",
    "print 'I\\'m loving it!'\n",
    "print 'I don\\'t think you\\'ll ever be just \"anybody\".'\n",
    "print \"I don't think you'll ever be just \\\"anybody\\\".\""
   ]
  },
  {
   "cell_type": "markdown",
   "metadata": {
    "slideshow": {
     "slide_type": "subslide"
    }
   },
   "source": [
    "## 文字與數學運算符號\n",
    "\n",
    "- 可以利用 `+` 以及 `*` 這兩個數學運算符號來合併文字與複製文字"
   ]
  },
  {
   "cell_type": "code",
   "execution_count": 13,
   "metadata": {
    "collapsed": false
   },
   "outputs": [
    {
     "name": "stdout",
     "output_type": "stream",
     "text": [
      "I'm loving it!\n",
      "I'm loving it!!!\n"
     ]
    }
   ],
   "source": [
    "print \"I'm\" + \" loving\" + \" it!\"\n",
    "print \"I'm loving it\" + \"!\" * 3"
   ]
  },
  {
   "cell_type": "markdown",
   "metadata": {
    "slideshow": {
     "slide_type": "subslide"
    }
   },
   "source": [
    "## `print` 的格式化\n",
    "\n",
    "- 利用 `%` 來對 `print` 進行格式化\n",
    "    - `%f` 指定為浮點數\n",
    "    - `%i` 指定為整數\n",
    "    - `%s` 指定為文字"
   ]
  },
  {
   "cell_type": "code",
   "execution_count": 39,
   "metadata": {
    "collapsed": false
   },
   "outputs": [
    {
     "name": "stdout",
     "output_type": "stream",
     "text": [
      "圓周率是 3.142\n",
      "圓周率的整數部分是 3\n",
      "圓周率是 3.141591\n"
     ]
    }
   ],
   "source": [
    "print \"圓周率是 %.3f\" % 3.141591\n",
    "print \"圓周率的整數部分是 %i\" % 3.141591\n",
    "print \"%s是 %f\" % (\"圓周率\", 3.141591)"
   ]
  },
  {
   "cell_type": "markdown",
   "metadata": {
    "slideshow": {
     "slide_type": "subslide"
    }
   },
   "source": [
    "## 資料類型的轉換\n",
    "\n",
    "|轉換資料類型的函數|描述|\n",
    "|---------------|---|\n",
    "|`int()`|轉換資料類型為 `int`|\n",
    "|`float()`|轉換資料類型為 `float`|\n",
    "|`complex()`|轉換資料類型為 `complex`|\n",
    "|`bool()`|轉換資料類型為 `bool`|\n",
    "|`str()`|轉換資料類型為 `str`|"
   ]
  },
  {
   "cell_type": "markdown",
   "metadata": {
    "slideshow": {
     "slide_type": "fragment"
    }
   },
   "source": [
    "# 基本資料容器"
   ]
  },
  {
   "cell_type": "markdown",
   "metadata": {
    "slideshow": {
     "slide_type": "slide"
    }
   },
   "source": [
    "## 四種基本資料容器\n",
    "\n",
    "|資料容器|建立方法|特性|\n",
    "|list|使用中括號 `[]`|富有彈性且能容納不同資料類型|\n",
    "|tuple|使用小括號 `()`|不可以更動|\n",
    "|set|使用大括號 `{}`|儲存唯一值|\n",
    "|dict|使用大括號 `{}` 並搭配鍵值與資料|使用鍵值為資料作索引|"
   ]
  },
  {
   "cell_type": "markdown",
   "metadata": {
    "slideshow": {
     "slide_type": "subslide"
    }
   },
   "source": [
    "## list\n",
    "\n",
    "- 容納不同資料類型"
   ]
  },
  {
   "cell_type": "code",
   "execution_count": 15,
   "metadata": {
    "collapsed": false
   },
   "outputs": [
    {
     "name": "stdout",
     "output_type": "stream",
     "text": [
      "['sitcom', 236, False, ['Jennifer Aniston', 'Courteney Cox', 'Lisa Kudrow', 'Matt LeBlanc', 'Matthew Perry', 'David Schwimmer']]\n"
     ]
    }
   ],
   "source": [
    "genre = \"SitCom\"\n",
    "no_of_episodes = 236\n",
    "still_airing = False\n",
    "starrings = [\"Jennifer Aniston\", \"Courteney Cox\", \"Lisa Kudrow\", \"Matt LeBlanc\", \"Matthew Perry\", \"David Schwimmer\"]\n",
    "\n",
    "friends = [genre, no_of_episodes, still_airing, starrings]\n",
    "print friends"
   ]
  },
  {
   "cell_type": "markdown",
   "metadata": {
    "slideshow": {
     "slide_type": "subslide"
    }
   },
   "source": [
    "## list 中的元素選擇\n",
    "\n",
    "- 使用 `[]` 與索引值選擇裡頭的元素"
   ]
  },
  {
   "cell_type": "code",
   "execution_count": 21,
   "metadata": {
    "collapsed": false
   },
   "outputs": [
    {
     "name": "stdout",
     "output_type": "stream",
     "text": [
      "<type 'str'>\n",
      "<type 'int'>\n",
      "<type 'bool'>\n",
      "Who's your favorite? Matthew Perry\n",
      "['Jennifer Aniston', 'Courteney Cox', 'Lisa Kudrow']\n",
      "['Matt LeBlanc', 'Matthew Perry', 'David Schwimmer']\n"
     ]
    }
   ],
   "source": [
    "genre = \"sitcom\"\n",
    "no_of_episodes = 236\n",
    "still_airing = False\n",
    "starrings = [\"Jennifer Aniston\", \"Courteney Cox\", \"Lisa Kudrow\", \"Matt LeBlanc\", \"Matthew Perry\", \"David Schwimmer\"]\n",
    "\n",
    "friends = [genre, no_of_episodes, still_airing, starrings]\n",
    "print type(friends[0])\n",
    "print type(friends[1])\n",
    "print type(friends[2])\n",
    "print \"Who's your favorite? \" + friends[-1][4]\n",
    "print friends[-1][:3]\n",
    "print friends[-1][3:]"
   ]
  },
  {
   "cell_type": "markdown",
   "metadata": {
    "slideshow": {
     "slide_type": "subslide"
    }
   },
   "source": [
    "## tuple\n",
    "\n",
    "- 無法更動裡面的內容"
   ]
  },
  {
   "cell_type": "code",
   "execution_count": 25,
   "metadata": {
    "collapsed": false
   },
   "outputs": [
    {
     "name": "stdout",
     "output_type": "stream",
     "text": [
      "['Jennifer Aniston', 'Courteney Cox', 'Lisa Kudrow', 'Matt LeBlanc', 'Matthew Perry', 'David Schwimmer']\n"
     ]
    },
    {
     "ename": "AttributeError",
     "evalue": "'tuple' object has no attribute 'append'",
     "output_type": "error",
     "traceback": [
      "\u001b[0;31m---------------------------------------------------------------------------\u001b[0m",
      "\u001b[0;31mAttributeError\u001b[0m                            Traceback (most recent call last)",
      "\u001b[0;32m<ipython-input-25-111e6e4f644f>\u001b[0m in \u001b[0;36m<module>\u001b[0;34m()\u001b[0m\n\u001b[1;32m      6\u001b[0m \u001b[0;31m# tuple 不可以新增\u001b[0m\u001b[0;34m\u001b[0m\u001b[0;34m\u001b[0m\u001b[0m\n\u001b[1;32m      7\u001b[0m \u001b[0mstarrings_tuple\u001b[0m \u001b[0;34m=\u001b[0m \u001b[0;34m(\u001b[0m\u001b[0;34m\"Jennifer Aniston\"\u001b[0m\u001b[0;34m,\u001b[0m \u001b[0;34m\"Courteney Cox\"\u001b[0m\u001b[0;34m,\u001b[0m \u001b[0;34m\"Lisa Kudrow\"\u001b[0m\u001b[0;34m,\u001b[0m \u001b[0;34m\"Matt LeBlanc\"\u001b[0m\u001b[0;34m,\u001b[0m \u001b[0;34m\"Matthew Perry\"\u001b[0m\u001b[0;34m)\u001b[0m\u001b[0;34m\u001b[0m\u001b[0m\n\u001b[0;32m----> 8\u001b[0;31m \u001b[0mstarrings_tuple\u001b[0m\u001b[0;34m.\u001b[0m\u001b[0mappend\u001b[0m\u001b[0;34m(\u001b[0m\u001b[0;34m\"David Schwimmer\"\u001b[0m\u001b[0;34m)\u001b[0m\u001b[0;34m\u001b[0m\u001b[0m\n\u001b[0m",
      "\u001b[0;31mAttributeError\u001b[0m: 'tuple' object has no attribute 'append'"
     ]
    }
   ],
   "source": [
    "# list 可以新增\n",
    "starrings_list = [\"Jennifer Aniston\", \"Courteney Cox\", \"Lisa Kudrow\", \"Matt LeBlanc\", \"Matthew Perry\"]\n",
    "starrings_list.append(\"David Schwimmer\")\n",
    "print starrings_list\n",
    "\n",
    "# tuple 不可以新增\n",
    "starrings_tuple = (\"Jennifer Aniston\", \"Courteney Cox\", \"Lisa Kudrow\", \"Matt LeBlanc\", \"Matthew Perry\")\n",
    "starrings_tuple.append(\"David Schwimmer\")"
   ]
  },
  {
   "cell_type": "markdown",
   "metadata": {
    "slideshow": {
     "slide_type": "subslide"
    }
   },
   "source": [
    "## set\n",
    "\n",
    "- 存放唯一值的資料容器\n",
    "- 不能選擇裡面的元素"
   ]
  },
  {
   "cell_type": "code",
   "execution_count": 27,
   "metadata": {
    "collapsed": false
   },
   "outputs": [
    {
     "name": "stdout",
     "output_type": "stream",
     "text": [
      "set(['male', 'female'])\n"
     ]
    },
    {
     "ename": "TypeError",
     "evalue": "'set' object does not support indexing",
     "output_type": "error",
     "traceback": [
      "\u001b[0;31m---------------------------------------------------------------------------\u001b[0m",
      "\u001b[0;31mTypeError\u001b[0m                                 Traceback (most recent call last)",
      "\u001b[0;32m<ipython-input-27-549e4b1c198e>\u001b[0m in \u001b[0;36m<module>\u001b[0;34m()\u001b[0m\n\u001b[1;32m      1\u001b[0m \u001b[0mgender_set\u001b[0m \u001b[0;34m=\u001b[0m \u001b[0;34m{\u001b[0m\u001b[0;34m\"female\"\u001b[0m\u001b[0;34m,\u001b[0m \u001b[0;34m\"female\"\u001b[0m\u001b[0;34m,\u001b[0m \u001b[0;34m\"female\"\u001b[0m\u001b[0;34m,\u001b[0m \u001b[0;34m\"male\"\u001b[0m\u001b[0;34m,\u001b[0m \u001b[0;34m\"male\"\u001b[0m\u001b[0;34m,\u001b[0m \u001b[0;34m\"male\"\u001b[0m\u001b[0;34m}\u001b[0m\u001b[0;34m\u001b[0m\u001b[0m\n\u001b[1;32m      2\u001b[0m \u001b[0;32mprint\u001b[0m \u001b[0mgender_set\u001b[0m\u001b[0;34m\u001b[0m\u001b[0m\n\u001b[0;32m----> 3\u001b[0;31m \u001b[0;32mprint\u001b[0m \u001b[0mgender_set\u001b[0m\u001b[0;34m[\u001b[0m\u001b[0;36m0\u001b[0m\u001b[0;34m]\u001b[0m\u001b[0;34m\u001b[0m\u001b[0m\n\u001b[0m",
      "\u001b[0;31mTypeError\u001b[0m: 'set' object does not support indexing"
     ]
    }
   ],
   "source": [
    "gender_set = {\"female\", \"female\", \"female\", \"male\", \"male\", \"male\"}\n",
    "print gender_set\n",
    "print gender_set[0]"
   ]
  },
  {
   "cell_type": "markdown",
   "metadata": {
    "slideshow": {
     "slide_type": "subslide"
    }
   },
   "source": [
    "## dict\n",
    "\n",
    "- 帶有鍵值（key）的 list"
   ]
  },
  {
   "cell_type": "code",
   "execution_count": null,
   "metadata": {
    "collapsed": true
   },
   "outputs": [],
   "source": [
    "friends = {\n",
    "    \"genre\": \"SitCom\",\n",
    "    \"no_of_episodes\": 236,\n",
    "    \"still_airing\": False,\n",
    "    \"starrings\": [\"Jennifer Aniston\", \"Courteney Cox\", \"Lisa Kudrow\",\n",
    "                  \"Matt LeBlanc\", \"Matthew Perry\", \"David Schwimmer\"]\n",
    "}\n",
    "print type(friends)"
   ]
  },
  {
   "cell_type": "markdown",
   "metadata": {
    "slideshow": {
     "slide_type": "subslide"
    }
   },
   "source": [
    "## dict（2）\n",
    "\n",
    "- 利用鍵值選取 dict 中的元素"
   ]
  },
  {
   "cell_type": "code",
   "execution_count": 30,
   "metadata": {
    "collapsed": false
   },
   "outputs": [
    {
     "name": "stdout",
     "output_type": "stream",
     "text": [
      "SitCom\n",
      "['Jennifer Aniston', 'Courteney Cox', 'Lisa Kudrow']\n",
      "['Matt LeBlanc', 'Matthew Perry', 'David Schwimmer']\n"
     ]
    }
   ],
   "source": [
    "friends = {\n",
    "    \"genre\": \"SitCom\",\n",
    "    \"no_of_episodes\": 236,\n",
    "    \"still_airing\": False,\n",
    "    \"starrings\": [\"Jennifer Aniston\", \"Courteney Cox\", \"Lisa Kudrow\",\n",
    "                  \"Matt LeBlanc\", \"Matthew Perry\", \"David Schwimmer\"]\n",
    "}\n",
    "print friends[\"genre\"]\n",
    "print friends[\"starrings\"][:3]\n",
    "print friends[\"starrings\"][3:]"
   ]
  },
  {
   "cell_type": "markdown",
   "metadata": {
    "slideshow": {
     "slide_type": "fragment"
    }
   },
   "source": [
    "# 流程控制與迴圈"
   ]
  },
  {
   "cell_type": "markdown",
   "metadata": {
    "slideshow": {
     "slide_type": "slide"
    }
   },
   "source": [
    "## 流程控制的結構\n",
    "\n",
    "```python\n",
    "if 條件一:\n",
    "    # 程式一\n",
    "elif 條件二:\n",
    "    # 程式二\n",
    "else:\n",
    "    # 程式三\n",
    "```"
   ]
  },
  {
   "cell_type": "markdown",
   "metadata": {
    "slideshow": {
     "slide_type": "subslide"
    }
   },
   "source": [
    "## 兩個分支\n",
    "\n",
    "- 使用 `if...else` 即可 "
   ]
  },
  {
   "cell_type": "code",
   "execution_count": 36,
   "metadata": {
    "collapsed": false
   },
   "outputs": [
    {
     "name": "stdout",
     "output_type": "stream",
     "text": [
      "天氣是下雨，去健身房\n"
     ]
    }
   ],
   "source": [
    "from random import choice\n",
    "\n",
    "weathers = [\"晴天\", \"下雨\"]\n",
    "weather = choice(weathers)\n",
    "\n",
    "if weather == \"晴天\":\n",
    "    print \"天氣是%s，去戶外跑步\" % weather\n",
    "else:\n",
    "    print \"天氣是%s，去健身房\" % weather"
   ]
  },
  {
   "cell_type": "markdown",
   "metadata": {
    "slideshow": {
     "slide_type": "subslide"
    }
   },
   "source": [
    "## 三個分支\n",
    "\n",
    "- 使用 `if...elif...else`"
   ]
  },
  {
   "cell_type": "code",
   "execution_count": 47,
   "metadata": {
    "collapsed": false
   },
   "outputs": [
    {
     "name": "stdout",
     "output_type": "stream",
     "text": [
      "天氣是晴天，去戶外跑步\n"
     ]
    }
   ],
   "source": [
    "from random import choice\n",
    "\n",
    "weathers = [\"晴天\", \"下雨\", \"暴風雨\"]\n",
    "weather = choice(weathers)\n",
    "\n",
    "if weather == \"晴天\":\n",
    "    print \"天氣是%s，去戶外跑步\" % weather\n",
    "elif weather == \"下雨\":\n",
    "    print \"天氣是%s，去健身房\" % weather\n",
    "else:\n",
    "    print \"天氣是%s，睡回籠覺\" % weather"
   ]
  },
  {
   "cell_type": "markdown",
   "metadata": {
    "slideshow": {
     "slide_type": "subslide"
    }
   },
   "source": [
    "## 隨堂練習\n",
    "\n",
    "- 計算完 [BMI](https://en.wikipedia.org/wiki/Body_mass_index) 後根據數值回傳訊息：\n",
    "    - 小於 18.5 回傳 \"underweight\"\n",
    "    - 介於 18.5 ~ 25 回傳 \"optimal\"\n",
    "    - 大於 25 回傳 \"overweight\"\n",
    "\n",
    "```python\n",
    "# BMI Calculator\n",
    "my_weight_kg = __\n",
    "my_height_m = __ / 100.0\n",
    "bmi = __ / __**2\n",
    "\n",
    "if bmi < __:\n",
    "    print \"__\"\n",
    "elif bmi > __:\n",
    "    print \"__\"\n",
    "else:\n",
    "    print \"__\"\n",
    "```"
   ]
  },
  {
   "cell_type": "markdown",
   "metadata": {
    "slideshow": {
     "slide_type": "subslide"
    }
   },
   "source": [
    "## 迴圈\n",
    "\n",
    "- 我們想讓 Python 輸出美國影集六人行（Friends）的六個主要演員\n",
    "- 現階段我們可能會這樣做："
   ]
  },
  {
   "cell_type": "code",
   "execution_count": null,
   "metadata": {
    "collapsed": true
   },
   "outputs": [],
   "source": [
    "print \"Jennifer Aniston\"\n",
    "print \"Courteney Cox\"\n",
    "print \"Lisa Kudrow\"\n",
    "print \"Matt LeBlanc\"\n",
    "print \"Matthew Perry\"\n",
    "print \"David Schwimmer\""
   ]
  },
  {
   "cell_type": "markdown",
   "metadata": {
    "slideshow": {
     "slide_type": "subslide"
    }
   },
   "source": [
    "## 迴圈（2）\n",
    "\n",
    "- 或者這樣做："
   ]
  },
  {
   "cell_type": "code",
   "execution_count": null,
   "metadata": {
    "collapsed": true
   },
   "outputs": [],
   "source": [
    "starrings = [\"Jennifer Aniston\", \"Courteney Cox\", \"Lisa Kudrow\", \"Matt LeBlanc\", \"Matthew Perry\", \"David Schwimmer\"]\n",
    "print starrings[0]\n",
    "print starrings[1]\n",
    "print starrings[2]\n",
    "print starrings[3]\n",
    "print starrings[4]\n",
    "print starrings[5]"
   ]
  },
  {
   "cell_type": "markdown",
   "metadata": {
    "slideshow": {
     "slide_type": "subslide"
    }
   },
   "source": [
    "## `for` 迴圈的結構\n",
    "\n",
    "```python\n",
    "for i in x:\n",
    "    # 每次迭代執行的程式\n",
    "```"
   ]
  },
  {
   "cell_type": "code",
   "execution_count": 1,
   "metadata": {
    "collapsed": false
   },
   "outputs": [
    {
     "name": "stdout",
     "output_type": "stream",
     "text": [
      "Jennifer Aniston\n",
      "Courteney Cox\n",
      "Lisa Kudrow\n",
      "Matt LeBlanc\n",
      "Matthew Perry\n",
      "David Schwimmer\n"
     ]
    }
   ],
   "source": [
    "starrings = [\"Jennifer Aniston\", \"Courteney Cox\", \"Lisa Kudrow\", \"Matt LeBlanc\", \"Matthew Perry\", \"David Schwimmer\"]\n",
    "\n",
    "for star in starrings:\n",
    "    print star"
   ]
  },
  {
   "cell_type": "markdown",
   "metadata": {
    "slideshow": {
     "slide_type": "subslide"
    }
   },
   "source": [
    "## 迭代子以索引值存在"
   ]
  },
  {
   "cell_type": "code",
   "execution_count": null,
   "metadata": {
    "collapsed": true
   },
   "outputs": [],
   "source": [
    "starrings = [\"Jennifer Aniston\", \"Courteney Cox\", \"Lisa Kudrow\", \"Matt LeBlanc\", \"Matthew Perry\", \"David Schwimmer\"]\n",
    "\n",
    "for i in range(len(starrings)):\n",
    "    print starrings[i]"
   ]
  },
  {
   "cell_type": "markdown",
   "metadata": {
    "slideshow": {
     "slide_type": "subslide"
    }
   },
   "source": [
    "## `while` 迴圈的結構\n",
    "\n",
    "```python\n",
    "while 某些條件:\n",
    "    # 每次迭代執行的程式\n",
    "```"
   ]
  },
  {
   "cell_type": "code",
   "execution_count": null,
   "metadata": {
    "collapsed": true
   },
   "outputs": [],
   "source": [
    "starrings = [\"Jennifer Aniston\", \"Courteney Cox\", \"Lisa Kudrow\", \"Matt LeBlanc\", \"Matthew Perry\", \"David Schwimmer\"]\n",
    "i = 0\n",
    "\n",
    "while i < 6:\n",
    "    print starrings[i]\n",
    "    i += 1"
   ]
  },
  {
   "cell_type": "markdown",
   "metadata": {
    "slideshow": {
     "slide_type": "subslide"
    }
   },
   "source": [
    "## 迴圈的應用場景\n",
    "\n",
    "- 所有的 `for` 迴圈都可以用 `while` 改寫\n",
    "- 但不是所有的 `while` 迴圈都可以改寫為 `for` 迴圈\n",
    "- 在不知道迭代次數的情形下，我們只能採用 `while` 迴圈"
   ]
  },
  {
   "cell_type": "markdown",
   "metadata": {
    "slideshow": {
     "slide_type": "subslide"
    }
   },
   "source": [
    "## 投擲硬幣的遊戲\n",
    "\n",
    "- 投擲一枚公正的銅板，總共出現三個正面才能停下來"
   ]
  },
  {
   "cell_type": "code",
   "execution_count": 4,
   "metadata": {
    "collapsed": false
   },
   "outputs": [
    {
     "name": "stdout",
     "output_type": "stream",
     "text": [
      "['Tail', 'Head', 'Head', 'Tail', 'Head']\n",
      "5\n"
     ]
    }
   ],
   "source": [
    "from random import choice\n",
    "\n",
    "coin_flips = [] # 建立一個空的清單放置每一次投擲的結果\n",
    "coin = [\"Head\", \"Tail\"]\n",
    "\n",
    "while coin_flips.count(\"Head\") < 3:\n",
    "    coin_flips.append(choice(coin))\n",
    "\n",
    "print coin_flips # 印出每次投擲的紀錄\n",
    "print len(coin_flips) # 總共投擲了幾次"
   ]
  },
  {
   "cell_type": "markdown",
   "metadata": {
    "slideshow": {
     "slide_type": "fragment"
    }
   },
   "source": [
    "# 作業"
   ]
  },
  {
   "cell_type": "markdown",
   "metadata": {
    "slideshow": {
     "slide_type": "slide"
    }
   },
   "source": [
    "## 作業\n",
    "\n",
    "1. 投擲一枚公正的銅板，**連續**出現三個正面才能停下來\n",
    "2. 投擲一枚公正的骰子，**總共**出現三個六才能停下來\n",
    "3. 將 1 到 100 印出，但是碰到 3 的倍數的時候改為輸出 \"Bingo!\"，碰到 5 的倍數的時候改為輸出 \"Awesome!\"，如果同時是 3 跟 5 的公倍數（15 的倍數），則輸出 \"Gotcha!\""
   ]
  },
  {
   "cell_type": "markdown",
   "metadata": {
    "slideshow": {
     "slide_type": "fragment"
    }
   },
   "source": [
    "# 延伸閱讀"
   ]
  }
 ],
 "metadata": {
  "celltoolbar": "Slideshow",
  "kernelspec": {
   "display_name": "Python 2",
   "language": "python",
   "name": "python2"
  },
  "language_info": {
   "codemirror_mode": {
    "name": "ipython",
    "version": 2
   },
   "file_extension": ".py",
   "mimetype": "text/x-python",
   "name": "python",
   "nbconvert_exporter": "python",
   "pygments_lexer": "ipython2",
   "version": "2.7.13"
  }
 },
 "nbformat": 4,
 "nbformat_minor": 2
}
