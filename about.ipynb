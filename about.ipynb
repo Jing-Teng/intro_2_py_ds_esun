{
 "cells": [
  {
   "cell_type": "markdown",
   "metadata": {
    "slideshow": {
     "slide_type": "slide"
    }
   },
   "source": [
    "# 關於講師\n",
    "\n",
    "## 郭耀仁"
   ]
  },
  {
   "cell_type": "markdown",
   "metadata": {
    "slideshow": {
     "slide_type": "subslide"
    }
   },
   "source": [
    "## 學經歷\n",
    "\n",
    "- Co-founder @ Kyosei.ai\n",
    "- [Lecturer @ 台大資工系統訓練班](http://train.csie.ntu.edu.tw/train/?page=teacher_display.html&teachername=%E9%83%AD%E8%80%80%E4%BB%81)\n",
    "- DataCamp Open Course Developer\n",
    "- Coupang Senior Data Analyst\n",
    "- SAS Analytical Consultant\n",
    "- 中國信託個金事業處襄理\n",
    "- 國立台灣大學商學研究所"
   ]
  },
  {
   "cell_type": "markdown",
   "metadata": {
    "slideshow": {
     "slide_type": "subslide"
    }
   },
   "source": [
    "## 作品\n",
    "\n",
    "- [R 語言使用者的 Python 學習筆記（2017 iT 邦幫忙鐵人賽 Big Data 組冠軍）](http://ithelp.ithome.com.tw/users/20103511/ironman/1077)\n",
    "- [輕鬆學習 R 語言（預計由碁峰 GoTop 出版紙本）](https://www.learn-r-the-easy-way.tw/w)\n",
    "- [Scikit-Learn 教學：Python 與機器學習](https://www.datacamp.com/community/tutorials/scikit-learn-python#gs.yXmRCU0)\n",
    "- [R 語言導論](https://goo.gl/RNBI1U)\n",
    "- [資料框整理技巧](https://goo.gl/3wkMnn)"
   ]
  },
  {
   "cell_type": "markdown",
   "metadata": {
    "slideshow": {
     "slide_type": "subslide"
    }
   },
   "source": [
    "## 其他\n",
    "\n",
    "- [GitHub](https://github.com/yaojenkuo)\n",
    "- <http://yaojenkuo.io>"
   ]
  },
  {
   "cell_type": "markdown",
   "metadata": {
    "slideshow": {
     "slide_type": "subslide"
    }
   },
   "source": [
    "## 聯絡\n",
    "\n",
    "- <tony@kyosei.ai>\n",
    "- [Yao-Jen Kuo](https://www.facebook.com/yaojen.kuo.1)"
   ]
  }
 ],
 "metadata": {
  "celltoolbar": "Slideshow",
  "kernelspec": {
   "display_name": "Python 2",
   "language": "python",
   "name": "python2"
  },
  "language_info": {
   "codemirror_mode": {
    "name": "ipython",
    "version": 2
   },
   "file_extension": ".py",
   "mimetype": "text/x-python",
   "name": "python",
   "nbconvert_exporter": "python",
   "pygments_lexer": "ipython2",
   "version": "2.7.13"
  }
 },
 "nbformat": 4,
 "nbformat_minor": 2
}
