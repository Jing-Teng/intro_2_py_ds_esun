{
 "cells": [
  {
   "cell_type": "markdown",
   "metadata": {
    "slideshow": {
     "slide_type": "slide"
    }
   },
   "source": [
    "# NumPy\n",
    "\n",
    "## 郭耀仁"
   ]
  },
  {
   "cell_type": "markdown",
   "metadata": {
    "slideshow": {
     "slide_type": "slide"
    }
   },
   "source": [
    "## 課程內容\n",
    "\n",
    "- 我們的問題\n",
    "- 第一次使用 ndarray\n",
    "- 建立 ndarray 的方法\n",
    "- 資料類型\n",
    "- 選擇 ndarray 的元素\n",
    "- ndarray 的運算\n",
    "- 常用屬性與方法"
   ]
  },
  {
   "cell_type": "markdown",
   "metadata": {
    "slideshow": {
     "slide_type": "slide"
    }
   },
   "source": [
    "## 我們的問題\n",
    "\n",
    "- 我想一次把這幾個距離從公里換算成英里\n",
    "\n",
    "```python\n",
    "km_list = [3, 5, 10, 21, 42.195]\n",
    "km_to_mile = 0.62137\n",
    "```"
   ]
  },
  {
   "cell_type": "markdown",
   "metadata": {
    "slideshow": {
     "slide_type": "subslide"
    }
   },
   "source": [
    "## 我們的問題（2）\n",
    "\n",
    "- Python 的 list 無法使用 **element-wise** 運算\n",
    "\n",
    "```python\n",
    "km_list = [3, 5, 10, 21, 42.195]\n",
    "km_to_mile = 0.62137\n",
    "print km_list * km_to_mile\n",
    "```"
   ]
  },
  {
   "cell_type": "markdown",
   "metadata": {
    "slideshow": {
     "slide_type": "subslide"
    }
   },
   "source": [
    "## 我們的問題（3）\n",
    "\n",
    "- 在不引用套件的情況下我們可以使用`迴圈`來處理"
   ]
  },
  {
   "cell_type": "code",
   "execution_count": 1,
   "metadata": {
    "collapsed": false
   },
   "outputs": [
    {
     "name": "stdout",
     "output_type": "stream",
     "text": [
      "3.00 km: 1.86 mile\n",
      "5.00 km: 3.11 mile\n",
      "10.00 km: 6.21 mile\n",
      "21.00 km: 13.05 mile\n",
      "42.20 km: 26.22 mile\n"
     ]
    }
   ],
   "source": [
    "km_list = [3, 5, 10, 21, 42.195]\n",
    "km_to_mile = 0.62137\n",
    "mile_list = []\n",
    "\n",
    "for km in km_list:\n",
    "    mile_list.append(km * km_to_mile)\n",
    "\n",
    "for i, j in zip(km_list, mile_list):\n",
    "    print \"%.2f km: %.2f mile\" % (i, j)"
   ]
  },
  {
   "cell_type": "markdown",
   "metadata": {
    "slideshow": {
     "slide_type": "subslide"
    }
   },
   "source": [
    "## 我們的問題（4）\n",
    "\n",
    "- 或者使用 `map()` 和 lambda 函數一起處理"
   ]
  },
  {
   "cell_type": "code",
   "execution_count": 2,
   "metadata": {
    "collapsed": false
   },
   "outputs": [
    {
     "name": "stdout",
     "output_type": "stream",
     "text": [
      "3.00 km: 1.86 mile\n",
      "5.00 km: 3.11 mile\n",
      "10.00 km: 6.21 mile\n",
      "21.00 km: 13.05 mile\n",
      "42.20 km: 26.22 mile\n"
     ]
    }
   ],
   "source": [
    "km_list = [3, 5, 10, 21, 42.195]\n",
    "mile_list = map(lambda x: x * 0.621371192, km_list)\n",
    "for i, j in zip(km_list, mile_list):\n",
    "    print \"%.2f km: %.2f mile\" % (i, j)"
   ]
  },
  {
   "cell_type": "markdown",
   "metadata": {
    "slideshow": {
     "slide_type": "subslide"
    }
   },
   "source": [
    "## 我們的問題（5）\n",
    "\n",
    "- 這樣處理會不會覺得太麻煩呢？\n",
    "- R 語言使用者表示：\n",
    "\n",
    "![](https://storage.googleapis.com/intro-2-py-ds/img/ch8/nick_young_question_mark.jpg)"
   ]
  },
  {
   "cell_type": "markdown",
   "metadata": {
    "slideshow": {
     "slide_type": "slide"
    }
   },
   "source": [
    "## 第一次使用 ndarray"
   ]
  },
  {
   "cell_type": "code",
   "execution_count": 3,
   "metadata": {
    "collapsed": false
   },
   "outputs": [
    {
     "name": "stdout",
     "output_type": "stream",
     "text": [
      "<type 'numpy.ndarray'>\n",
      "\n",
      "\n",
      "3.00 km: 1.86 mile\n",
      "5.00 km: 3.11 mile\n",
      "10.00 km: 6.21 mile\n",
      "21.00 km: 13.05 mile\n",
      "42.20 km: 26.22 mile\n"
     ]
    }
   ],
   "source": [
    "import numpy as np # 引入 numpy 套件\n",
    "\n",
    "km_list = [3, 5, 10, 21, 42.195]\n",
    "km_array = np.array(km_list)\n",
    "print(type(km_array))\n",
    "print \"\\n\"\n",
    "mile_array = km_array * 0.62137\n",
    "for i, j in zip(km_list, mile_list):\n",
    "    print \"%.2f km: %.2f mile\" % (i, j)"
   ]
  },
  {
   "cell_type": "markdown",
   "metadata": {
    "slideshow": {
     "slide_type": "subslide"
    }
   },
   "source": [
    "## 第一次使用 ndarray（2）\n",
    "\n",
    "- 練習計算這五個人的 [BMI](https://zh.wikipedia.org/wiki/身高體重指數)\n",
    "\n",
    "```python\n",
    "heights = [173, 168, 171, 189, 179]\n",
    "weights = [65.4, 59.2, 63.6, 88.4, 68.7]\n",
    "```"
   ]
  },
  {
   "cell_type": "markdown",
   "metadata": {
    "slideshow": {
     "slide_type": "slide"
    }
   },
   "source": [
    "## 建立 ndarray 的方法\n",
    "\n",
    "|方法|描述|\n",
    "|---|----|\n",
    "|`numpy.array()`|基本的建立|\n",
    "|`numpy.arange()`|類似 `range()`|\n",
    "|`numpy.linspace()`|建立等距切分的陣列|\n",
    "|`numpy.empty()`|建立上未初始化的陣列|\n",
    "|`numpy.ones()`|建立都是 1 的陣列|\n",
    "|`numpy.zeros()`|建立都是 0 的陣列|\n",
    "|`numpy.eye()`|建立單位矩陣|\n",
    "|`numpy.random.rand()`|建立符合均勻分布的陣列|\n",
    "|`numpy.random.randn()`|建立符合常態分布的陣列|\n",
    "|`numpy.random.randint()`|建立隨機整數的陣列|"
   ]
  },
  {
   "cell_type": "markdown",
   "metadata": {
    "slideshow": {
     "slide_type": "subslide"
    }
   },
   "source": [
    "## 建立 ndarray 的方法（2）\n",
    "\n",
    "- `numpy.arange()`\n",
    "- 產生預設以 1 作為公差的數列"
   ]
  },
  {
   "cell_type": "code",
   "execution_count": 4,
   "metadata": {
    "collapsed": false
   },
   "outputs": [
    {
     "name": "stdout",
     "output_type": "stream",
     "text": [
      "[0 1 2 3 4 5 6 7 8 9]\n",
      "[1 2 3 4 5 6 7 8 9]\n",
      "[1 3 5 7 9]\n"
     ]
    }
   ],
   "source": [
    "import numpy as np\n",
    "\n",
    "arr = np.arange(10)\n",
    "print arr\n",
    "arr = np.arange(1, 10)\n",
    "print arr\n",
    "arr = np.arange(1, 10, 2)\n",
    "print arr"
   ]
  },
  {
   "cell_type": "markdown",
   "metadata": {
    "slideshow": {
     "slide_type": "subslide"
    }
   },
   "source": [
    "## 建立 ndarray 的方法（3）\n",
    "\n",
    "- `numpy.linspace()`\n",
    "- 產生特定個數、均等切分的數列"
   ]
  },
  {
   "cell_type": "code",
   "execution_count": 5,
   "metadata": {
    "collapsed": false
   },
   "outputs": [
    {
     "name": "stdout",
     "output_type": "stream",
     "text": [
      "[ 0.          0.11111111  0.22222222  0.33333333  0.44444444  0.55555556\n",
      "  0.66666667  0.77777778  0.88888889  1.        ]\n"
     ]
    }
   ],
   "source": [
    "import numpy as np\n",
    "\n",
    "arr = np.linspace(0, 1, 10)\n",
    "print arr"
   ]
  },
  {
   "cell_type": "markdown",
   "metadata": {
    "slideshow": {
     "slide_type": "subslide"
    }
   },
   "source": [
    "## 建立 ndarray 的方法（4）\n",
    "\n",
    "- `numpy.empty()`\n",
    "- 建立尚未初始化的陣列\n",
    "- 輸入一個數字建立一維空陣列\n",
    "- 輸入 tuple 建立多維空陣列"
   ]
  },
  {
   "cell_type": "code",
   "execution_count": 6,
   "metadata": {
    "collapsed": false,
    "slideshow": {
     "slide_type": "subslide"
    }
   },
   "outputs": [
    {
     "name": "stdout",
     "output_type": "stream",
     "text": [
      "[  4.94065646e-324   1.48219694e-323   2.47032823e-323   3.45845952e-323\n",
      "   4.44659081e-323]\n",
      "\n",
      "\n",
      "[[  0.00000000e+000  -1.49457183e-154   2.20394726e-314]\n",
      " [  2.26127614e-314   2.26066305e-314   4.17203565e-309]]\n",
      "\n",
      "\n",
      "[[[  0.00000000e+000  -1.29073742e-231]\n",
      "  [  2.21644559e-314   2.21645492e-314]\n",
      "  [  2.21645495e-314   2.21645498e-314]]\n",
      "\n",
      " [[  2.21645502e-314   2.21645505e-314]\n",
      "  [  2.21645508e-314   2.21645511e-314]\n",
      "  [  2.21645514e-314   8.34402697e-309]]]\n"
     ]
    }
   ],
   "source": [
    "import numpy as np\n",
    "\n",
    "arr = np.empty(5)\n",
    "print arr\n",
    "print \"\\n\"\n",
    "arr = np.empty((2, 3))\n",
    "print arr\n",
    "print \"\\n\"\n",
    "arr = np.empty((2, 3, 2))\n",
    "print arr"
   ]
  },
  {
   "cell_type": "markdown",
   "metadata": {
    "slideshow": {
     "slide_type": "subslide"
    }
   },
   "source": [
    "## 建立 ndarray 的方法（5）\n",
    "\n",
    "- 用類似的例子練習看看 `numpy.zeros()` 與 `numpy.ones()`"
   ]
  },
  {
   "cell_type": "markdown",
   "metadata": {
    "slideshow": {
     "slide_type": "subslide"
    }
   },
   "source": [
    "## 建立 ndarray 的方法（6）\n",
    "\n",
    "- `numpy.eye()`\n",
    "- 建立單位矩陣\n",
    "- 輸入 `n` 就會得到 `nxn` 的單位矩陣"
   ]
  },
  {
   "cell_type": "code",
   "execution_count": 7,
   "metadata": {
    "collapsed": false,
    "slideshow": {
     "slide_type": "subslide"
    }
   },
   "outputs": [
    {
     "name": "stdout",
     "output_type": "stream",
     "text": [
      "[[ 1.  0.  0.]\n",
      " [ 0.  1.  0.]\n",
      " [ 0.  0.  1.]]\n",
      "\n",
      "\n",
      "[[ 1.  0.  0.  0.  0.]\n",
      " [ 0.  1.  0.  0.  0.]\n",
      " [ 0.  0.  1.  0.  0.]\n",
      " [ 0.  0.  0.  1.  0.]\n",
      " [ 0.  0.  0.  0.  1.]]\n"
     ]
    }
   ],
   "source": [
    "import numpy as np\n",
    "\n",
    "arr = np.eye(3) # 3x3 的單位矩陣\n",
    "print arr\n",
    "print \"\\n\"\n",
    "arr = np.eye(5) # 5x5 的單位矩陣\n",
    "print arr"
   ]
  },
  {
   "cell_type": "markdown",
   "metadata": {
    "slideshow": {
     "slide_type": "subslide"
    }
   },
   "source": [
    "## 建立 ndarray 的方法（7）\n",
    "\n",
    "- `numpy.diag()`\n",
    "- 建立對角矩陣"
   ]
  },
  {
   "cell_type": "code",
   "execution_count": 8,
   "metadata": {
    "collapsed": false
   },
   "outputs": [
    {
     "name": "stdout",
     "output_type": "stream",
     "text": [
      "[[1 0 0]\n",
      " [0 2 0]\n",
      " [0 0 3]]\n"
     ]
    }
   ],
   "source": [
    "import numpy as np\n",
    "\n",
    "arr = np.diag([1, 2, 3])\n",
    "print arr"
   ]
  },
  {
   "cell_type": "markdown",
   "metadata": {
    "slideshow": {
     "slide_type": "subslide"
    }
   },
   "source": [
    "## 建立 ndarray 的方法（8）\n",
    "\n",
    "- `numpy.random.rand()`\n",
    "- 建立符合 0~1 均勻分布的陣列"
   ]
  },
  {
   "cell_type": "code",
   "execution_count": 9,
   "metadata": {
    "collapsed": false
   },
   "outputs": [
    {
     "data": {
      "image/png": "[encoded data removed]",
      "text/plain": [
       "<matplotlib.figure.Figure at 0x110e66c90>"
      ]
     },
     "metadata": {},
     "output_type": "display_data"
    }
   ],
   "source": [
    "import numpy as np\n",
    "import matplotlib.pyplot as plt\n",
    "\n",
    "size = 1000\n",
    "arr = np.random.rand(size)\n",
    "plt.hist(arr)\n",
    "plt.show()"
   ]
  },
  {
   "cell_type": "markdown",
   "metadata": {
    "slideshow": {
     "slide_type": "subslide"
    }
   },
   "source": [
    "## 建立 ndarray 的方法（9）\n",
    "\n",
    "- `numpy.random.randn()`\n",
    "- 建立符合平均數 0，標準差 1 的常態分佈陣列"
   ]
  },
  {
   "cell_type": "code",
   "execution_count": 10,
   "metadata": {
    "collapsed": false
   },
   "outputs": [
    {
     "data": {
      "image/png": "[encoded data removed]",
      "text/plain": [
       "<matplotlib.figure.Figure at 0x1151fd110>"
      ]
     },
     "metadata": {},
     "output_type": "display_data"
    }
   ],
   "source": [
    "import numpy as np\n",
    "import matplotlib.pyplot as plt\n",
    "\n",
    "size = 1000\n",
    "arr = np.random.randn(size)\n",
    "plt.hist(arr)\n",
    "plt.show()"
   ]
  },
  {
   "cell_type": "markdown",
   "metadata": {
    "slideshow": {
     "slide_type": "subslide"
    }
   },
   "source": [
    "## 建立 ndarray 的方法（10）\n",
    "\n",
    "- `numpy.random.randint(low, high, size)`\n",
    "- 建立介於 low，high 之間的整數陣列"
   ]
  },
  {
   "cell_type": "code",
   "execution_count": 11,
   "metadata": {
    "collapsed": false
   },
   "outputs": [
    {
     "name": "stdout",
     "output_type": "stream",
     "text": [
      "[ 5 66 25 57  9 78  9 41 10 58]\n",
      "[[54 50  4 41 10]\n",
      " [ 9 75 96 26 93]]\n"
     ]
    }
   ],
   "source": [
    "import numpy as np\n",
    "\n",
    "arr = np.random.randint(0, 100, size = 10)\n",
    "print arr\n",
    "arr = np.random.randint(0, 100, size = (2, 5))\n",
    "print arr"
   ]
  },
  {
   "cell_type": "markdown",
   "metadata": {
    "slideshow": {
     "slide_type": "subslide"
    }
   },
   "source": [
    "## 建立 ndarray 的方法（11）\n",
    "\n",
    "- 練習在 `[-2, 2]` 之間均分出 50 個數字的數列\n",
    "- 練習建立一個 `(5, 5)` 的單位矩陣\n",
    "- 練習在隨機產出 5 個介於 100 與 200 之間整數的數列"
   ]
  },
  {
   "cell_type": "markdown",
   "metadata": {
    "slideshow": {
     "slide_type": "slide"
    }
   },
   "source": [
    "## 資料類型\n",
    "\n",
    "- 使用 `dtype` 屬性來指定或檢視\n",
    "- 整數 `int`\n",
    "    - int8\n",
    "    - int16\n",
    "    - int32\n",
    "    - int64（預設）"
   ]
  },
  {
   "cell_type": "code",
   "execution_count": 12,
   "metadata": {
    "collapsed": false,
    "slideshow": {
     "slide_type": "subslide"
    }
   },
   "outputs": [
    {
     "name": "stdout",
     "output_type": "stream",
     "text": [
      "[1 1 1 1 1]\n",
      "int64\n",
      "[1 1 1 1 1]\n",
      "int8\n"
     ]
    }
   ],
   "source": [
    "import numpy as np\n",
    "\n",
    "arr = np.ones(5, dtype = 'int')\n",
    "print arr\n",
    "print arr.dtype # 預設是 64 位元的整數\n",
    "arr = np.ones(5, dtype = 'int8') # 可以改成 8 位元的整數\n",
    "print arr\n",
    "print arr.dtype"
   ]
  },
  {
   "cell_type": "markdown",
   "metadata": {
    "slideshow": {
     "slide_type": "subslide"
    }
   },
   "source": [
    "## 資料類型（2）\n",
    "\n",
    "- 使用 `dtype` 屬性來指定或檢視\n",
    "- 浮點數 `float`\n",
    "    - float16\n",
    "    - float32\n",
    "    - float64（預設）\n",
    "    - float128"
   ]
  },
  {
   "cell_type": "code",
   "execution_count": 13,
   "metadata": {
    "collapsed": false,
    "slideshow": {
     "slide_type": "subslide"
    }
   },
   "outputs": [
    {
     "name": "stdout",
     "output_type": "stream",
     "text": [
      "[ 1.  1.  1.  1.  1.]\n",
      "float64\n",
      "[ 1.  1.  1.  1.  1.]\n",
      "float16\n"
     ]
    }
   ],
   "source": [
    "import numpy as np\n",
    "\n",
    "arr = np.ones(5, dtype = 'float')\n",
    "print arr\n",
    "print arr.dtype # 預設是 64 位元的浮點數\n",
    "arr = np.ones(5, dtype = 'float16') # 可以改成 16 位元的浮點數\n",
    "print arr\n",
    "print arr.dtype"
   ]
  },
  {
   "cell_type": "markdown",
   "metadata": {
    "slideshow": {
     "slide_type": "subslide"
    }
   },
   "source": [
    "## 資料類型（3）\n",
    "\n",
    "- 使用 `dtype` 屬性來指定或檢視\n",
    "- 複數\n",
    "    - complex64\n",
    "    - complex128（預設）\n",
    "    - complex256"
   ]
  },
  {
   "cell_type": "code",
   "execution_count": 14,
   "metadata": {
    "collapsed": false,
    "slideshow": {
     "slide_type": "subslide"
    }
   },
   "outputs": [
    {
     "name": "stdout",
     "output_type": "stream",
     "text": [
      "[ 1.+0.j  1.+0.j  1.+0.j  1.+0.j  1.+0.j]\n",
      "complex128\n",
      "[ 1.+0.j  1.+0.j  1.+0.j  1.+0.j  1.+0.j]\n",
      "complex64\n"
     ]
    }
   ],
   "source": [
    "import numpy as np\n",
    "\n",
    "arr = np.ones(5, dtype = 'complex')\n",
    "print arr\n",
    "print arr.dtype # 預設是 128 位元的複數\n",
    "arr = np.ones(5, dtype = 'complex64') # 可以改成 64 位元的複數\n",
    "print arr\n",
    "print arr.dtype"
   ]
  },
  {
   "cell_type": "markdown",
   "metadata": {
    "slideshow": {
     "slide_type": "subslide"
    }
   },
   "source": [
    "## 資料類型（4）\n",
    "\n",
    "- 使用 `dtype` 屬性來指定或檢視\n",
    "- 布林\n",
    "    - bool"
   ]
  },
  {
   "cell_type": "code",
   "execution_count": 15,
   "metadata": {
    "collapsed": false
   },
   "outputs": [
    {
     "name": "stdout",
     "output_type": "stream",
     "text": [
      "[ True False]\n",
      "bool\n"
     ]
    }
   ],
   "source": [
    "import numpy as np\n",
    "\n",
    "arr = np.array((1, 0), dtype = 'bool')\n",
    "print arr\n",
    "print arr.dtype"
   ]
  },
  {
   "cell_type": "markdown",
   "metadata": {
    "slideshow": {
     "slide_type": "subslide"
    }
   },
   "source": [
    "## 資料類型（5）\n",
    "\n",
    "- 使用 `dtype` 屬性來指定或檢視\n",
    "- 文字\n",
    "    - string\\_（預設）\n",
    "    - unicode\\_"
   ]
  },
  {
   "cell_type": "code",
   "execution_count": 16,
   "metadata": {
    "collapsed": false,
    "slideshow": {
     "slide_type": "subslide"
    }
   },
   "outputs": [
    {
     "name": "stdout",
     "output_type": "stream",
     "text": [
      "|S4\n",
      "<U4\n"
     ]
    }
   ],
   "source": [
    "import numpy as np\n",
    "\n",
    "arr = np.array([\"1\", \"One\", \"True\"]) # 預設為 string\n",
    "print arr.dtype\n",
    "arr = np.array((\"1\", \"One\", \"True\"), dtype = 'unicode_')\n",
    "print arr.dtype"
   ]
  },
  {
   "cell_type": "markdown",
   "metadata": {
    "slideshow": {
     "slide_type": "subslide"
    }
   },
   "source": [
    "## 資料類型（6）\n",
    "\n",
    "- ndarray 只能容許一個變數類型\n",
    "- 同時儲存有數值，布林值，會被自動轉換為數值\n",
    "- 同時儲存有數值，布林值與文字，會被自動轉換為文字"
   ]
  },
  {
   "cell_type": "code",
   "execution_count": 17,
   "metadata": {
    "collapsed": false
   },
   "outputs": [
    {
     "name": "stdout",
     "output_type": "stream",
     "text": [
      "int64\n",
      "|S21\n"
     ]
    }
   ],
   "source": [
    "import numpy as np\n",
    "\n",
    "arr = np.array([1, True])\n",
    "print arr.dtype\n",
    "arr = np.array([1, True, \"one\"])\n",
    "print arr.dtype"
   ]
  },
  {
   "cell_type": "markdown",
   "metadata": {
    "slideshow": {
     "slide_type": "subslide"
    }
   },
   "source": [
    "## 資料類型（7）\n",
    "\n",
    "- 除了在建立的時候使用 `dtype` 指定資料類型\n",
    "- 也可以使用 `astype()` 方法轉換資料類型"
   ]
  },
  {
   "cell_type": "code",
   "execution_count": 18,
   "metadata": {
    "collapsed": false
   },
   "outputs": [
    {
     "name": "stdout",
     "output_type": "stream",
     "text": [
      "float64\n",
      "[[ True False False]\n",
      " [False  True False]\n",
      " [False False  True]]\n",
      "bool\n"
     ]
    }
   ],
   "source": [
    "import numpy as np\n",
    "\n",
    "arr = np.eye(3)\n",
    "print arr.dtype\n",
    "arr = arr.astype('bool')\n",
    "print arr\n",
    "print arr.dtype"
   ]
  },
  {
   "cell_type": "markdown",
   "metadata": {
    "slideshow": {
     "slide_type": "slide"
    }
   },
   "source": [
    "## 選擇 ndarray 的元素\n",
    "\n",
    "- 用索引值選擇"
   ]
  },
  {
   "cell_type": "code",
   "execution_count": 19,
   "metadata": {
    "collapsed": false
   },
   "outputs": [
    {
     "name": "stdout",
     "output_type": "stream",
     "text": [
      "[1 2 3 4 5]\n",
      "1\n",
      "2\n",
      "5\n",
      "[1 4 5]\n"
     ]
    }
   ],
   "source": [
    "import numpy as np\n",
    "\n",
    "arr = np.arange(1, 6)\n",
    "print arr\n",
    "print arr[0]\n",
    "print arr[1]\n",
    "print arr[-1]\n",
    "print arr[[0, 3, 4]] # To the rescue!"
   ]
  },
  {
   "cell_type": "markdown",
   "metadata": {
    "slideshow": {
     "slide_type": "subslide"
    }
   },
   "source": [
    "## 選擇 ndarray 的元素（2）\n",
    "\n",
    "- 用索引值選擇\n",
    "- slicing `arr[startIndex: endIndex: stepValue]`"
   ]
  },
  {
   "cell_type": "code",
   "execution_count": 20,
   "metadata": {
    "collapsed": false
   },
   "outputs": [
    {
     "name": "stdout",
     "output_type": "stream",
     "text": [
      "[1 2 3]\n",
      "[4 5]\n",
      "[1 3 5]\n"
     ]
    }
   ],
   "source": [
    "import numpy as np\n",
    "\n",
    "arr = np.arange(1, 6)\n",
    "print arr[:3]\n",
    "print arr[3:]\n",
    "print arr[0:5:2]"
   ]
  },
  {
   "cell_type": "markdown",
   "metadata": {
    "slideshow": {
     "slide_type": "subslide"
    }
   },
   "source": [
    "## 選擇 ndarray 的元素（3）\n",
    "\n",
    "- 多維度的 ndarray 元素選擇"
   ]
  },
  {
   "cell_type": "code",
   "execution_count": 21,
   "metadata": {
    "collapsed": false,
    "slideshow": {
     "slide_type": "subslide"
    }
   },
   "outputs": [
    {
     "name": "stdout",
     "output_type": "stream",
     "text": [
      "[[0 1 2 3 4]\n",
      " [5 6 7 8 9]]\n",
      "5\n",
      "\n",
      "\n",
      "[[[ 0  1  2  3  4]\n",
      "  [ 5  6  7  8  9]]\n",
      "\n",
      " [[10 11 12 13 14]\n",
      "  [15 16 17 18 19]]]\n",
      "5\n"
     ]
    }
   ],
   "source": [
    "import numpy as np\n",
    "\n",
    "arr = np.array(range(10)).reshape(2, 5)\n",
    "print arr \n",
    "print arr[1, 0]\n",
    "print(\"\\n\")\n",
    "arr = np.array(range(20)).reshape(2, 2, 5)\n",
    "print arr\n",
    "print arr[0, 1, 0]"
   ]
  },
  {
   "cell_type": "markdown",
   "metadata": {
    "slideshow": {
     "slide_type": "subslide"
    }
   },
   "source": [
    "## 選擇 ndarray 的元素（4）\n",
    "\n",
    "- 用布林選擇"
   ]
  },
  {
   "cell_type": "code",
   "execution_count": 22,
   "metadata": {
    "collapsed": false
   },
   "outputs": [
    {
     "name": "stdout",
     "output_type": "stream",
     "text": [
      "[ True  True  True  True  True False False False False False]\n",
      "[0 1 2 3 4]\n"
     ]
    }
   ],
   "source": [
    "import numpy as np\n",
    "\n",
    "arr = np.array(range(10))\n",
    "num_filter = arr < 5\n",
    "print num_filter\n",
    "print arr[num_filter]"
   ]
  },
  {
   "cell_type": "markdown",
   "metadata": {
    "slideshow": {
     "slide_type": "subslide"
    }
   },
   "source": [
    "## 選擇 ndarray 的元素（5）\n",
    "\n",
    "- 練習選出未滿 20 與超過 30 的元素\n",
    "\n",
    "```python\n",
    "age = [19, 21, 20, 19, 21, 17, 30, 36, 90]\n",
    "```"
   ]
  },
  {
   "cell_type": "markdown",
   "metadata": {
    "slideshow": {
     "slide_type": "subslide"
    }
   },
   "source": [
    "## 選擇 ndarray 的元素（6）\n",
    "\n",
    "- 練習從五人中選出 BMI > 21 的元素\n",
    "\n",
    "```python\n",
    "heights = [173, 168, 171, 189, 179]\n",
    "weights = [65.4, 59.2, 63.6, 88.4, 68.7]\n",
    "```"
   ]
  },
  {
   "cell_type": "markdown",
   "metadata": {
    "slideshow": {
     "slide_type": "subslide"
    }
   },
   "source": [
    "## 選擇 ndarray 的元素（7）\n",
    "\n",
    "- 練習使用布林選出 Matthew Perry 與 Lisa Kudrow\n",
    "\n",
    "```python\n",
    "friends_stars = [\"Jennifer Aniston\", \"Courteney Cox\", \"Lisa Kudrow\",\n",
    "\"Matt LeBlanc\", \"Matthew Perry\", \"David Schwimmer\"]\n",
    "```"
   ]
  },
  {
   "cell_type": "markdown",
   "metadata": {
    "slideshow": {
     "slide_type": "slide"
    }
   },
   "source": [
    "## ndarray 的運算\n",
    "\n",
    "- 不論一維的 ndarray 與二維的 ndarray 都符合 element-wise 運算"
   ]
  },
  {
   "cell_type": "code",
   "execution_count": 23,
   "metadata": {
    "collapsed": false,
    "slideshow": {
     "slide_type": "subslide"
    }
   },
   "outputs": [
    {
     "name": "stdout",
     "output_type": "stream",
     "text": [
      "[0 1 2 3 4]\n",
      "[0 1 2 3 4]\n",
      "\n",
      "\n",
      "[ 0  1  4  9 16]\n"
     ]
    }
   ],
   "source": [
    "import numpy as np\n",
    "\n",
    "arr_1 = np.arange(5)\n",
    "arr_2 = np.arange(5)\n",
    "print arr_1\n",
    "print arr_2\n",
    "print \"\\n\"\n",
    "print arr_1 * arr_2"
   ]
  },
  {
   "cell_type": "code",
   "execution_count": 24,
   "metadata": {
    "collapsed": false,
    "slideshow": {
     "slide_type": "subslide"
    }
   },
   "outputs": [
    {
     "name": "stdout",
     "output_type": "stream",
     "text": [
      "[[0 1 2 3 4]\n",
      " [5 6 7 8 9]]\n",
      "[[0 1 2 3 4]\n",
      " [5 6 7 8 9]]\n",
      "\n",
      "\n",
      "[[ 0  1  4  9 16]\n",
      " [25 36 49 64 81]]\n"
     ]
    }
   ],
   "source": [
    "import numpy as np\n",
    "\n",
    "arr_1 = np.arange(10).reshape(2, 5)\n",
    "arr_2 = np.arange(10).reshape(2, 5)\n",
    "print arr_1\n",
    "print arr_2\n",
    "print \"\\n\"\n",
    "print arr_1 * arr_2"
   ]
  },
  {
   "cell_type": "markdown",
   "metadata": {
    "slideshow": {
     "slide_type": "subslide"
    }
   },
   "source": [
    "## ndarray 的運算（2）\n",
    "\n",
    "- 二維的 ndarray 可以進行矩陣的**內積**運算\n",
    "- 使用 `.dot()` 方法或 `np.dot()`"
   ]
  },
  {
   "cell_type": "code",
   "execution_count": 25,
   "metadata": {
    "collapsed": false
   },
   "outputs": [
    {
     "name": "stdout",
     "output_type": "stream",
     "text": [
      "[[ 60  70]\n",
      " [160 195]]\n",
      "\n",
      "\n",
      "[[ 60  70]\n",
      " [160 195]]\n"
     ]
    }
   ],
   "source": [
    "import numpy as np\n",
    "\n",
    "arr_1 = np.arange(10).reshape(2, 5)\n",
    "arr_2 = np.arange(10).reshape(5, 2)\n",
    "print arr_1.dot(arr_2)\n",
    "print \"\\n\"\n",
    "print np.dot(arr_1, arr_2)"
   ]
  },
  {
   "cell_type": "markdown",
   "metadata": {
    "slideshow": {
     "slide_type": "subslide"
    }
   },
   "source": [
    "## ndarray 的運算（3）\n",
    "\n",
    "- 練習計算 $u^Tv$\n",
    "\n",
    "$$u = \\begin{bmatrix}\n",
    "    4 \\\\\n",
    "    -4 \\\\\n",
    "    -3\n",
    "\\end{bmatrix}$$\n",
    "\n",
    "$$v = \\begin{bmatrix}\n",
    "    4 \\\\\n",
    "    2 \\\\\n",
    "    4\n",
    "\\end{bmatrix}$$"
   ]
  },
  {
   "cell_type": "markdown",
   "metadata": {
    "slideshow": {
     "slide_type": "subslide"
    }
   },
   "source": [
    "## ndarray 的運算（4）\n",
    "\n",
    "- 練習計算 $A * I$ 與 $I * A$\n",
    "\n",
    "$$A = \\begin{bmatrix}\n",
    "    1 & 2 & 3 \\\\\n",
    "    4 & 5 & 6 \\\\\n",
    "    7 & 8 & 9 \\\\\n",
    "\\end{bmatrix}$$\n",
    "\n",
    "$$I = \\begin{bmatrix}\n",
    "    1 & 0 & 0 \\\\\n",
    "    0 & 1 & 0 \\\\\n",
    "    0 & 0 & 1 \\\\\n",
    "\\end{bmatrix}$$"
   ]
  },
  {
   "cell_type": "markdown",
   "metadata": {
    "slideshow": {
     "slide_type": "subslide"
    }
   },
   "source": [
    "## ndarray 的運算（5）\n",
    "\n",
    "- 練習計算 $A * B$ 與 $B * A$\n",
    "\n",
    "$$A = \\begin{bmatrix}\n",
    "    1 & 2 \\\\\n",
    "    4 & 5 \\\\\n",
    "\\end{bmatrix}$$\n",
    "\n",
    "$$B = \\begin{bmatrix}\n",
    "    4 & 3 \\\\\n",
    "    2 & 1 \\\\\n",
    "\\end{bmatrix}$$"
   ]
  },
  {
   "cell_type": "markdown",
   "metadata": {
    "slideshow": {
     "slide_type": "slide"
    }
   },
   "source": [
    "## 常用屬性與方法\n",
    "\n",
    "- 元素個數：`.size`\n",
    "- 外觀：`.shape`\n",
    "- 維度：`.ndim`"
   ]
  },
  {
   "cell_type": "markdown",
   "metadata": {
    "slideshow": {
     "slide_type": "subslide"
    }
   },
   "source": [
    "## 常用屬性與方法（2）\n",
    "\n",
    "- 變形：`.reshape()`\n",
    "- 轉置：`.T`\n",
    "- 攤平：`.ravel()`\n",
    "- 依條件取代：`.where()`"
   ]
  },
  {
   "cell_type": "markdown",
   "metadata": {
    "slideshow": {
     "slide_type": "subslide"
    }
   },
   "source": [
    "## 常用屬性與方法（3）\n",
    "\n",
    "- 可以指定 axis\n",
    "    - 相乘：`.prod()`\n",
    "    - 加總：`.sum()`\n",
    "    - 平均：`.mean()`"
   ]
  },
  {
   "cell_type": "markdown",
   "metadata": {
    "slideshow": {
     "slide_type": "slide"
    }
   },
   "source": [
    "## 作業\n",
    "\n",
    "1. 建立一個外觀 `(9, 9)` 的 ndarray 並且填入九九乘法表（hw301.py）\n",
    "2. 利用 `numpy` 提供的 `.size` 屬性、`.sum()` 方法、`.mean()` 方法與 `.sqrt()` 實作[樣本標準差](https://zh.wikipedia.org/wiki/%E6%A8%99%E6%BA%96%E5%B7%AE)函數（hw302.py）\n",
    "\n",
    "\n",
    "$$SD = \\sqrt{\\frac{1}{N-1}\\sum_{i=1}^{N}(x_i - \\bar{x})^2}$$"
   ]
  },
  {
   "cell_type": "markdown",
   "metadata": {
    "slideshow": {
     "slide_type": "slide"
    }
   },
   "source": [
    "## NumPy Documentation\n",
    "\n",
    "https://docs.scipy.org/doc/numpy-dev/user/index.html"
   ]
  }
 ],
 "metadata": {
  "celltoolbar": "Slideshow",
  "kernelspec": {
   "display_name": "Python 2",
   "language": "python",
   "name": "python2"
  },
  "language_info": {
   "codemirror_mode": {
    "name": "ipython",
    "version": 2
   },
   "file_extension": ".py",
   "mimetype": "text/x-python",
   "name": "python",
   "nbconvert_exporter": "python",
   "pygments_lexer": "ipython2",
   "version": "2.7.13"
  }
 },
 "nbformat": 4,
 "nbformat_minor": 2
}
