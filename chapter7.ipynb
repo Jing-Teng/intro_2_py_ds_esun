{
 "cells": [
  {
   "cell_type": "markdown",
   "metadata": {
    "slideshow": {
     "slide_type": "slide"
    }
   },
   "source": [
    "# Python 與機器學習（2）\n",
    "\n",
    "## 郭耀仁"
   ]
  },
  {
   "cell_type": "markdown",
   "metadata": {
    "slideshow": {
     "slide_type": "slide"
    }
   },
   "source": [
    "## 課程內容\n",
    "\n",
    "- 分類問題\n",
    "    - 羅吉斯迴歸\n",
    "    - 感知器\n",
    "    - 支持向量機\n",
    "    - 決策樹\n",
    "    - K 最近鄰\n",
    "    - 整體學習\n",
    "- 分群問題"
   ]
  },
  {
   "cell_type": "markdown",
   "metadata": {
    "slideshow": {
     "slide_type": "slide"
    }
   },
   "source": [
    "# 羅吉斯迴歸"
   ]
  },
  {
   "cell_type": "markdown",
   "metadata": {
    "slideshow": {
     "slide_type": "subslide"
    }
   },
   "source": [
    "## 羅吉斯迴歸\n",
    "\n",
    "- 我們從 Logistic Regression 羅吉斯迴歸開始\n",
    "- 雖然有迴歸兩個字，但其實是個分類器\n",
    "- 處理二元分類問題\n",
    "    - Hot dog(1)/Not hot dog(0)\n",
    "    - 垃圾(1)/非垃圾郵件(0)\n",
    "    - 詐欺(1)/非詐欺交易(0)"
   ]
  },
  {
   "cell_type": "code",
   "execution_count": 1,
   "metadata": {
    "collapsed": false,
    "slideshow": {
     "slide_type": "skip"
    }
   },
   "outputs": [
    {
     "data": {
      "text/plain": [
       "<matplotlib.lines.Line2D at 0x118209550>"
      ]
     },
     "execution_count": 1,
     "metadata": {},
     "output_type": "execute_result"
    }
   ],
   "source": [
    "import numpy as np\n",
    "import matplotlib.pyplot as plt\n",
    "\n",
    "x_arr_1, x_arr_2 = np.arange(1, 6), np.arange(7, 12)\n",
    "y_arr_1, y_arr_2 = np.zeros(5), np.ones(5)\n",
    "plt.scatter(np.concatenate([x_arr_1, x_arr_2]), np.concatenate([y_arr_1, y_arr_2]), marker = 'x', color = 'r')\n",
    "plt.yticks([0, 1], [\"Negative(0)\", \"Positive(1)\"])\n",
    "plt.xticks([])\n",
    "plt.axhline(y = 0.5, c = 'k', ls = '--', linewidth = 3)"
   ]
  },
  {
   "cell_type": "code",
   "execution_count": 2,
   "metadata": {
    "collapsed": false,
    "slideshow": {
     "slide_type": "subslide"
    }
   },
   "outputs": [
    {
     "data": {
      "image/png": "[encoded data removed]",
      "text/plain": [
       "<matplotlib.figure.Figure at 0x10e7f0850>"
      ]
     },
     "metadata": {},
     "output_type": "display_data"
    }
   ],
   "source": [
    "plt.show()"
   ]
  },
  {
   "cell_type": "code",
   "execution_count": 3,
   "metadata": {
    "collapsed": false,
    "slideshow": {
     "slide_type": "skip"
    }
   },
   "outputs": [
    {
     "data": {
      "text/plain": [
       "[<matplotlib.lines.Line2D at 0x1183bf810>]"
      ]
     },
     "execution_count": 3,
     "metadata": {},
     "output_type": "execute_result"
    }
   ],
   "source": [
    "import numpy as np\n",
    "import matplotlib.pyplot as plt\n",
    "\n",
    "x_arr_1, x_arr_2 = np.arange(1, 6), np.arange(7, 12)\n",
    "y_arr_1, y_arr_2 = np.zeros(5), np.ones(5)\n",
    "plt.scatter(np.concatenate([x_arr_1, x_arr_2]), np.concatenate([y_arr_1, y_arr_2]), marker = 'x', color = 'r')\n",
    "plt.yticks([0, 1], [\"Negative(0)\", \"Positive(1)\"])\n",
    "plt.xticks([])\n",
    "plt.plot([0, 12], [0, 1], c = 'k', ls = '--', linewidth = 3)"
   ]
  },
  {
   "cell_type": "code",
   "execution_count": 4,
   "metadata": {
    "collapsed": false,
    "slideshow": {
     "slide_type": "subslide"
    }
   },
   "outputs": [
    {
     "data": {
      "image/png": "[encoded data removed]",
      "text/plain": [
       "<matplotlib.figure.Figure at 0x11839da50>"
      ]
     },
     "metadata": {},
     "output_type": "display_data"
    }
   ],
   "source": [
    "plt.show()"
   ]
  },
  {
   "cell_type": "code",
   "execution_count": 5,
   "metadata": {
    "collapsed": false,
    "slideshow": {
     "slide_type": "skip"
    }
   },
   "outputs": [
    {
     "data": {
      "text/plain": [
       "[<matplotlib.lines.Line2D at 0x118405e10>]"
      ]
     },
     "execution_count": 5,
     "metadata": {},
     "output_type": "execute_result"
    }
   ],
   "source": [
    "import numpy as np\n",
    "import matplotlib.pyplot as plt\n",
    "\n",
    "def sigmoid_fun(x):\n",
    "    return 1 / (1 + np.exp(-x))\n",
    "\n",
    "x_arr_1, x_arr_2 = np.arange(-12, -7), np.arange(7, 12)\n",
    "y_arr_1, y_arr_2 = np.zeros(5), np.ones(5)\n",
    "plt.scatter(np.concatenate([x_arr_1, x_arr_2]), np.concatenate([y_arr_1, y_arr_2]), marker = 'x', color = 'r')\n",
    "plt.xticks([])\n",
    "plt.yticks([0, 1], [\"Negative(0)\", \"Positive(1)\"])\n",
    "x = np.linspace(-12, 12)\n",
    "y = sigmoid_fun(x)\n",
    "plt.plot(x, y, c = \"k\", linewidth = 3, linestyle = \"--\", alpha = 0.3)"
   ]
  },
  {
   "cell_type": "code",
   "execution_count": 6,
   "metadata": {
    "collapsed": false
   },
   "outputs": [
    {
     "data": {
      "image/png": "[encoded data removed]",
      "text/plain": [
       "<matplotlib.figure.Figure at 0x1182ab550>"
      ]
     },
     "metadata": {},
     "output_type": "display_data"
    }
   ],
   "source": [
    "plt.show()"
   ]
  },
  {
   "cell_type": "markdown",
   "metadata": {
    "slideshow": {
     "slide_type": "subslide"
    }
   },
   "source": [
    "## 羅吉斯迴歸（2）\n",
    "\n",
    "- 我們需要將 $\\theta^{T}x$ 輸出的值域轉換至 0 到 1 之間\n",
    "- 透過 $g$ 函數，也就是 sigmoid function\n",
    "\n",
    "$$g(z) = \\frac{1}{1+e^{-z}}$$\n",
    "$$h(x) = g(\\theta^{T}x) = \\frac{1}{1 + e^{-\\theta^{T}x}}$$"
   ]
  },
  {
   "cell_type": "markdown",
   "metadata": {
    "slideshow": {
     "slide_type": "subslide"
    }
   },
   "source": [
    "## 羅吉斯迴歸（3）\n",
    "\n",
    "- 接著我們再做一次轉換，決定 $g(z)$ 輸出的機率該如何轉換至 $\\hat{y} \\in {\\{0, 1\\}}$\n",
    "\n",
    "$$  H(z)=\n",
    "  \\begin{cases}\n",
    "    1       & \\quad \\text{if } z\\geq 0.5\\\\\n",
    "    0  & \\quad \\text{otherwise}\\\\\n",
    "  \\end{cases}\n",
    "$$\n",
    "\n",
    "$$\\hat{y} =h(x)= H(g(\\theta^{T}x))$$"
   ]
  },
  {
   "cell_type": "markdown",
   "metadata": {
    "slideshow": {
     "slide_type": "subslide"
    }
   },
   "source": [
    "## 羅吉斯迴歸（4）\n",
    "\n",
    "- 流程：\n",
    "    - 建立迴歸模型 $\\theta^Tx$\n",
    "    - 將 $\\theta^Tx$ 作為 Sigmoid 函數的輸入，得到 $g(\\theta^Tx)$\n",
    "    - 將 $g(\\theta^Tx)$ 作為 $H$ 的輸入，得到 $\\hat{y}$"
   ]
  },
  {
   "cell_type": "markdown",
   "metadata": {
    "slideshow": {
     "slide_type": "subslide"
    }
   },
   "source": [
    "## 羅吉斯迴歸（5）\n",
    "\n",
    "- Decision Boundary\n",
    "    - $\\theta^Tx$ > 0 的時候預測 $\\hat{y} = 1$"
   ]
  },
  {
   "cell_type": "code",
   "execution_count": 7,
   "metadata": {
    "collapsed": false,
    "slideshow": {
     "slide_type": "skip"
    }
   },
   "outputs": [
    {
     "data": {
      "text/plain": [
       "[<matplotlib.lines.Line2D at 0x118642cd0>]"
      ]
     },
     "execution_count": 7,
     "metadata": {},
     "output_type": "execute_result"
    }
   ],
   "source": [
    "import numpy as np\n",
    "import matplotlib.pyplot as plt\n",
    "\n",
    "def sigmoid_fun(x):\n",
    "    return 1 / (1 + np.exp(-x))\n",
    "\n",
    "x = np.linspace(-10, 10)\n",
    "y = sigmoid_fun(x)\n",
    "plt.plot(x, y)\n",
    "plt.xticks([]), plt.yticks([0, 0.5, 1])\n",
    "ax = plt.gca() # get current axes\n",
    "ax.spines['right'].set_color('none')\n",
    "ax.spines['top'].set_color('none')\n",
    "ax.spines['left'].set_position(('data', 0))\n",
    "ax.set_xlabel(\"$\\\\theta^Tx$\")\n",
    "plt.plot([0, 10], [0, 0], c = \"r\", linewidth = 5)"
   ]
  },
  {
   "cell_type": "code",
   "execution_count": 8,
   "metadata": {
    "collapsed": false,
    "slideshow": {
     "slide_type": "subslide"
    }
   },
   "outputs": [
    {
     "data": {
      "image/png": "[encoded data removed]",
      "text/plain": [
       "<matplotlib.figure.Figure at 0x10e7c8390>"
      ]
     },
     "metadata": {},
     "output_type": "display_data"
    }
   ],
   "source": [
    "plt.show()"
   ]
  },
  {
   "cell_type": "markdown",
   "metadata": {
    "slideshow": {
     "slide_type": "subslide"
    }
   },
   "source": [
    "## 羅吉斯迴歸（5）\n",
    "\n",
    "- Decision Boundary\n",
    "    - $\\theta^Tx$ < 0 的時候預測 $\\hat{y} = 0$"
   ]
  },
  {
   "cell_type": "code",
   "execution_count": 9,
   "metadata": {
    "collapsed": false,
    "slideshow": {
     "slide_type": "skip"
    }
   },
   "outputs": [
    {
     "data": {
      "text/plain": [
       "[<matplotlib.lines.Line2D at 0x1186a0a90>]"
      ]
     },
     "execution_count": 9,
     "metadata": {},
     "output_type": "execute_result"
    }
   ],
   "source": [
    "import numpy as np\n",
    "import matplotlib.pyplot as plt\n",
    "\n",
    "def sigmoid_fun(x):\n",
    "    return 1 / (1 + np.exp(-x))\n",
    "\n",
    "x = np.linspace(-10, 10)\n",
    "y = sigmoid_fun(x)\n",
    "plt.plot(x, y)\n",
    "plt.xticks([]), plt.yticks([0, 0.5, 1])\n",
    "ax = plt.gca() # get current axes\n",
    "ax.spines['right'].set_color('none')\n",
    "ax.spines['top'].set_color('none')\n",
    "ax.spines['left'].set_position(('data', 0))\n",
    "ax.set_xlabel(\"$\\\\theta^Tx$\")\n",
    "plt.plot([0, -10], [0, 0], c = \"r\", linewidth = 5)"
   ]
  },
  {
   "cell_type": "code",
   "execution_count": 10,
   "metadata": {
    "collapsed": false,
    "slideshow": {
     "slide_type": "subslide"
    }
   },
   "outputs": [
    {
     "data": {
      "image/png": "[encoded data removed]",
      "text/plain": [
       "<matplotlib.figure.Figure at 0x11841c650>"
      ]
     },
     "metadata": {},
     "output_type": "display_data"
    }
   ],
   "source": [
    "plt.show()"
   ]
  },
  {
   "cell_type": "markdown",
   "metadata": {
    "slideshow": {
     "slide_type": "subslide"
    }
   },
   "source": [
    "## 羅吉斯迴歸（6）\n",
    "\n",
    "- 假如 $(\\theta_0, \\theta_1, \\theta_2) = (-3, 1, 1)$：\n",
    "\n",
    "$$\\theta = \\begin{bmatrix}\n",
    "    -3 \\\\ 1 \\\\ 1\n",
    "\\end{bmatrix}$$\n",
    "\n",
    "$$h(x) = \\theta^{T}x = -3 + x_1 + x_2$$"
   ]
  },
  {
   "cell_type": "code",
   "execution_count": 11,
   "metadata": {
    "collapsed": false,
    "slideshow": {
     "slide_type": "skip"
    }
   },
   "outputs": [
    {
     "data": {
      "text/plain": [
       "<matplotlib.text.Text at 0x118b821d0>"
      ]
     },
     "execution_count": 11,
     "metadata": {},
     "output_type": "execute_result"
    }
   ],
   "source": [
    "import numpy as np\n",
    "import matplotlib.pyplot as plt\n",
    "import random\n",
    "\n",
    "x1_arr = np.linspace(0, 3, 100)\n",
    "x_points = np.linspace(0, 3, 20)\n",
    "x_points_len = int(len(x_points) / 2)\n",
    "zero_x_points = np.array([0.5, 1.5, 2.5])\n",
    "plt.scatter(zero_x_points, 3 - zero_x_points, c = \"b\")\n",
    "plt.scatter([0.5, 1, 2], [0.5, 1.5, 0.5], c = \"r\")\n",
    "plt.scatter([1.5, 2, 3], [2.5, 1.5, 2.5], c = \"g\", marker = \"x\")\n",
    "plt.plot(x1_arr, 3 - x1_arr, c = 'k')\n",
    "plt.xlabel(\"$x_1$\")\n",
    "plt.ylabel(\"$x_2$\")\n",
    "plt.text(0.5, 1, \"$\\\\theta^Tx < 0$\", size = 14)\n",
    "plt.text(2, 2, \"$\\\\theta^Tx > 0$\", size = 14)\n",
    "plt.title(\"Decision Boundary\")"
   ]
  },
  {
   "cell_type": "code",
   "execution_count": 12,
   "metadata": {
    "collapsed": false,
    "slideshow": {
     "slide_type": "subslide"
    }
   },
   "outputs": [
    {
     "data": {
      "image/png": "[encoded data removed]",
      "text/plain": [
       "<matplotlib.figure.Figure at 0x118405a10>"
      ]
     },
     "metadata": {},
     "output_type": "display_data"
    }
   ],
   "source": [
    "plt.show()"
   ]
  },
  {
   "cell_type": "markdown",
   "metadata": {
    "slideshow": {
     "slide_type": "subslide"
    }
   },
   "source": [
    "## 羅吉斯迴歸（7）\n",
    "\n",
    "- 成本函數\n",
    "- 使用跟迴歸問題不同的成本函數\n",
    "\n",
    "$$J(h(x), y) =\n",
    "  \\begin{cases}\n",
    "    -\\log(h(x))  & \\quad \\text{if } y = 1\\\\\n",
    "    -\\log(1 - h(x))  & \\quad \\text{if } y = 0\\\\\n",
    "  \\end{cases}\n",
    "$$"
   ]
  },
  {
   "cell_type": "code",
   "execution_count": 13,
   "metadata": {
    "collapsed": true,
    "slideshow": {
     "slide_type": "skip"
    }
   },
   "outputs": [],
   "source": [
    "import matplotlib.pyplot as plt\n",
    "import numpy as np\n",
    "\n",
    "x = np.arange(0.01, 1, 0.01)\n",
    "y1 = -np.log(x)\n",
    "y2 = -np.log(1 - x)\n",
    "plt.figure(figsize = (10, 4))\n",
    "plt.subplot(1, 2, 1)\n",
    "plt.plot(x, y1)\n",
    "plt.title(\"$y = 1, -\\log{h(x)}$\")\n",
    "plt.xlabel(\"$h(x)$\")\n",
    "plt.subplot(1, 2, 2)\n",
    "plt.plot(x, y2)\n",
    "plt.title(\"$y = 0, -\\log{(1-h(x))}$\")\n",
    "plt.xlabel(\"$h(x)$\")\n",
    "plt.tight_layout()"
   ]
  },
  {
   "cell_type": "code",
   "execution_count": 14,
   "metadata": {
    "collapsed": false,
    "slideshow": {
     "slide_type": "subslide"
    }
   },
   "outputs": [
    {
     "data": {
      "image/png": "[encoded data removed]",
      "text/plain": [
       "<matplotlib.figure.Figure at 0x118b6bfd0>"
      ]
     },
     "metadata": {},
     "output_type": "display_data"
    }
   ],
   "source": [
    "plt.show()"
   ]
  },
  {
   "cell_type": "markdown",
   "metadata": {
    "slideshow": {
     "slide_type": "subslide"
    }
   },
   "source": [
    "## 羅吉斯迴歸（8）\n",
    "\n",
    "- 視覺化之後我們可以較清楚暸解 Logistic Regression 的成本函數意涵：\n",
    "    - 當 y = 1 的時候，如果 $h(x)$ 預測是 0，則成本函數趨近無限大\n",
    "    - 當 y = 0 的時候，如果 $h(x)$ 預測是 1，則成本函數趨近無限大"
   ]
  },
  {
   "cell_type": "markdown",
   "metadata": {
    "slideshow": {
     "slide_type": "subslide"
    }
   },
   "source": [
    "## 羅吉斯迴歸（9）\n",
    "\n",
    "- 接著我們將成本函數整理並加入正規化係數：\n",
    "\n",
    "$$\\text{minimize}\\quad J(h(x), y) = -\\frac{1}{m}\\sum_{i=1}^{m}[y\\log(h(x)) + (1-y)\\log(1-h(x))] + \\frac{\\lambda}{2m}\\sum_{i=1}^{n}\\theta_j^2$$"
   ]
  },
  {
   "cell_type": "markdown",
   "metadata": {
    "slideshow": {
     "slide_type": "subslide"
    }
   },
   "source": [
    "## 羅吉斯迴歸（10）\n",
    "\n",
    "- 基於最小化這個成本函數的目標進行梯度遞減：\n",
    "\n",
    "$$\\text{minimize}\\quad J(\\theta^Tx, y) = -\\frac{1}{m}\\sum_{i=1}^{m}[y\\log(\\theta^Tx) + (1-y)\\log(1-\\theta^Tx)] + \\frac{\\lambda}{2m}\\sum_{i=1}^{n}\\theta_j^2$$\n",
    "\n",
    "$$\\theta_j := \\theta_j - \\alpha \\frac{\\mathrm \\partial}{\\mathrm \\partial \\theta_j} J(\\theta)$$"
   ]
  },
  {
   "cell_type": "code",
   "execution_count": 15,
   "metadata": {
    "collapsed": false,
    "slideshow": {
     "slide_type": "skip"
    }
   },
   "outputs": [
    {
     "data": {
      "text/plain": [
       "<matplotlib.collections.PathCollection at 0x118f41e10>"
      ]
     },
     "execution_count": 15,
     "metadata": {},
     "output_type": "execute_result"
    }
   ],
   "source": [
    "import numpy as np\n",
    "import matplotlib.pyplot as plt\n",
    "\n",
    "x_arr = np.arange(1, 13)\n",
    "y_arr_length = [3, 4, 5]\n",
    "random.seed(123)\n",
    "y_arr_1 = x_arr[:3] + np.array(random.sample(np.arange(10, 15, 0.1), k = y_arr_length[0]))\n",
    "y_arr_2 = x_arr[3:7] + np.array(random.sample(np.arange(0, 5, 0.1), k = y_arr_length[1]))\n",
    "y_arr_3 = x_arr[7:] + np.array(random.sample(np.arange(5, 10, 0.1), k = y_arr_length[2]))\n",
    "plt.scatter(x_arr[:3], y_arr_1, c = 'g', marker = '^', s = 200)\n",
    "plt.scatter(x_arr[3:7], y_arr_2, c = 'b', marker = 's', s = 200)\n",
    "plt.scatter(x_arr[7:], y_arr_3, c = 'r', marker = 'x', s = 200)"
   ]
  },
  {
   "cell_type": "markdown",
   "metadata": {
    "slideshow": {
     "slide_type": "subslide"
    }
   },
   "source": [
    "## 羅吉斯迴歸（11）\n",
    "\n",
    "- 延伸二元分類到多元分類問題：One-vs-all\n",
    "\n",
    "$$y \\in {\\{0, 1, 2\\}}$$\n",
    "$$h^{0}(x) = P(y = 0 \\mid x; \\theta)$$\n",
    "$$h^{1}(x) = P(y = 1 \\mid x; \\theta)$$\n",
    "$$h^{2}(x) = P(y = 2 \\mid x; \\theta)$$\n",
    "$$\\text{prediction:}\\;\\;max(h^{0}(x), h^{1}(x), h^{2}(x))$$"
   ]
  },
  {
   "cell_type": "code",
   "execution_count": 16,
   "metadata": {
    "collapsed": false,
    "slideshow": {
     "slide_type": "subslide"
    }
   },
   "outputs": [
    {
     "data": {
      "image/png": "[encoded data removed]",
      "text/plain": [
       "<matplotlib.figure.Figure at 0x118d82c90>"
      ]
     },
     "metadata": {},
     "output_type": "display_data"
    }
   ],
   "source": [
    "plt.show()"
   ]
  },
  {
   "cell_type": "code",
   "execution_count": 17,
   "metadata": {
    "collapsed": false,
    "slideshow": {
     "slide_type": "skip"
    }
   },
   "outputs": [
    {
     "data": {
      "text/plain": [
       "[<matplotlib.lines.Line2D at 0x1191bf850>]"
      ]
     },
     "execution_count": 17,
     "metadata": {},
     "output_type": "execute_result"
    }
   ],
   "source": [
    "import numpy as np\n",
    "import matplotlib.pyplot as plt\n",
    "\n",
    "x_arr = np.arange(1, 13)\n",
    "y_arr_length = [3, 4, 5]\n",
    "random.seed(123)\n",
    "y_arr_1 = x_arr[:3] + np.array(random.sample(np.arange(10, 15, 0.1), k = y_arr_length[0]))\n",
    "y_arr_2 = x_arr[3:7] + np.array(random.sample(np.arange(0, 5, 0.1), k = y_arr_length[1]))\n",
    "y_arr_3 = x_arr[7:] + np.array(random.sample(np.arange(5, 10, 0.1), k = y_arr_length[2]))\n",
    "plt.figure(1, figsize=(14, 4))\n",
    "plt.subplot(1, 3, 1)\n",
    "plt.scatter(x_arr[:3], y_arr_1, c = 'g', marker = '^', s = 200)\n",
    "plt.scatter(x_arr[3:], np.concatenate([y_arr_2, y_arr_3]), c = 'k', marker = 'o', s = 200)\n",
    "plt.plot([2, 5], [2, 18])\n",
    "plt.subplot(1, 3, 2)\n",
    "plt.scatter(x_arr[3:7], y_arr_2, c = 'b', marker = 's', s = 200)\n",
    "plt.scatter(np.concatenate([x_arr[:3], x_arr[7:]]), np.concatenate([y_arr_1, y_arr_3]), c = 'k', marker = 'o', s = 200)\n",
    "plt.plot([0, 15], [10, 12])\n",
    "plt.subplot(1, 3, 3)\n",
    "plt.scatter(x_arr[7:], y_arr_3, c = 'r', marker = 'x', s = 200)\n",
    "plt.scatter(x_arr[:7], np.concatenate([y_arr_1, y_arr_2]), c = 'k', marker = 'o', s = 200)\n",
    "plt.plot([5, 10], [20, 3])"
   ]
  },
  {
   "cell_type": "code",
   "execution_count": 18,
   "metadata": {
    "collapsed": false,
    "slideshow": {
     "slide_type": "subslide"
    }
   },
   "outputs": [
    {
     "data": {
      "image/png": "[encoded data removed]",
      "text/plain": [
       "<matplotlib.figure.Figure at 0x11901e9d0>"
      ]
     },
     "metadata": {},
     "output_type": "display_data"
    }
   ],
   "source": [
    "plt.show()"
   ]
  },
  {
   "cell_type": "markdown",
   "metadata": {
    "slideshow": {
     "slide_type": "subslide"
    }
   },
   "source": [
    "## 羅吉斯迴歸（12）\n",
    "\n",
    "- 請 `sklearn` 幫我們找 $\\theta_i$"
   ]
  },
  {
   "cell_type": "code",
   "execution_count": 19,
   "metadata": {
    "collapsed": false,
    "slideshow": {
     "slide_type": "skip"
    }
   },
   "outputs": [
    {
     "data": {
      "text/plain": [
       "(0.0, 6.0999999999999996)"
      ]
     },
     "execution_count": 19,
     "metadata": {},
     "output_type": "execute_result"
    }
   ],
   "source": [
    "from sklearn.datasets import load_iris\n",
    "import matplotlib.pyplot as plt\n",
    "\n",
    "iris = load_iris()\n",
    "X = iris.data\n",
    "x1_setosa, x2_setosa = X[:50, 0], X[:50, 2]\n",
    "x1_versicolor, x2_versicolor = X[50:100, 0], X[50:100, 2]\n",
    "\n",
    "plt.scatter(x = x1_setosa, y = x2_setosa, marker = \"o\", color = \"red\", label = \"0\")\n",
    "plt.scatter(x = x1_versicolor, y = x2_versicolor, marker = \"x\", color = \"green\", label = \"1\")\n",
    "plt.legend(loc = \"upper left\")\n",
    "plt.xlim(x1_setosa.min() - 1, x1_versicolor.max() + 1)\n",
    "plt.ylim(x2_setosa.min() - 1, x2_versicolor.max() + 1)"
   ]
  },
  {
   "cell_type": "code",
   "execution_count": 20,
   "metadata": {
    "collapsed": false,
    "slideshow": {
     "slide_type": "subslide"
    }
   },
   "outputs": [
    {
     "data": {
      "image/png": "[encoded data removed]",
      "text/plain": [
       "<matplotlib.figure.Figure at 0x119391910>"
      ]
     },
     "metadata": {},
     "output_type": "display_data"
    }
   ],
   "source": [
    "plt.show()"
   ]
  },
  {
   "cell_type": "code",
   "execution_count": 21,
   "metadata": {
    "collapsed": true,
    "slideshow": {
     "slide_type": "subslide"
    }
   },
   "outputs": [],
   "source": [
    "from matplotlib.colors import ListedColormap\n",
    "import matplotlib.pyplot as plt\n",
    "\n",
    "# 決策區域圖\n",
    "def plot_decision_region(X, y, classifier, resolution = 0.02):\n",
    "    markers = ('o', 'x', '^')\n",
    "    colors = ('red', 'green', 'blue')\n",
    "    cmap = ListedColormap(colors[:len(np.unique(y))])\n",
    "\n",
    "    x1_min, x1_max = X[:, 0].min() - 1, X[:, 0].max() + 1\n",
    "    x2_min, x2_max = X[:, 1].min() - 1, X[:, 1].max() + 1\n",
    "    xx1, xx2 = np.meshgrid(np.arange(x1_min, x1_max, resolution), np.arange(x2_min, x2_max, resolution))\n",
    "    Z = classifier.predict(np.array([xx1.ravel(), xx2.ravel()]).T)\n",
    "    Z = Z.reshape(xx1.shape)\n",
    "    plt.contourf(xx1, xx2, Z, alpha = 0.3, cmap = cmap)\n",
    "    plt.xlim(xx1.min(), xx1.max())\n",
    "    plt.ylim(xx2.min(), xx2.max())\n",
    "    for idx, cl in enumerate(np.unique(y)):\n",
    "        plt.scatter(x = X[y == cl, 0], y = X[y == cl, 1], c = cmap(idx), marker = markers[idx], label = cl)"
   ]
  },
  {
   "cell_type": "code",
   "execution_count": 22,
   "metadata": {
    "collapsed": false,
    "slideshow": {
     "slide_type": "subslide"
    }
   },
   "outputs": [
    {
     "data": {
      "text/plain": [
       "<matplotlib.text.Text at 0x11b61b250>"
      ]
     },
     "execution_count": 22,
     "metadata": {},
     "output_type": "execute_result"
    }
   ],
   "source": [
    "from sklearn.linear_model import LogisticRegression\n",
    "\n",
    "iris = load_iris()\n",
    "X = iris.data[:100, [0, 2]]\n",
    "y = iris.target[:100]\n",
    "\n",
    "lr = LogisticRegression()\n",
    "lr.fit(X, y)\n",
    "plot_decision_region(X, y, classifier = lr)\n",
    "plt.legend(loc = \"upper left\")\n",
    "plt.title(\"Logistic Regression\")"
   ]
  },
  {
   "cell_type": "code",
   "execution_count": 23,
   "metadata": {
    "collapsed": false,
    "slideshow": {
     "slide_type": "subslide"
    }
   },
   "outputs": [
    {
     "data": {
      "image/png": "[encoded data removed]",
      "text/plain": [
       "<matplotlib.figure.Figure at 0x11b2bcc10>"
      ]
     },
     "metadata": {},
     "output_type": "display_data"
    }
   ],
   "source": [
    "plt.show()"
   ]
  },
  {
   "cell_type": "markdown",
   "metadata": {
    "slideshow": {
     "slide_type": "slide"
    }
   },
   "source": [
    "# 感知器"
   ]
  },
  {
   "cell_type": "markdown",
   "metadata": {
    "slideshow": {
     "slide_type": "subslide"
    }
   },
   "source": [
    "## 感知器\n",
    "\n",
    "- 沒有經過 sigmoid 函數轉換的簡單分類器\n",
    "- 其中 $\\theta_0x_0$ 即為門檻值\n",
    "- $\\phi$ 函數就像是一個簡單版的 sign 函數\n",
    "\n",
    "$$h(x) = \\theta_0x_0 + \\theta_1x_1 + ... + \\theta_mx_m = \\theta^Tx$$\n",
    "\n",
    "\n",
    "$$\n",
    "    \\hat{y} = \\phi(h(x)) =\n",
    "    \\begin{cases}\n",
    "        1       & \\quad \\text{if } h(x)\\geq 0\\\\\n",
    "    0  & \\quad \\text{ohterwise.}\\\\\n",
    "    \\end{cases}\n",
    "$$"
   ]
  },
  {
   "cell_type": "markdown",
   "metadata": {
    "slideshow": {
     "slide_type": "subslide"
    }
   },
   "source": [
    "## 感知器（2）\n",
    "\n",
    "- 初始一個很小趨近於零的值給 $\\theta$\n",
    "- 利用真實答案 $y_i$ 與預測結果 $\\hat{y_i}$ 的誤差更新 $\\theta$\n",
    "\n",
    "$$\\theta_i:=\\theta_i + \\Delta \\theta_i$$\n",
    "\n",
    "$$\\Delta \\theta_i = \\alpha(y_i - \\hat{y_i})x_i$$"
   ]
  },
  {
   "cell_type": "markdown",
   "metadata": {
    "slideshow": {
     "slide_type": "subslide"
    }
   },
   "source": [
    "## 感知器（3）\n",
    "\n",
    "- 正確的預測感知器不會修正權重 $\\theta$\n",
    "\n",
    "$$\\Delta \\theta_i = \\alpha (1 - 1)x_i = 0$$\n",
    "$$\\Delta \\theta_i = \\alpha (0 - 0)x_i = 0$$\n",
    "\n",
    "- 錯誤的預測會讓感知器修正權重 $\\theta$ 藉此修正下一輪的預測結果\n",
    "\n",
    "$$\\Delta \\theta_i = \\alpha (1 - 0)x_i = \\alpha (1) x_i$$\n",
    "$$\\Delta \\theta_i = \\alpha (0 - 1)x_i = \\alpha (-1) x_i$$"
   ]
  },
  {
   "cell_type": "markdown",
   "metadata": {
    "slideshow": {
     "slide_type": "subslide"
    }
   },
   "source": [
    "## 感知器（4）\n",
    "\n",
    "- 修正的方向：\n",
    "    - $\\Delta \\theta_i = \\alpha (1 - 0)x_i = \\alpha (1) x_i$：$\\theta$ 增大，更容易達成 $h(x) \\geq 0$\n",
    "    - $\\Delta \\theta_i = \\alpha (0 - 1)x_i = \\alpha (-1) x_i$：$\\theta$ 增大，更容易達成 $h(x) < 0$\n",
    "\n",
    "$$\n",
    "    \\hat{y} = \\phi(h(x)) =\n",
    "    \\begin{cases}\n",
    "        1       & \\quad \\text{if } h(x)\\geq 0\\\\\n",
    "    0  & \\quad \\text{ohterwise.}\\\\\n",
    "    \\end{cases}\n",
    "$$"
   ]
  },
  {
   "cell_type": "code",
   "execution_count": 24,
   "metadata": {
    "collapsed": false,
    "slideshow": {
     "slide_type": "subslide"
    }
   },
   "outputs": [
    {
     "data": {
      "text/plain": [
       "<matplotlib.text.Text at 0x11b90ff10>"
      ]
     },
     "execution_count": 24,
     "metadata": {},
     "output_type": "execute_result"
    }
   ],
   "source": [
    "import numpy as np\n",
    "from sklearn.datasets import load_iris\n",
    "from sklearn.linear_model import Perceptron\n",
    "import matplotlib.pyplot as plt\n",
    "\n",
    "iris = load_iris()\n",
    "X = iris.data[:100, [0, 2]]\n",
    "y = iris.target[:100]\n",
    "ppn = Perceptron()\n",
    "ppn.fit(X, y)\n",
    "plot_decision_region(X, y, classifier = ppn)\n",
    "plt.legend(loc = \"upper left\")\n",
    "plt.title(\"Perceptron Classifier\")"
   ]
  },
  {
   "cell_type": "code",
   "execution_count": 25,
   "metadata": {
    "collapsed": false,
    "slideshow": {
     "slide_type": "subslide"
    }
   },
   "outputs": [
    {
     "data": {
      "image/png": "[encoded data removed]",
      "text/plain": [
       "<matplotlib.figure.Figure at 0x10d19ea50>"
      ]
     },
     "metadata": {},
     "output_type": "display_data"
    }
   ],
   "source": [
    "plt.show()"
   ]
  },
  {
   "cell_type": "markdown",
   "metadata": {
    "slideshow": {
     "slide_type": "slide"
    }
   },
   "source": [
    "# 支持向量機"
   ]
  },
  {
   "cell_type": "markdown",
   "metadata": {
    "slideshow": {
     "slide_type": "subslide"
    }
   },
   "source": [
    "## 支持向量機\n",
    "\n",
    "- 支持向量機，亦稱為最大邊界分類器\n",
    "- 成本函數長得跟羅吉斯迴歸相似：\n",
    "\n",
    "$$\\text{minimize     }C\\sum_{i=1}^{m}[ycost_1(\\theta^Tx) + (1-y)cost_0(\\theta^Tx)] + \\frac{1}{2}\\sum_{i=j}^{n}\\theta_j^2$$\n",
    "\n",
    "$$\\text{where     }C = \\frac{1}{\\lambda}$$"
   ]
  },
  {
   "cell_type": "code",
   "execution_count": 26,
   "metadata": {
    "collapsed": false,
    "slideshow": {
     "slide_type": "skip"
    }
   },
   "outputs": [
    {
     "data": {
      "text/plain": [
       "([], <a list of 0 Text yticklabel objects>)"
      ]
     },
     "execution_count": 26,
     "metadata": {},
     "output_type": "execute_result"
    }
   ],
   "source": [
    "import matplotlib.pyplot as plt\n",
    "import numpy as np\n",
    "\n",
    "def cost_fun_1(x):\n",
    "    if x < 1:\n",
    "        return -x + 1\n",
    "    else:\n",
    "        return 0\n",
    "def cost_fun_0(x):\n",
    "    if x < -1:\n",
    "        return 0\n",
    "    else:\n",
    "        return x + 1\n",
    "x_arr_1 = np.linspace(-1, 3)\n",
    "x_arr_2 = np.linspace(-3, 1)\n",
    "y_arr_1 = list(map(cost_fun_1, x_arr_1))\n",
    "y_arr_2 = list(map(cost_fun_0, x_arr_2))\n",
    "plt.figure(figsize = (10, 4))\n",
    "plt.subplot(1, 2, 1)\n",
    "plt.plot(x_arr_1, y_arr_1)\n",
    "plt.xticks([-1, 0, 1])\n",
    "plt.yticks([])\n",
    "plt.title(\"$Cost_1(z)$\")\n",
    "plt.subplot(1, 2, 2)\n",
    "plt.plot(x_arr_2, y_arr_2)\n",
    "plt.xticks([-1, 0, 1])\n",
    "plt.title(\"$Cost_0(z)$\")\n",
    "plt.yticks([])"
   ]
  },
  {
   "cell_type": "code",
   "execution_count": 27,
   "metadata": {
    "collapsed": false,
    "slideshow": {
     "slide_type": "subslide"
    }
   },
   "outputs": [
    {
     "data": {
      "image/png": "[encoded data removed]",
      "text/plain": [
       "<matplotlib.figure.Figure at 0x11b951190>"
      ]
     },
     "metadata": {},
     "output_type": "display_data"
    }
   ],
   "source": [
    "plt.show()"
   ]
  },
  {
   "cell_type": "markdown",
   "metadata": {
    "slideshow": {
     "slide_type": "subslide"
    }
   },
   "source": [
    "## 支持向量機（2）\n",
    "\n",
    "- 當 $y = 1$ 時讓 $\\theta^Tx \\ge 1$：\n",
    "\n",
    "$$\\text{minimize     }C\\sum_{i=1}^{m}[ycost_1(\\theta^Tx)] + \\frac{1}{2}\\sum_{j=1}^{n}\\theta_j^2$$"
   ]
  },
  {
   "cell_type": "code",
   "execution_count": 28,
   "metadata": {
    "collapsed": true,
    "slideshow": {
     "slide_type": "skip"
    }
   },
   "outputs": [],
   "source": [
    "import matplotlib.pyplot as plt\n",
    "import numpy as np\n",
    "\n",
    "def cost_fun_1(x):\n",
    "    if x < 1:\n",
    "        return -x + 1\n",
    "    else:\n",
    "        return 0\n",
    "def cost_fun_0(x):\n",
    "    if x < -1:\n",
    "        return 0\n",
    "    else:\n",
    "        return x + 1\n",
    "x_arr_1 = np.linspace(-1, 3)\n",
    "x_arr_2 = np.linspace(-3, 1)\n",
    "y_arr_1 = list(map(cost_fun_1, x_arr_1))\n",
    "y_arr_2 = list(map(cost_fun_0, x_arr_2))"
   ]
  },
  {
   "cell_type": "code",
   "execution_count": 29,
   "metadata": {
    "collapsed": false,
    "slideshow": {
     "slide_type": "skip"
    }
   },
   "outputs": [
    {
     "data": {
      "text/plain": [
       "<matplotlib.text.Text at 0x11bbf0150>"
      ]
     },
     "execution_count": 29,
     "metadata": {},
     "output_type": "execute_result"
    }
   ],
   "source": [
    "plt.plot(x_arr_1, y_arr_1)\n",
    "plt.xticks([-1, 0, 1])\n",
    "plt.title(\"$Cost_1(z)$\")"
   ]
  },
  {
   "cell_type": "code",
   "execution_count": 30,
   "metadata": {
    "collapsed": false,
    "slideshow": {
     "slide_type": "subslide"
    }
   },
   "outputs": [
    {
     "data": {
      "image/png": "[encoded data removed]",
      "text/plain": [
       "<matplotlib.figure.Figure at 0x11ba68290>"
      ]
     },
     "metadata": {},
     "output_type": "display_data"
    }
   ],
   "source": [
    "plt.show()"
   ]
  },
  {
   "cell_type": "markdown",
   "metadata": {
    "slideshow": {
     "slide_type": "subslide"
    }
   },
   "source": [
    "## 支持向量機（3）\n",
    "\n",
    "- 當 $y = 0$ 時讓 $\\theta^Tx \\le -1$：\n",
    "\n",
    "$$\\text{minimize     }C\\sum_{i=1}^{m}[(1-y)cost_0(\\theta^Tx)] + \\frac{1}{2}\\sum_{i=1}^{n}\\theta_j^2$$"
   ]
  },
  {
   "cell_type": "code",
   "execution_count": 31,
   "metadata": {
    "collapsed": false,
    "slideshow": {
     "slide_type": "skip"
    }
   },
   "outputs": [
    {
     "data": {
      "text/plain": [
       "<matplotlib.text.Text at 0x11bc9bd90>"
      ]
     },
     "execution_count": 31,
     "metadata": {},
     "output_type": "execute_result"
    }
   ],
   "source": [
    "plt.plot(x_arr_2, y_arr_2)\n",
    "plt.xticks([-1, 0, 1])\n",
    "plt.title(\"$Cost_2(z)$\")"
   ]
  },
  {
   "cell_type": "code",
   "execution_count": 32,
   "metadata": {
    "collapsed": false,
    "slideshow": {
     "slide_type": "subslide"
    }
   },
   "outputs": [
    {
     "data": {
      "image/png": "[encoded data removed]",
      "text/plain": [
       "<matplotlib.figure.Figure at 0x1141b9e10>"
      ]
     },
     "metadata": {},
     "output_type": "display_data"
    }
   ],
   "source": [
    "plt.show()"
   ]
  },
  {
   "cell_type": "markdown",
   "metadata": {
    "slideshow": {
     "slide_type": "subslide"
    }
   },
   "source": [
    "## 支持向量機（4）\n",
    "\n",
    "- 成本函數可以簡化為：\n",
    "\n",
    "$$\\text{minimize     }C\\times0 + \\frac{1}{2}\\sum_{j=1}^{n}\\theta_j^2$$\n",
    "$$\\text{s.t. } \\theta^Tx \\ge 1 \\text{ if } y = 1$$\n",
    "$$\\theta^Tx \\le -1 \\text{ if } y = 0$$"
   ]
  },
  {
   "cell_type": "markdown",
   "metadata": {
    "slideshow": {
     "slide_type": "subslide"
    }
   },
   "source": [
    "## 支持向量機（5）\n",
    "\n",
    "- 我們可以接著將 $\\theta^Tx$ 寫成 $p\\|\\theta\\|$，其中 $\\|\\theta\\|$ 是 $\\theta$ 的長度 $\\sqrt{\\theta_1^2 + \\theta_2^2 + \\dots + \\theta_n^2}$，而 $p$ 是 $x$ 在 $\\theta$ 的投影\n",
    "\n",
    "$$\\text{minimize}\\frac{1}{2}\\sum_{j=1}^{n}\\theta_j^2 = \\frac{1}{2}(\\sqrt{\\theta_1^2 + \\theta_2^2 + \\dots + \\theta_n^2})^2 = \\frac{1}{2}\\|\\theta\\|^2$$\n",
    "$$\\text{s.t. } p \\| \\theta \\| \\ge 1 \\text{ if } y = 1$$\n",
    "$$p \\| \\theta \\| \\le -1 \\text{ if } y = 0$$"
   ]
  },
  {
   "cell_type": "markdown",
   "metadata": {
    "slideshow": {
     "slide_type": "subslide"
    }
   },
   "source": [
    "## 支持向量機（6）\n",
    "\n",
    "![](http://www.bogotobogo.com/python/scikit-learn/images/svm/svm_diagram.png)\n",
    "\n",
    "Source: [bogotobogo](http://www.bogotobogo.com/index.php)"
   ]
  },
  {
   "cell_type": "markdown",
   "metadata": {
    "slideshow": {
     "slide_type": "subslide"
    }
   },
   "source": [
    "## 支持向量機（7）\n",
    "\n",
    "- 先看 $H_2$\n",
    "    - $y = 0$，$p$ 小，為了讓 $p\\| \\theta \\| \\le -1$ 所以 $\\|\\theta\\|$ 大\n",
    "    - $y = 1$，$p$ 小，為了讓 $p\\| \\theta \\| \\ge 1$ 所以 $\\|\\theta\\|$ 大"
   ]
  },
  {
   "cell_type": "markdown",
   "metadata": {
    "slideshow": {
     "slide_type": "subslide"
    }
   },
   "source": [
    "## 支持向量機（8）\n",
    "\n",
    "- 再看 $H_3$\n",
    "    - $y = 0$，$p$ 大，為了讓 $p\\| \\theta \\| \\le -1$ 所以 $\\|\\theta\\|$ 可以較小\n",
    "    - $y = 1$，$p$ 大，為了讓 $p\\| \\theta \\| \\ge 1$ 所以 $\\|\\theta\\|$ 可以較小\n",
    "\n",
    "- 而支持向量機的目標是：\n",
    "\n",
    "$$\\text{minimize     }\\frac{1}{2}\\|\\theta\\|^2$$\n",
    "\n",
    "- 所以支持向量機會偏愛 $H_3$"
   ]
  },
  {
   "cell_type": "code",
   "execution_count": 33,
   "metadata": {
    "collapsed": false,
    "slideshow": {
     "slide_type": "subslide"
    }
   },
   "outputs": [
    {
     "data": {
      "text/plain": [
       "<matplotlib.text.Text at 0x11b953650>"
      ]
     },
     "execution_count": 33,
     "metadata": {},
     "output_type": "execute_result"
    }
   ],
   "source": [
    "import numpy as np\n",
    "from sklearn.datasets import load_iris\n",
    "from sklearn.svm import SVC\n",
    "import matplotlib.pyplot as plt\n",
    "\n",
    "iris = load_iris()\n",
    "X = iris.data[:100, [0, 2]]\n",
    "y = iris.target[:100]\n",
    "ppn = SVC(kernel = \"linear\")\n",
    "ppn.fit(X, y)\n",
    "plot_decision_region(X, y, classifier = ppn)\n",
    "plt.legend(loc = \"upper left\")\n",
    "plt.title(\"Support Vector Machine\")"
   ]
  },
  {
   "cell_type": "code",
   "execution_count": 34,
   "metadata": {
    "collapsed": false,
    "slideshow": {
     "slide_type": "subslide"
    }
   },
   "outputs": [
    {
     "data": {
      "image/png": "[encoded data removed]",
      "text/plain": [
       "<matplotlib.figure.Figure at 0x11afa4690>"
      ]
     },
     "metadata": {},
     "output_type": "display_data"
    }
   ],
   "source": [
    "plt.show()"
   ]
  },
  {
   "cell_type": "markdown",
   "metadata": {
    "slideshow": {
     "slide_type": "slide"
    }
   },
   "source": [
    "## 線性不可分\n",
    "\n",
    "- 我們目前使用的分類器處理線性可分的資料表現得很不錯\n",
    "- 但什麼樣的資料這些分類器會分得很差？"
   ]
  },
  {
   "cell_type": "code",
   "execution_count": 35,
   "metadata": {
    "collapsed": false,
    "slideshow": {
     "slide_type": "skip"
    }
   },
   "outputs": [
    {
     "data": {
      "text/plain": [
       "<matplotlib.legend.Legend at 0x11b036fd0>"
      ]
     },
     "execution_count": 35,
     "metadata": {},
     "output_type": "execute_result"
    }
   ],
   "source": [
    "# 像是這樣子的資料：\n",
    "from sklearn.datasets import make_moons\n",
    "import matplotlib.pyplot as plt\n",
    "\n",
    "X, y = make_moons(n_samples = 100, random_state = 0)\n",
    "plt.scatter(X[y == 0, 0], X[y == 0, 1], c = 'r', marker = 'o', label = '0')\n",
    "plt.scatter(X[y == 1, 0], X[y == 1, 1], c = 'g', marker = 'x', label = '1')\n",
    "plt.legend()"
   ]
  },
  {
   "cell_type": "code",
   "execution_count": 36,
   "metadata": {
    "collapsed": false,
    "slideshow": {
     "slide_type": "subslide"
    }
   },
   "outputs": [
    {
     "data": {
      "image/png": "[encoded data removed]",
      "text/plain": [
       "<matplotlib.figure.Figure at 0x11bb22f10>"
      ]
     },
     "metadata": {},
     "output_type": "display_data"
    }
   ],
   "source": [
    "plt.show()"
   ]
  },
  {
   "cell_type": "code",
   "execution_count": 37,
   "metadata": {
    "collapsed": false,
    "slideshow": {
     "slide_type": "skip"
    }
   },
   "outputs": [
    {
     "data": {
      "text/plain": [
       "<matplotlib.legend.Legend at 0x11bb81b10>"
      ]
     },
     "execution_count": 37,
     "metadata": {},
     "output_type": "execute_result"
    }
   ],
   "source": [
    "# 或是像這樣子的資料：\n",
    "from sklearn.datasets import make_circles\n",
    "import matplotlib.pyplot as plt\n",
    "\n",
    "X, y = make_circles(n_samples = 100, random_state = 0, factor = 0.5)\n",
    "plt.scatter(X[y == 0, 0], X[y == 0, 1], c = 'r', marker = 'o', label = '0')\n",
    "plt.scatter(X[y == 1, 0], X[y == 1, 1], c = 'g', marker = 'x', label = '1')\n",
    "plt.legend()"
   ]
  },
  {
   "cell_type": "code",
   "execution_count": 38,
   "metadata": {
    "collapsed": false,
    "slideshow": {
     "slide_type": "subslide"
    }
   },
   "outputs": [
    {
     "data": {
      "image/png": "[encoded data removed]",
      "text/plain": [
       "<matplotlib.figure.Figure at 0x11b90f4d0>"
      ]
     },
     "metadata": {},
     "output_type": "display_data"
    }
   ],
   "source": [
    "plt.show()"
   ]
  },
  {
   "cell_type": "markdown",
   "metadata": {
    "slideshow": {
     "slide_type": "subslide"
    }
   },
   "source": [
    "## 線性不可分（2）\n",
    "\n",
    "- 面對線性不可分的資料，我們可以採取：\n",
    "    - 核支持向量機（Kernel Support Vector Machine）\n",
    "    - 決策樹（Decision Tree）\n",
    "    - K 最近鄰（K-nearest neighbor，KNN）"
   ]
  },
  {
   "cell_type": "markdown",
   "metadata": {
    "slideshow": {
     "slide_type": "slide"
    }
   },
   "source": [
    "## 核支持向量機\n",
    "\n",
    "- 如同在迴歸問題中，我們必須加入次方項來產出彎曲的 Decision Boundary\n",
    "\n",
    "$$\\text{Predict y = 1 if} \\quad \\theta_0 + \\theta_1x_1 + \\theta_2x_2 + \\theta_3x_1^2 + \\theta_4x_2^2 + \\dots \\ge 0$$\n",
    "\n",
    "$$h(\\theta) = \\theta_0 + \\theta_1f_1 + \\theta_2f_2 + \\dots$$"
   ]
  },
  {
   "cell_type": "markdown",
   "metadata": {
    "slideshow": {
     "slide_type": "subslide"
    }
   },
   "source": [
    "## 核支持向量機（2）\n",
    "\n",
    "- 利用 Gaussian Kernels 核函數來衡量相似度\n",
    "\n",
    "$$f_i = similarity(x, 1_i) = exp(-\\frac{\\|x-l_i\\|^2}{2\\sigma^2})$$\n",
    "\n",
    "- 假如 $x \\approx l_i$，$f_i \\approx 1$\n",
    "- 假如 $x$ 離 $l_i$ 很遠，$f_i \\approx 0$"
   ]
  },
  {
   "cell_type": "code",
   "execution_count": 39,
   "metadata": {
    "collapsed": false,
    "slideshow": {
     "slide_type": "skip"
    }
   },
   "outputs": [
    {
     "data": {
      "text/plain": [
       "(([], <a list of 0 Text xticklabel objects>),\n",
       " ([], <a list of 0 Text yticklabel objects>))"
      ]
     },
     "execution_count": 39,
     "metadata": {},
     "output_type": "execute_result"
    }
   ],
   "source": [
    "import matplotlib.pyplot as plt\n",
    "import numpy as np\n",
    "\n",
    "l_arr_x1 = np.array([1, 2, 4])\n",
    "l_arr_x2 = np.array([4, 1, 2])\n",
    "plt.scatter(l_arr_x1, l_arr_x2)\n",
    "plt.xlim(l_arr_x1.min() - 2, l_arr_x1.max() + 2)\n",
    "plt.ylim(l_arr_x2.min() - 2, l_arr_x2.max() + 2)\n",
    "for i in range(3):\n",
    "    plt.text(l_arr_x1[i] + 0.2, l_arr_x2[i] + 0.2, \"$l$\", size = 12)\n",
    "plt.scatter([1.5, 3.5], [3.5, 2], c = \"r\")\n",
    "plt.scatter([0, 5], [0, 0], c = \"g\", marker = \"x\")\n",
    "plt.xticks([]), plt.yticks([])"
   ]
  },
  {
   "cell_type": "code",
   "execution_count": 40,
   "metadata": {
    "collapsed": false,
    "slideshow": {
     "slide_type": "subslide"
    }
   },
   "outputs": [
    {
     "data": {
      "image/png": "[encoded data removed]",
      "text/plain": [
       "<matplotlib.figure.Figure at 0x11bd07710>"
      ]
     },
     "metadata": {},
     "output_type": "display_data"
    }
   ],
   "source": [
    "plt.show()"
   ]
  },
  {
   "cell_type": "markdown",
   "metadata": {
    "slideshow": {
     "slide_type": "subslide"
    }
   },
   "source": [
    "## 核支持向量機（3）\n",
    "\n",
    "- $l$ 稱作 landmarks，讓 $l$ 的數目跟觀測值個數相同，因此觀測值個數會與特徵個數 $f$ 相同：\n",
    "\n",
    "$$\\text{minimize     }C\\sum_{i=1}^{m}[ycost_1(\\theta^Tf) + (1-y)cost_0(\\theta^Tf)] + \\frac{1}{2}\\sum_{j=1}^{m}\\theta_j^2$$\n",
    "\n",
    "$$\\text{where     }C = \\frac{1}{\\lambda}$$"
   ]
  },
  {
   "cell_type": "markdown",
   "metadata": {
    "slideshow": {
     "slide_type": "subslide"
    }
   },
   "source": [
    "## 核支持向量機（4）\n",
    "\n",
    "- 參數調整：\n",
    "\n",
    "|參數|Bias|Variance|\n",
    "|---|----|--------|\n",
    "|$C$ large|Low|High|\n",
    "|$C$ small|High|Low|\n",
    "|$\\gamma$ large|Low|High|\n",
    "|$\\gamma$ small|High|Low|\n",
    "\n",
    "$$C = \\frac{1}{\\lambda} \\quad \\gamma = \\frac{1}{2\\sigma^2}$$"
   ]
  },
  {
   "cell_type": "code",
   "execution_count": 41,
   "metadata": {
    "collapsed": false,
    "slideshow": {
     "slide_type": "subslide"
    }
   },
   "outputs": [
    {
     "data": {
      "text/plain": [
       "<matplotlib.legend.Legend at 0x11afa4650>"
      ]
     },
     "execution_count": 41,
     "metadata": {},
     "output_type": "execute_result"
    }
   ],
   "source": [
    "from sklearn import datasets\n",
    "from sklearn.svm import SVC\n",
    "from sklearn.model_selection import train_test_split\n",
    "\n",
    "iris = datasets.load_iris()\n",
    "X = iris.data[:, [0, 2]]\n",
    "y = iris.target\n",
    "X_train, X_test, y_train, y_test = train_test_split(X, y, test_size = 0.3)\n",
    "svm = SVC(kernel = 'rbf', gamma = 0.2) # gamma = 0.2, 核函數 rbf\n",
    "svm.fit(X_train, y_train)\n",
    "plot_decision_region(X = X, y = y, classifier = svm)\n",
    "plt.legend(loc = 'upper left')"
   ]
  },
  {
   "cell_type": "code",
   "execution_count": 42,
   "metadata": {
    "collapsed": false,
    "slideshow": {
     "slide_type": "subslide"
    }
   },
   "outputs": [
    {
     "data": {
      "image/png": "[encoded data removed]",
      "text/plain": [
       "<matplotlib.figure.Figure at 0x11c1ce5d0>"
      ]
     },
     "metadata": {},
     "output_type": "display_data"
    }
   ],
   "source": [
    "plt.show()"
   ]
  },
  {
   "cell_type": "markdown",
   "metadata": {
    "slideshow": {
     "slide_type": "slide"
    }
   },
   "source": [
    "## 評估指標\n",
    "\n",
    "- 分類演算法的評估指標：[混淆矩陣（Confusion Matrix）](https://en.wikipedia.org/wiki/Confusion_matrix)\n",
    "\n",
    "|   |陽性|陰性|\n",
    "|---|---|----|\n",
    "|陽性|5|8|\n",
    "|陰性|6|7|\n",
    "\n",
    "- $\\text{準確率（Accuracy）}= \\frac{5 + 7}{5 + 6 + 7 + 8} = 0.52$\n",
    "- $\\text{錯誤率（Error）} = 1 - \\text{Accuracy} = 1 - 0.5 = 0.48$"
   ]
  },
  {
   "cell_type": "code",
   "execution_count": 43,
   "metadata": {
    "collapsed": false,
    "slideshow": {
     "slide_type": "subslide"
    }
   },
   "outputs": [
    {
     "name": "stdout",
     "output_type": "stream",
     "text": [
      "Accuracy: 0.96\n"
     ]
    }
   ],
   "source": [
    "from sklearn.metrics import accuracy_score\n",
    "\n",
    "y_pred = svm.predict(X_test)\n",
    "print('Accuracy: %.2f' % accuracy_score(y_test, y_pred))"
   ]
  },
  {
   "cell_type": "code",
   "execution_count": 44,
   "metadata": {
    "collapsed": false,
    "slideshow": {
     "slide_type": "subslide"
    }
   },
   "outputs": [
    {
     "data": {
      "image/png": "[encoded data removed]",
      "text/plain": [
       "<matplotlib.figure.Figure at 0x11b91f410>"
      ]
     },
     "metadata": {},
     "output_type": "display_data"
    }
   ],
   "source": [
    "# 調整 gamma\n",
    "svm = SVC(kernel = 'rbf', gamma = 20) # gamma = 20\n",
    "svm.fit(X_train, y_train)\n",
    "\n",
    "plot_decision_region(X = X, y = y, classifier = svm)\n",
    "plt.legend(loc = 'upper left')\n",
    "plt.show()"
   ]
  },
  {
   "cell_type": "code",
   "execution_count": 45,
   "metadata": {
    "collapsed": false,
    "slideshow": {
     "slide_type": "subslide"
    }
   },
   "outputs": [
    {
     "name": "stdout",
     "output_type": "stream",
     "text": [
      "Accuracy: 0.93\n"
     ]
    }
   ],
   "source": [
    "from sklearn.metrics import accuracy_score\n",
    "\n",
    "y_pred = svm.predict(X_test)\n",
    "print('Accuracy: %.2f' % accuracy_score(y_test, y_pred))"
   ]
  },
  {
   "cell_type": "code",
   "execution_count": 46,
   "metadata": {
    "collapsed": false,
    "slideshow": {
     "slide_type": "subslide"
    }
   },
   "outputs": [
    {
     "data": {
      "image/png": "[encoded data removed]",
      "text/plain": [
       "<matplotlib.figure.Figure at 0x11c20f390>"
      ]
     },
     "metadata": {},
     "output_type": "display_data"
    }
   ],
   "source": [
    "# 調整 gamma\n",
    "svm = SVC(kernel = 'rbf', gamma = 200) # gamma = 200\n",
    "svm.fit(X_train, y_train)\n",
    "\n",
    "plot_decision_region(X = X, y = y, classifier = svm)\n",
    "plt.legend(loc = 'upper left')\n",
    "plt.show()"
   ]
  },
  {
   "cell_type": "code",
   "execution_count": 47,
   "metadata": {
    "collapsed": false,
    "slideshow": {
     "slide_type": "subslide"
    }
   },
   "outputs": [
    {
     "name": "stdout",
     "output_type": "stream",
     "text": [
      "Accuracy: 0.56\n"
     ]
    }
   ],
   "source": [
    "from sklearn.metrics import accuracy_score\n",
    "\n",
    "y_pred = svm.predict(X_test)\n",
    "print('Accuracy: %.2f' % accuracy_score(y_test, y_pred))"
   ]
  },
  {
   "cell_type": "markdown",
   "metadata": {
    "slideshow": {
     "slide_type": "subslide"
    }
   },
   "source": [
    "## 評估指標（2）\n",
    "\n",
    "- 調高 `gamma` 參數的過程，其實就是一個對訓練資料配適（fitting）的過程\n",
    "- 過高的 `gamma` 參數可以讓訓練資料完美的分類，但對測試資料的預測反而下滑"
   ]
  },
  {
   "cell_type": "markdown",
   "metadata": {
    "slideshow": {
     "slide_type": "slide"
    }
   },
   "source": [
    "# 決策樹"
   ]
  },
  {
   "cell_type": "markdown",
   "metadata": {
    "slideshow": {
     "slide_type": "subslide"
    }
   },
   "source": [
    "## 決策樹\n",
    "\n",
    "- 好解釋的分類器\n",
    "- 用不同的門檻值切分變數\n",
    "- 以**最大化**資訊增益值為根據進行變數的切分\n",
    "\n",
    "$$IG(D_p) = I(D_p) - \\frac{N_{left}}{N_p}I(D_{left}) - \\frac{N_{right}}{N_p}I(D_{right})$$"
   ]
  },
  {
   "cell_type": "markdown",
   "metadata": {
    "slideshow": {
     "slide_type": "subslide"
    }
   },
   "source": [
    "## 決策樹（2）\n",
    "\n",
    "- 資訊值有三種計算方式：\n",
    "    - 錯誤率（Error）\n",
    "    - 吉尼指標（Gini Index）\n",
    "    - 熵（Entropy）（\\*）"
   ]
  },
  {
   "cell_type": "markdown",
   "metadata": {
    "slideshow": {
     "slide_type": "subslide"
    }
   },
   "source": [
    "## 決策樹（3）\n",
    "\n",
    "- 這三個計算方式都跟**錯誤率（Error）**計算有關"
   ]
  },
  {
   "cell_type": "markdown",
   "metadata": {
    "slideshow": {
     "slide_type": "subslide"
    }
   },
   "source": [
    "## 決策樹（4）\n",
    "\n",
    "|計算方式|資訊值公式|\n",
    "|-------|--------|\n",
    "|錯誤率|$1 - \\text{accuracy}$|\n",
    "|吉尼指標|$1 - \\text{accuracy}^2 - \\text{error}^2$|\n",
    "|熵|$-(\\text{accuracy}\\log_2(\\text{accuracy}) + \\text{error}\\log_2(\\text{error}))$|"
   ]
  },
  {
   "cell_type": "markdown",
   "metadata": {
    "slideshow": {
     "slide_type": "subslide"
    }
   },
   "source": [
    "## 決策樹（5）\n",
    "\n",
    "![Decision Tree Metrics](https://storage.googleapis.com/py_ml_images/tree_metrics.png)"
   ]
  },
  {
   "cell_type": "markdown",
   "metadata": {
    "slideshow": {
     "slide_type": "subslide"
    }
   },
   "source": [
    "## 決策樹（6）\n",
    "\n",
    "- 先計算各個節點的資訊值\n",
    "- A 情況：\n",
    "\n",
    "|計算方式|$I(D_p)$|$I(D_{left})$|$I(D_{right})$|\n",
    "|-------|-----------|---------------|----------------|\n",
    "|錯誤率|$40/80 = 0.5$|$10/40 = 0.25$|$10/40 = 0.25$|\n",
    "|吉尼指標|$1-0.5^2-0.5^2 = 0.5$|$1-0.75^2-0.25^2 = 0.375$|$1-0.75^2-0.25^2 = 0.375$|\n",
    "|熵|$-(0.5log_2(0.5)+0.5log_2(0.5)) = 1$|$-(0.75log_2(0.75)+0.25log_2(0.25)) = 0.81$|$-(0.75log_2(0.75)+0.25log_2(0.25)) = 0.81$|"
   ]
  },
  {
   "cell_type": "markdown",
   "metadata": {
    "slideshow": {
     "slide_type": "subslide"
    }
   },
   "source": [
    "## 決策樹（7）\n",
    "\n",
    "- 先計算各個節點的資訊值\n",
    "- B 情況：\n",
    "\n",
    "|計算方式|$I(D_p)$|$I(D_{left})$|$I(D_{right})$|\n",
    "|-------|-----------|---------------|----------------|\n",
    "|錯誤率|$40/80 = 0.5$|$20/60 = 1/3$|$0/20 = 0$|\n",
    "|吉尼指標|$1-0.5^2-0.5^2 = 0.5$|$1-(2/3)^2-(1/3)^2 = 1/3$|$1-1^2-0^2 = 0$|\n",
    "|熵|$-(0.5log_2(0.5)+0.5log_2(0.5)) = 1$|$-(2/3log_2(2/3)+(1/3)log_2(1/3)) = 0.92$|$-(1log_2(1)+0log_2(0)) = 0$|"
   ]
  },
  {
   "cell_type": "markdown",
   "metadata": {
    "slideshow": {
     "slide_type": "subslide"
    }
   },
   "source": [
    "## 決策樹（8）\n",
    "\n",
    "- 最後計算**資訊增益值**：\n",
    "\n",
    "|計算方式|情況 A|情況 B|\n",
    "|-------|-----|------|\n",
    "|錯誤率|$0.5-\\frac{40}{80}\\times0.25-\\frac{40}{80}\\times0.25 = 0.25$|$0.5-\\frac{6}{8}\\times\\frac{1}{3}-0=0.25$|\n",
    "|吉尼指標|$0.5-\\frac{4}{8}\\times0.375-\\frac{4}{8}\\times0.375=0.125$|$1-\\frac{6}{8}\\times0.\\bar{4}-0=0.1\\bar{6}$|\n",
    "|熵|$0.5-\\frac{4}{8}\\times0.81-\\frac{4}{8}\\times0.81=0.125$|$1-\\frac{6}{8}\\times0.92-0=0.31$|\n",
    "\n",
    "- 實務使用熵（Entropy）居多"
   ]
  },
  {
   "cell_type": "code",
   "execution_count": 48,
   "metadata": {
    "collapsed": false,
    "slideshow": {
     "slide_type": "subslide"
    }
   },
   "outputs": [
    {
     "data": {
      "image/png": "[encoded data removed]",
      "text/plain": [
       "<matplotlib.figure.Figure at 0x11c20f490>"
      ]
     },
     "metadata": {},
     "output_type": "display_data"
    }
   ],
   "source": [
    "from sklearn.tree import DecisionTreeClassifier\n",
    "\n",
    "tree = DecisionTreeClassifier(criterion = \"entropy\", max_depth = 4)\n",
    "tree.fit(X_train, y_train)\n",
    "plot_decision_region(X = X, y = y, classifier = tree)\n",
    "plt.legend(loc = 'upper left')\n",
    "plt.show()"
   ]
  },
  {
   "cell_type": "code",
   "execution_count": 49,
   "metadata": {
    "collapsed": false,
    "slideshow": {
     "slide_type": "subslide"
    }
   },
   "outputs": [
    {
     "name": "stdout",
     "output_type": "stream",
     "text": [
      "Accuracy: 0.93\n"
     ]
    }
   ],
   "source": [
    "from sklearn.metrics import accuracy_score\n",
    "\n",
    "y_pred = tree.predict(X_test)\n",
    "print('Accuracy: %.2f' % accuracy_score(y_test, y_pred))"
   ]
  },
  {
   "cell_type": "markdown",
   "metadata": {
    "collapsed": true,
    "slideshow": {
     "slide_type": "subslide"
    }
   },
   "source": [
    "## 決策樹（9）\n",
    "\n",
    "- 假如想要畫出分支圖，需要另外安裝[GraphViz](http://www.graphviz.org/)\n",
    "\n",
    "![GraphViz Decision Tree](https://storage.googleapis.com/py_ml_images/tree_graphviz.png)"
   ]
  },
  {
   "cell_type": "markdown",
   "metadata": {
    "slideshow": {
     "slide_type": "slide"
    }
   },
   "source": [
    "# K 最近鄰"
   ]
  },
  {
   "cell_type": "markdown",
   "metadata": {
    "slideshow": {
     "slide_type": "subslide"
    }
   },
   "source": [
    "## K 最近鄰\n",
    "\n",
    "![knn](https://storage.googleapis.com/py_ml_images/knn.png)"
   ]
  },
  {
   "cell_type": "code",
   "execution_count": 50,
   "metadata": {
    "collapsed": false,
    "slideshow": {
     "slide_type": "subslide"
    }
   },
   "outputs": [
    {
     "data": {
      "image/png": "[encoded data removed]",
      "text/plain": [
       "<matplotlib.figure.Figure at 0x11cbc1e90>"
      ]
     },
     "metadata": {},
     "output_type": "display_data"
    }
   ],
   "source": [
    "from sklearn.neighbors import KNeighborsClassifier\n",
    "\n",
    "knn = KNeighborsClassifier() # default 5\n",
    "knn.fit(X_train, y_train)\n",
    "plot_decision_region(X = X, y = y, classifier = knn) # 換分類器\n",
    "plt.legend(loc = 'upper left')\n",
    "plt.show()"
   ]
  },
  {
   "cell_type": "code",
   "execution_count": 51,
   "metadata": {
    "collapsed": false,
    "slideshow": {
     "slide_type": "subslide"
    }
   },
   "outputs": [
    {
     "name": "stdout",
     "output_type": "stream",
     "text": [
      "Accuracy: 0.93\n"
     ]
    }
   ],
   "source": [
    "from sklearn.metrics import accuracy_score\n",
    "\n",
    "y_pred = knn.predict(X_test)\n",
    "print('Accuracy: %.2f' % accuracy_score(y_test, y_pred))"
   ]
  },
  {
   "cell_type": "markdown",
   "metadata": {
    "slideshow": {
     "slide_type": "slide"
    }
   },
   "source": [
    "# 整體學習"
   ]
  },
  {
   "cell_type": "markdown",
   "metadata": {
    "slideshow": {
     "slide_type": "subslide"
    }
   },
   "source": [
    "## 整體學習\n",
    "\n",
    "- 將數個分類器的預測結果綜合考慮\n",
    "- 以一題是非題來說，假如我們使用一個銅板來決定答案要填是還是非，答對的機率是 50%\n",
    "- 使用 3 個銅板來決定答案，答對的機率是 $1-(50\\%)^3=87.5\\%$，如果銅板的數目來到 5 枚，答對的機率是 $1-(50\\%)^5=96.875\\%$"
   ]
  },
  {
   "cell_type": "markdown",
   "metadata": {
    "slideshow": {
     "slide_type": "subslide"
    }
   },
   "source": [
    "## 整體學習（2）\n",
    "\n",
    "- 多數決（Majority Voting）\n",
    "\n",
    "例如：\n",
    "\n",
    "分類器 1 -> class 1\n",
    "\n",
    "分類器 2 -> class 1\n",
    "\n",
    "分類器 3 -> class 2\n",
    "\n",
    "分類標籤：**class 1**"
   ]
  },
  {
   "cell_type": "code",
   "execution_count": 52,
   "metadata": {
    "collapsed": false,
    "slideshow": {
     "slide_type": "subslide"
    }
   },
   "outputs": [
    {
     "name": "stdout",
     "output_type": "stream",
     "text": [
      "Accuracy of Decision Tree: 0.9333\n",
      "Accuracy of KNN: 0.9333\n",
      "Accuracy of Kernel SVM: 0.9333\n",
      "Accuracy of Majority Voting: 0.9333\n"
     ]
    }
   ],
   "source": [
    "from sklearn.tree import DecisionTreeClassifier\n",
    "from sklearn.neighbors import KNeighborsClassifier\n",
    "from sklearn.svm import SVC\n",
    "from sklearn.ensemble import VotingClassifier\n",
    "from sklearn.metrics import accuracy_score\n",
    "\n",
    "tree = DecisionTreeClassifier(criterion = \"entropy\", max_depth = 4)\n",
    "knn = KNeighborsClassifier()\n",
    "svc = SVC(kernel='rbf')\n",
    "eclf = VotingClassifier(estimators=[('tree', tree), ('knn', knn), ('svc', svc)])\n",
    "\n",
    "tree.fit(X_train, y_train)\n",
    "knn.fit(X_train, y_train)\n",
    "svc.fit(X_train, y_train)\n",
    "eclf.fit(X_train, y_train)\n",
    "\n",
    "titles = ['Decision Tree', 'KNN', 'Kernel SVM', 'Majority Voting']\n",
    "clfs = [tree, knn, svc, eclf]\n",
    "for title, clf in zip(titles, clfs):\n",
    "    y_pred = clf.predict(X_test)\n",
    "    print \"Accuracy of %s: %.4f\" % (title, accuracy_score(y_test, y_pred))"
   ]
  },
  {
   "cell_type": "markdown",
   "metadata": {
    "slideshow": {
     "slide_type": "subslide"
    }
   },
   "source": [
    "## 整體學習（3）\n",
    "\n",
    "- 隨機森林（Random Forest）\n",
    "    - 用 **Sampling with replacement** 的方式選出 m 個觀測值\n",
    "    - 隨機選 n 個變數\n",
    "    - 建出多個決策樹\n",
    "    - 讓多個決策樹進行多數決"
   ]
  },
  {
   "cell_type": "code",
   "execution_count": 53,
   "metadata": {
    "collapsed": false,
    "slideshow": {
     "slide_type": "subslide"
    }
   },
   "outputs": [
    {
     "data": {
      "image/png": "[encoded data removed]",
      "text/plain": [
       "<matplotlib.figure.Figure at 0x11dce1c90>"
      ]
     },
     "metadata": {},
     "output_type": "display_data"
    }
   ],
   "source": [
    "from sklearn.ensemble import RandomForestClassifier\n",
    "from sklearn.metrics import accuracy_score\n",
    "\n",
    "forest = RandomForestClassifier(max_depth = 4, n_estimators = 100)\n",
    "forest.fit(X_train, y_train)\n",
    "plot_decision_region(X = X, y = y, classifier = forest) # 換分類器\n",
    "plt.legend(loc = 'upper left')\n",
    "plt.show()"
   ]
  },
  {
   "cell_type": "code",
   "execution_count": 54,
   "metadata": {
    "collapsed": false,
    "slideshow": {
     "slide_type": "subslide"
    }
   },
   "outputs": [
    {
     "name": "stdout",
     "output_type": "stream",
     "text": [
      "Accuracy: 0.93\n"
     ]
    }
   ],
   "source": [
    "y_pred = forest.predict(X_test)\n",
    "print('Accuracy: %.2f' % accuracy_score(y_test, y_pred))"
   ]
  },
  {
   "cell_type": "markdown",
   "metadata": {
    "slideshow": {
     "slide_type": "slide"
    }
   },
   "source": [
    "# 分群問題"
   ]
  },
  {
   "cell_type": "markdown",
   "metadata": {
    "slideshow": {
     "slide_type": "subslide"
    }
   },
   "source": [
    "## 分群問題\n",
    "\n",
    "- 處理沒有標籤的資料\n",
    "- 沒有對與錯\n",
    "- 掌握組內差異小、組間差異大\n",
    "- 以觀測值之間的距離作為度量"
   ]
  },
  {
   "cell_type": "markdown",
   "metadata": {
    "slideshow": {
     "slide_type": "subslide"
    }
   },
   "source": [
    "## 分群問題（2）\n",
    "\n",
    "- 性別（2 群）\n",
    "- 血型（4 群）\n",
    "- 星座（12 群）"
   ]
  },
  {
   "cell_type": "markdown",
   "metadata": {
    "slideshow": {
     "slide_type": "subslide"
    }
   },
   "source": [
    "## 分群問題（3）\n",
    "\n",
    "- 與分類問題的比較：\n",
    "\n",
    "$$\\text{Training set: } (x_i, y_i)$$"
   ]
  },
  {
   "cell_type": "code",
   "execution_count": 55,
   "metadata": {
    "collapsed": false,
    "slideshow": {
     "slide_type": "skip"
    }
   },
   "outputs": [
    {
     "data": {
      "text/plain": [
       "<matplotlib.text.Text at 0x11cb32310>"
      ]
     },
     "execution_count": 55,
     "metadata": {},
     "output_type": "execute_result"
    }
   ],
   "source": [
    "import numpy as np\n",
    "import matplotlib.pyplot as plt\n",
    "import random\n",
    "\n",
    "x1_arr = np.linspace(0, 3, 100)\n",
    "x_points = np.linspace(0, 3, 20)\n",
    "x_points_len = int(len(x_points) / 2)\n",
    "y_minus = np.array(random.sample(np.arange(1, 2, 0.01), k = x_points_len)) - x_points[:x_points_len]\n",
    "y_plus = np.array(random.sample(np.arange(4, 6, 0.01), k = x_points_len)) - x_points[x_points_len:]\n",
    "plt.scatter(x_points[:x_points_len], y_minus, marker = '_', s = 200)\n",
    "plt.scatter(x_points[x_points_len:], y_plus, marker = '+', c = 'r', s = 200)\n",
    "plt.plot(x1_arr, 3 - x1_arr, c = 'k')\n",
    "plt.xlabel(\"$x_1$\")\n",
    "plt.ylabel(\"$x_2$\")\n",
    "plt.title(\"Classification\")"
   ]
  },
  {
   "cell_type": "code",
   "execution_count": 56,
   "metadata": {
    "collapsed": false,
    "slideshow": {
     "slide_type": "subslide"
    }
   },
   "outputs": [
    {
     "data": {
      "image/png": "[encoded data removed]",
      "text/plain": [
       "<matplotlib.figure.Figure at 0x11cb4ea50>"
      ]
     },
     "metadata": {},
     "output_type": "display_data"
    }
   ],
   "source": [
    "plt.show()"
   ]
  },
  {
   "cell_type": "markdown",
   "metadata": {
    "slideshow": {
     "slide_type": "subslide"
    }
   },
   "source": [
    "## 分群問題（4）\n",
    "\n",
    "- 與分類問題比較\n",
    "\n",
    "$$\\text{Training set: } x_i$$"
   ]
  },
  {
   "cell_type": "code",
   "execution_count": 57,
   "metadata": {
    "collapsed": false,
    "slideshow": {
     "slide_type": "skip"
    }
   },
   "outputs": [
    {
     "data": {
      "text/plain": [
       "<matplotlib.text.Text at 0x11c8bc250>"
      ]
     },
     "execution_count": 57,
     "metadata": {},
     "output_type": "execute_result"
    }
   ],
   "source": [
    "import numpy as np\n",
    "import matplotlib.pyplot as plt\n",
    "import random\n",
    "\n",
    "x1_arr = np.linspace(0, 3, 100)\n",
    "x_points = np.linspace(0, 3, 10)\n",
    "x_points_len = int(len(x_points) / 2)\n",
    "random.seed(123)\n",
    "y_minus = np.array(random.sample(np.arange(1, 2, 0.01), k = x_points_len)) - x_points[:x_points_len]\n",
    "y_plus = np.array(random.sample(np.arange(4, 6, 0.01), k = x_points_len)) - x_points[x_points_len:]\n",
    "fig, ax = plt.subplots()\n",
    "ax.scatter(x_points[:x_points_len], y_minus, s = 200, c = 'r')\n",
    "ax.scatter(x_points[x_points_len:], y_plus, s = 200, c = 'b')\n",
    "circle1 = plt.Circle((0.5, 0.5), 1, color = 'r', fill = False)\n",
    "circle2 = plt.Circle((2.5, 2.2), 1.2, color = 'b', fill = False)\n",
    "ax.add_artist(circle1)\n",
    "ax.add_artist(circle2)\n",
    "ax.set_xlabel(\"$x_1$\")\n",
    "ax.set_ylabel(\"$x_2$\")\n",
    "ax.set_xlim(-0.5, 4)\n",
    "ax.set_ylim(-0.5, 4)\n",
    "ax.set_title(\"Clustering\")"
   ]
  },
  {
   "cell_type": "code",
   "execution_count": 58,
   "metadata": {
    "collapsed": false,
    "slideshow": {
     "slide_type": "subslide"
    }
   },
   "outputs": [
    {
     "data": {
      "image/png": "[encoded data removed]",
      "text/plain": [
       "<matplotlib.figure.Figure at 0x11cf68d10>"
      ]
     },
     "metadata": {},
     "output_type": "display_data"
    }
   ],
   "source": [
    "plt.show()"
   ]
  },
  {
   "cell_type": "markdown",
   "metadata": {
    "slideshow": {
     "slide_type": "subslide"
    }
   },
   "source": [
    "## 分群問題（5）\n",
    "\n",
    "- K-means 分群方法的成本函數\n",
    "\n",
    "$$c: \\; \\text{分群的索引值}$$\n",
    "$$\\mu_k: \\; \\text{不同分群的中心點}$$\n",
    "$$\\mu_c: \\; \\text{計算距離後收斂的不同分群中心點}$$\n",
    "$$\\text{minimize:} \\; J(c, \\mu_k) = \\frac{1}{m}\\sum_{i = 1}^{m}(x_i-\\mu_c)^2$$"
   ]
  },
  {
   "cell_type": "markdown",
   "metadata": {
    "slideshow": {
     "slide_type": "subslide"
    }
   },
   "source": [
    "## 分群問題（6）\n",
    "\n",
    "- K-means 演算的方式\n",
    "\n",
    "![Stanford.edu：K-Means 視覺化](http://stanford.edu/~cpiech/cs221/img/kmeansViz.png)\n",
    "\n",
    "Source: [Stanford.edu](https://www.stanford.edu/)"
   ]
  },
  {
   "cell_type": "markdown",
   "metadata": {
    "slideshow": {
     "slide_type": "subslide"
    }
   },
   "source": [
    "## 分群問題（7）\n",
    "\n",
    "- 初始 $K$ 個中心點的位置對結果有決定性的影響"
   ]
  },
  {
   "cell_type": "code",
   "execution_count": 59,
   "metadata": {
    "collapsed": false,
    "slideshow": {
     "slide_type": "skip"
    }
   },
   "outputs": [
    {
     "data": {
      "text/plain": [
       "<matplotlib.collections.PathCollection at 0x11e3ca090>"
      ]
     },
     "execution_count": 59,
     "metadata": {},
     "output_type": "execute_result"
    }
   ],
   "source": [
    "import numpy as np\n",
    "import matplotlib.pyplot as plt\n",
    "import random\n",
    "\n",
    "x_arr = np.arange(1, 13)\n",
    "y_arr_length = [3, 4, 5]\n",
    "random.seed(123)\n",
    "y_arr_1 = x_arr[:3] + np.array(random.sample(np.arange(10, 15, 0.1), k = y_arr_length[0]))\n",
    "y_arr_2 = x_arr[3:7] + np.array(random.sample(np.arange(0, 5, 0.1), k = y_arr_length[1]))\n",
    "y_arr_3 = x_arr[7:] + np.array(random.sample(np.arange(5, 10, 0.1), k = y_arr_length[2]))\n",
    "plt.scatter(x_arr[:3], y_arr_1, s = 100, c = 'k')\n",
    "plt.scatter(x_arr[3:7], y_arr_2, s = 100, c = 'k')\n",
    "plt.scatter(x_arr[7:], y_arr_3, s = 100, c = 'k')"
   ]
  },
  {
   "cell_type": "code",
   "execution_count": 60,
   "metadata": {
    "collapsed": false,
    "slideshow": {
     "slide_type": "subslide"
    }
   },
   "outputs": [
    {
     "data": {
      "image/png": "[encoded data removed]",
      "text/plain": [
       "<matplotlib.figure.Figure at 0x11cfa8350>"
      ]
     },
     "metadata": {},
     "output_type": "display_data"
    }
   ],
   "source": [
    "plt.show()"
   ]
  },
  {
   "cell_type": "code",
   "execution_count": 61,
   "metadata": {
    "collapsed": false,
    "slideshow": {
     "slide_type": "skip"
    }
   },
   "outputs": [
    {
     "data": {
      "text/plain": [
       "[<matplotlib.lines.Line2D at 0x11c218c50>]"
      ]
     },
     "execution_count": 61,
     "metadata": {},
     "output_type": "execute_result"
    }
   ],
   "source": [
    "import numpy as np\n",
    "import matplotlib.pyplot as plt\n",
    "import random\n",
    "\n",
    "x_arr = np.arange(1, 13)\n",
    "y_arr_length = [3, 4, 5]\n",
    "random.seed(123)\n",
    "y_arr_1 = x_arr[:3] + np.array(random.sample(np.arange(10, 15, 0.1), k = y_arr_length[0]))\n",
    "y_arr_2 = x_arr[3:7] + np.array(random.sample(np.arange(0, 5, 0.1), k = y_arr_length[1]))\n",
    "y_arr_3 = x_arr[7:] + np.array(random.sample(np.arange(5, 10, 0.1), k = y_arr_length[2]))\n",
    "plt.scatter(x_arr[:3], y_arr_1, s = 100, c = 'r')\n",
    "plt.scatter(x_arr[3:7], y_arr_2, s = 100, c = 'g')\n",
    "plt.scatter(x_arr[7:], y_arr_3, s = 100, c = 'b')\n",
    "plt.plot(2, 14, marker = 'X', markersize = 20, c = 'r')\n",
    "plt.plot(5, 8, marker = 'X', markersize = 20, c = 'g')\n",
    "plt.plot(10, 18, marker = 'X', markersize = 20, c = 'b')"
   ]
  },
  {
   "cell_type": "code",
   "execution_count": 62,
   "metadata": {
    "collapsed": false,
    "slideshow": {
     "slide_type": "subslide"
    }
   },
   "outputs": [
    {
     "data": {
      "image/png": "[encoded data removed]",
      "text/plain": [
       "<matplotlib.figure.Figure at 0x11e530790>"
      ]
     },
     "metadata": {},
     "output_type": "display_data"
    }
   ],
   "source": [
    "plt.show()"
   ]
  },
  {
   "cell_type": "code",
   "execution_count": 63,
   "metadata": {
    "collapsed": false,
    "slideshow": {
     "slide_type": "skip"
    }
   },
   "outputs": [
    {
     "data": {
      "text/plain": [
       "[<matplotlib.lines.Line2D at 0x1192bd890>]"
      ]
     },
     "execution_count": 63,
     "metadata": {},
     "output_type": "execute_result"
    }
   ],
   "source": [
    "import numpy as np\n",
    "import matplotlib.pyplot as plt\n",
    "import random\n",
    "\n",
    "x_arr = np.arange(1, 13)\n",
    "y_arr_length = [3, 4, 5]\n",
    "random.seed(123)\n",
    "y_arr_1 = x_arr[:3] + np.array(random.sample(np.arange(10, 15, 0.1), k = y_arr_length[0]))\n",
    "y_arr_2 = x_arr[3:7] + np.array(random.sample(np.arange(0, 5, 0.1), k = y_arr_length[1]))\n",
    "y_arr_3 = x_arr[7:] + np.array(random.sample(np.arange(5, 10, 0.1), k = y_arr_length[2]))\n",
    "plt.scatter(x_arr[:3], y_arr_1, s = 100, c = 'r')\n",
    "plt.scatter(x_arr[3:7], y_arr_2, s = 100, c = 'r')\n",
    "plt.scatter(x_arr[7:10], y_arr_3[:3], s = 100, c = 'g')\n",
    "plt.scatter(x_arr[10:], y_arr_3[3:], s = 100, c = 'b')\n",
    "plt.plot(3, 10, marker = 'X', markersize = 20, c = 'r')\n",
    "plt.plot(9, 16, marker = 'X', markersize = 20, c = 'g')\n",
    "plt.plot(11.5, 18, marker = 'X', markersize = 20, c = 'b')"
   ]
  },
  {
   "cell_type": "code",
   "execution_count": 64,
   "metadata": {
    "collapsed": false,
    "slideshow": {
     "slide_type": "subslide"
    }
   },
   "outputs": [
    {
     "data": {
      "image/png": "[encoded data removed]",
      "text/plain": [
       "<matplotlib.figure.Figure at 0x11c9ac7d0>"
      ]
     },
     "metadata": {},
     "output_type": "display_data"
    }
   ],
   "source": [
    "plt.show()"
   ]
  },
  {
   "cell_type": "markdown",
   "metadata": {
    "slideshow": {
     "slide_type": "subslide"
    }
   },
   "source": [
    "## 分群問題（8）\n",
    "\n",
    "- 透過多進行幾次初始化 $K$ 個中心點的位置來進行校正\n",
    "- 從多次的分群中選擇一個 $J(c, \\mu_k)$ 最小的分群"
   ]
  },
  {
   "cell_type": "markdown",
   "metadata": {
    "slideshow": {
     "slide_type": "subslide"
    }
   },
   "source": [
    "## 分群問題（9）\n",
    "\n",
    "- 如何選擇一個合適的 $K$？\n",
    "    - 性別（2 群）\n",
    "    - 血型（4 群）\n",
    "    - 星座（12 群）\n",
    "    - 出生月日（366 群）\n",
    "    - DNA（75+ 億群）"
   ]
  },
  {
   "cell_type": "markdown",
   "metadata": {
    "slideshow": {
     "slide_type": "subslide"
    }
   },
   "source": [
    "## 分群問題（10）\n",
    "\n",
    "- 利用陡坡圖（Scree plot）尋找手肘點（Elbow point）"
   ]
  },
  {
   "cell_type": "code",
   "execution_count": 65,
   "metadata": {
    "collapsed": false,
    "slideshow": {
     "slide_type": "skip"
    }
   },
   "outputs": [
    {
     "data": {
      "text/plain": [
       "<matplotlib.text.Text at 0x11c0e8290>"
      ]
     },
     "execution_count": 65,
     "metadata": {},
     "output_type": "execute_result"
    }
   ],
   "source": [
    "import matplotlib.pyplot as plt\n",
    "import numpy as np\n",
    "\n",
    "x = np.arange(0.01, 1, 0.1)\n",
    "y1 = -np.log(x)\n",
    "plt.plot(x, y1, marker = 's')\n",
    "plt.plot(x[[2, 3]], y1[[2, 3]], c = 'r', marker = 'X', lw = 0, markersize = 10)\n",
    "plt.xticks(x, range(1, 10))\n",
    "plt.xlabel(\"Number of clusters\")\n",
    "plt.ylabel(\"$J(c, \\mu_k)$\")"
   ]
  },
  {
   "cell_type": "code",
   "execution_count": 66,
   "metadata": {
    "collapsed": false,
    "slideshow": {
     "slide_type": "subslide"
    }
   },
   "outputs": [
    {
     "data": {
      "image/png": "[encoded data removed]",
      "text/plain": [
       "<matplotlib.figure.Figure at 0x11c985f10>"
      ]
     },
     "metadata": {},
     "output_type": "display_data"
    }
   ],
   "source": [
    "plt.show()"
   ]
  },
  {
   "cell_type": "markdown",
   "metadata": {
    "slideshow": {
     "slide_type": "slide"
    }
   },
   "source": [
    "## 參考連結\n",
    "\n",
    "- [Machine Learning Foundations (機器學習基石)](https://www.youtube.com/playlist?list=PLXVfgk9fNX2I7tB6oIINGBmW50rrmFTqf)\n",
    "- [Machine Learning Techniques (機器學習技法)](https://www.youtube.com/playlist?list=PLXVfgk9fNX2IQOYPmqjqWsNUFl2kpk1U2)\n",
    "- [Coursera Machine Learning](https://www.coursera.org/learn/machine-learning/home/welcome)"
   ]
  },
  {
   "cell_type": "markdown",
   "metadata": {
    "slideshow": {
     "slide_type": "slide"
    }
   },
   "source": [
    "## 作業\n",
    "\n",
    "1. （延續上次作業）將 https://storage.googleapis.com/py_ml_datasets/train.csv 中的 `Sex` 與 `Embarked` 由類別型變數轉換為 One-hot encoding 的 dummy variables\n",
    "2. 將 `Age` 的遺漏值以中位數填補\n",
    "3. 將 `Embarked` 的遺漏值以 S 填補 \n",
    "4. 將資料以 7:3 比例分割成訓練與測試資料\n",
    "5. 任意選三個分類器利用訓練資料建立 $h$\n",
    "6. 比較這三個分類器在測試資料的準確率"
   ]
  }
 ],
 "metadata": {
  "celltoolbar": "Slideshow",
  "kernelspec": {
   "display_name": "Python 2",
   "language": "python",
   "name": "python2"
  },
  "language_info": {
   "codemirror_mode": {
    "name": "ipython",
    "version": 2
   },
   "file_extension": ".py",
   "mimetype": "text/x-python",
   "name": "python",
   "nbconvert_exporter": "python",
   "pygments_lexer": "ipython2",
   "version": "2.7.13"
  }
 },
 "nbformat": 4,
 "nbformat_minor": 2
}
