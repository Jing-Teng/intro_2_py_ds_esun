{
 "cells": [
  {
   "cell_type": "markdown",
   "metadata": {
    "slideshow": {
     "slide_type": "slide"
    }
   },
   "source": [
    "# Python 與機器學習\n",
    "\n",
    "## 郭耀仁"
   ]
  },
  {
   "cell_type": "markdown",
   "metadata": {
    "slideshow": {
     "slide_type": "slide"
    }
   },
   "source": [
    "## 課程內容\n",
    "\n",
    "- 簡介\n",
    "- Scikit-Learn\n",
    "- 迴歸問題"
   ]
  },
  {
   "cell_type": "markdown",
   "metadata": {
    "slideshow": {
     "slide_type": "slide"
    }
   },
   "source": [
    "## 簡介"
   ]
  },
  {
   "cell_type": "markdown",
   "metadata": {
    "slideshow": {
     "slide_type": "subslide"
    }
   },
   "source": [
    "## 機器學習的定位\n",
    "\n",
    "![](https://ingomierswacom.files.wordpress.com/2017/04/ai_ml_dl.jpg?w=676)\n",
    "\n",
    "Source: [rapidminer](https://rapidminer.com/artificial-intelligence-machine-learning-deep-learning/)"
   ]
  },
  {
   "cell_type": "markdown",
   "metadata": {
    "slideshow": {
     "slide_type": "subslide"
    }
   },
   "source": [
    "## 定義機器學習\n",
    "\n",
    "[Arthur Samuel](https://en.wikipedia.org/wiki/Arthur_Samuel)\n",
    "> The field of study that gives computers the ability to learn without being explicitly programmed."
   ]
  },
  {
   "cell_type": "markdown",
   "metadata": {
    "slideshow": {
     "slide_type": "subslide"
    }
   },
   "source": [
    "## 定義機器學習（2）\n",
    "\n",
    "[Tom Mitchell](http://www.cs.cmu.edu/~tom/)\n",
    "> A computer program is said to learn from experience E with respect to some class of tasks T and performance measure P, if its performance at tasks in T, as measured by P, improves with experience E."
   ]
  },
  {
   "cell_type": "markdown",
   "metadata": {
    "slideshow": {
     "slide_type": "subslide"
    }
   },
   "source": [
    "## 定義機器學習（3）\n",
    "\n",
    "[林軒田](http://www.csie.ntu.edu.tw/~htlin/)\n",
    "> 我們從小是怎麼樣辨認一棵樹的，是爸爸媽媽告訴我們一百條規則來定義嗎？其實不是的，很大一部分是透過我們自己的觀察很多的樹與不是樹之後，得到並且內化了辨認一棵樹的技巧，機器學習想要做的就是一樣的事情。"
   ]
  },
  {
   "cell_type": "markdown",
   "metadata": {
    "slideshow": {
     "slide_type": "subslide"
    }
   },
   "source": [
    "## 機器學習的種類\n",
    "\n",
    "- 監督式學習（Supervised Learning）：具有目標變數的 Labeled data\n",
    "    - Gmail 會幫你分類郵件\n",
    "    - [Jin Yang's Hot Dog Claasifier](https://youtu.be/ACmydtFDTGs)\n",
    "- 非監督式學習（Unsupervised Learning）：沒有目標變數的 Unlabeled data\n",
    "    - 將客戶分成不同的 Segments\n",
    "    - 降維時所使用的主成份分析"
   ]
  },
  {
   "cell_type": "markdown",
   "metadata": {
    "slideshow": {
     "slide_type": "subslide"
    }
   },
   "source": [
    "## 機器學習的種類（2）\n",
    "\n",
    "- 監督式學習（Supervised Learning）\n",
    "    - 迴歸問題：目標變數是連續型（數值），像是股價、氣溫、匯率、房價...等\n",
    "    - 分類問題：目標變數是離散型（類別），像是垃圾郵件/非垃圾郵件、熱狗/非熱狗...等"
   ]
  },
  {
   "cell_type": "markdown",
   "metadata": {
    "slideshow": {
     "slide_type": "subslide"
    }
   },
   "source": [
    "## Scikit-Learn"
   ]
  },
  {
   "cell_type": "markdown",
   "metadata": {
    "slideshow": {
     "slide_type": "subslide"
    }
   },
   "source": [
    "## 認識 Scikit-Learn\n",
    "\n",
    "- 用來實作資料探勘與機器學習的 Python 套件\n",
    "- 建構於 NumPy，SciPy 與 Matplotlib 套件之上\n",
    "- 有[六大功能模組](http://scikit-learn.org/stable/index.html)：\n",
    "    - 預處理\n",
    "    - 降維\n",
    "    - 迴歸\n",
    "    - 分群\n",
    "    - 分類\n",
    "    - 模型評估"
   ]
  },
  {
   "cell_type": "markdown",
   "metadata": {
    "slideshow": {
     "slide_type": "subslide"
    }
   },
   "source": [
    "## 認識 Scikit-Learn（2）\n",
    "\n",
    "- [其他的 Scikits](https://scikits.appspot.com/scikits)\n",
    "- [Scikit-Learn 機器學習地圖](http://scikit-learn.org/stable/tutorial/machine_learning_map/)"
   ]
  },
  {
   "cell_type": "markdown",
   "metadata": {
    "slideshow": {
     "slide_type": "subslide"
    }
   },
   "source": [
    "## 認識 Scikit-Learn（3）\n",
    "\n",
    "- Scikit--Learn 搭載豐富的玩具資料集（toy datasets）\n",
    "\n",
    "```python\n",
    "from sklearn.datasets import xxx\n",
    "```"
   ]
  },
  {
   "cell_type": "markdown",
   "metadata": {
    "slideshow": {
     "slide_type": "subslide"
    }
   },
   "source": [
    "## 玩具資料集\n",
    "\n",
    "- [boston 資料集](http://scikit-learn.org/stable/modules/generated/sklearn.datasets.load_boston.html#sklearn.datasets.load_boston)\n",
    "- [iris 資料集](http://scikit-learn.org/stable/modules/generated/sklearn.datasets.load_iris.html#sklearn.datasets.load_iris)\n",
    "- [digits 資料集](http://scikit-learn.org/stable/modules/generated/sklearn.datasets.load_digits.html#sklearn.datasets.load_digits)"
   ]
  },
  {
   "cell_type": "markdown",
   "metadata": {
    "slideshow": {
     "slide_type": "subslide"
    }
   },
   "source": [
    "## 玩具資料集（2）\n",
    "\n",
    "- [boston 資料集](http://scikit-learn.org/stable/modules/generated/sklearn.datasets.load_boston.html#sklearn.datasets.load_boston)"
   ]
  },
  {
   "cell_type": "code",
   "execution_count": 1,
   "metadata": {
    "collapsed": false,
    "slideshow": {
     "slide_type": "subslide"
    }
   },
   "outputs": [
    {
     "name": "stdout",
     "output_type": "stream",
     "text": [
      "Boston House Prices dataset\n",
      "===========================\n",
      "\n",
      "Notes\n",
      "------\n",
      "Data Set Characteristics:  \n",
      "\n",
      "    :Number of Instances: 506 \n",
      "\n",
      "    :Number of Attributes: 13 numeric/categorical predictive\n",
      "    \n",
      "    :Median Value (attribute 14) is usually the target\n",
      "\n",
      "    :Attribute Information (in order):\n",
      "        - CRIM     per capita crime rate by town\n",
      "        - ZN       proportion of residential land zoned for lots over 25,000 sq.ft.\n",
      "        - INDUS    proportion of non-retail business acres per town\n",
      "        - CHAS     Charles River dummy variable (= 1 if tract bounds river; 0 otherwise)\n",
      "        - NOX      nitric oxides concentration (parts per 10 million)\n",
      "        - RM       average number of rooms per dwelling\n",
      "        - AGE      proportion of owner-occupied units built prior to 1940\n",
      "        - DIS      weighted distances to five Boston employment centres\n",
      "        - RAD      index of accessibility to radial highways\n",
      "        - TAX      full-value property-tax rate per $10,000\n",
      "        - PTRATIO  pupil-teacher ratio by town\n",
      "        - B        1000(Bk - 0.63)^2 where Bk is the proportion of blacks by town\n",
      "        - LSTAT    % lower status of the population\n",
      "        - MEDV     Median value of owner-occupied homes in $1000's\n",
      "\n",
      "    :Missing Attribute Values: None\n",
      "\n",
      "    :Creator: Harrison, D. and Rubinfeld, D.L.\n",
      "\n",
      "This is a copy of UCI ML housing dataset.\n",
      "http://archive.ics.uci.edu/ml/datasets/Housing\n",
      "\n",
      "\n",
      "This dataset was taken from the StatLib library which is maintained at Carnegie Mellon University.\n",
      "\n",
      "The Boston house-price data of Harrison, D. and Rubinfeld, D.L. 'Hedonic\n",
      "prices and the demand for clean air', J. Environ. Economics & Management,\n",
      "vol.5, 81-102, 1978.   Used in Belsley, Kuh & Welsch, 'Regression diagnostics\n",
      "...', Wiley, 1980.   N.B. Various transformations are used in the table on\n",
      "pages 244-261 of the latter.\n",
      "\n",
      "The Boston house-price data has been used in many machine learning papers that address regression\n",
      "problems.   \n",
      "     \n",
      "**References**\n",
      "\n",
      "   - Belsley, Kuh & Welsch, 'Regression diagnostics: Identifying Influential Data and Sources of Collinearity', Wiley, 1980. 244-261.\n",
      "   - Quinlan,R. (1993). Combining Instance-Based and Model-Based Learning. In Proceedings on the Tenth International Conference of Machine Learning, 236-243, University of Massachusetts, Amherst. Morgan Kaufmann.\n",
      "   - many more! (see http://archive.ics.uci.edu/ml/datasets/Housing)\n",
      "\n"
     ]
    }
   ],
   "source": [
    "from sklearn.datasets import load_boston\n",
    "\n",
    "boston = load_boston()\n",
    "print boston.DESCR"
   ]
  },
  {
   "cell_type": "code",
   "execution_count": 2,
   "metadata": {
    "collapsed": false,
    "slideshow": {
     "slide_type": "subslide"
    }
   },
   "outputs": [
    {
     "name": "stdout",
     "output_type": "stream",
     "text": [
      "(506,)\n",
      "(506, 13)\n"
     ]
    }
   ],
   "source": [
    "print boston.target.shape\n",
    "print boston.data.shape"
   ]
  },
  {
   "cell_type": "code",
   "execution_count": 3,
   "metadata": {
    "collapsed": false,
    "slideshow": {
     "slide_type": "subslide"
    }
   },
   "outputs": [
    {
     "name": "stdout",
     "output_type": "stream",
     "text": [
      "[ 24.   21.6  34.7  33.4  36.2  28.7]\n",
      "\n",
      "\n",
      "[[  6.32000000e-03   1.80000000e+01   2.31000000e+00   0.00000000e+00\n",
      "    5.38000000e-01   6.57500000e+00   6.52000000e+01   4.09000000e+00\n",
      "    1.00000000e+00   2.96000000e+02   1.53000000e+01   3.96900000e+02\n",
      "    4.98000000e+00]\n",
      " [  2.73100000e-02   0.00000000e+00   7.07000000e+00   0.00000000e+00\n",
      "    4.69000000e-01   6.42100000e+00   7.89000000e+01   4.96710000e+00\n",
      "    2.00000000e+00   2.42000000e+02   1.78000000e+01   3.96900000e+02\n",
      "    9.14000000e+00]\n",
      " [  2.72900000e-02   0.00000000e+00   7.07000000e+00   0.00000000e+00\n",
      "    4.69000000e-01   7.18500000e+00   6.11000000e+01   4.96710000e+00\n",
      "    2.00000000e+00   2.42000000e+02   1.78000000e+01   3.92830000e+02\n",
      "    4.03000000e+00]\n",
      " [  3.23700000e-02   0.00000000e+00   2.18000000e+00   0.00000000e+00\n",
      "    4.58000000e-01   6.99800000e+00   4.58000000e+01   6.06220000e+00\n",
      "    3.00000000e+00   2.22000000e+02   1.87000000e+01   3.94630000e+02\n",
      "    2.94000000e+00]\n",
      " [  6.90500000e-02   0.00000000e+00   2.18000000e+00   0.00000000e+00\n",
      "    4.58000000e-01   7.14700000e+00   5.42000000e+01   6.06220000e+00\n",
      "    3.00000000e+00   2.22000000e+02   1.87000000e+01   3.96900000e+02\n",
      "    5.33000000e+00]\n",
      " [  2.98500000e-02   0.00000000e+00   2.18000000e+00   0.00000000e+00\n",
      "    4.58000000e-01   6.43000000e+00   5.87000000e+01   6.06220000e+00\n",
      "    3.00000000e+00   2.22000000e+02   1.87000000e+01   3.94120000e+02\n",
      "    5.21000000e+00]]\n"
     ]
    }
   ],
   "source": [
    "print boston.target[:6]\n",
    "print \"\\n\"\n",
    "print boston.data[:6, :]"
   ]
  },
  {
   "cell_type": "markdown",
   "metadata": {
    "slideshow": {
     "slide_type": "subslide"
    }
   },
   "source": [
    "## 認識玩具資料集（3）\n",
    "\n",
    "- [iris 資料集](http://scikit-learn.org/stable/modules/generated/sklearn.datasets.load_iris.html#sklearn.datasets.load_iris)"
   ]
  },
  {
   "cell_type": "code",
   "execution_count": 4,
   "metadata": {
    "collapsed": false,
    "slideshow": {
     "slide_type": "subslide"
    }
   },
   "outputs": [
    {
     "name": "stdout",
     "output_type": "stream",
     "text": [
      "Iris Plants Database\n",
      "====================\n",
      "\n",
      "Notes\n",
      "-----\n",
      "Data Set Characteristics:\n",
      "    :Number of Instances: 150 (50 in each of three classes)\n",
      "    :Number of Attributes: 4 numeric, predictive attributes and the class\n",
      "    :Attribute Information:\n",
      "        - sepal length in cm\n",
      "        - sepal width in cm\n",
      "        - petal length in cm\n",
      "        - petal width in cm\n",
      "        - class:\n",
      "                - Iris-Setosa\n",
      "                - Iris-Versicolour\n",
      "                - Iris-Virginica\n",
      "    :Summary Statistics:\n",
      "\n",
      "    ============== ==== ==== ======= ===== ====================\n",
      "                    Min  Max   Mean    SD   Class Correlation\n",
      "    ============== ==== ==== ======= ===== ====================\n",
      "    sepal length:   4.3  7.9   5.84   0.83    0.7826\n",
      "    sepal width:    2.0  4.4   3.05   0.43   -0.4194\n",
      "    petal length:   1.0  6.9   3.76   1.76    0.9490  (high!)\n",
      "    petal width:    0.1  2.5   1.20  0.76     0.9565  (high!)\n",
      "    ============== ==== ==== ======= ===== ====================\n",
      "\n",
      "    :Missing Attribute Values: None\n",
      "    :Class Distribution: 33.3% for each of 3 classes.\n",
      "    :Creator: R.A. Fisher\n",
      "    :Donor: Michael Marshall (MARSHALL%PLU@io.arc.nasa.gov)\n",
      "    :Date: July, 1988\n",
      "\n",
      "This is a copy of UCI ML iris datasets.\n",
      "http://archive.ics.uci.edu/ml/datasets/Iris\n",
      "\n",
      "The famous Iris database, first used by Sir R.A Fisher\n",
      "\n",
      "This is perhaps the best known database to be found in the\n",
      "pattern recognition literature.  Fisher's paper is a classic in the field and\n",
      "is referenced frequently to this day.  (See Duda & Hart, for example.)  The\n",
      "data set contains 3 classes of 50 instances each, where each class refers to a\n",
      "type of iris plant.  One class is linearly separable from the other 2; the\n",
      "latter are NOT linearly separable from each other.\n",
      "\n",
      "References\n",
      "----------\n",
      "   - Fisher,R.A. \"The use of multiple measurements in taxonomic problems\"\n",
      "     Annual Eugenics, 7, Part II, 179-188 (1936); also in \"Contributions to\n",
      "     Mathematical Statistics\" (John Wiley, NY, 1950).\n",
      "   - Duda,R.O., & Hart,P.E. (1973) Pattern Classification and Scene Analysis.\n",
      "     (Q327.D83) John Wiley & Sons.  ISBN 0-471-22361-1.  See page 218.\n",
      "   - Dasarathy, B.V. (1980) \"Nosing Around the Neighborhood: A New System\n",
      "     Structure and Classification Rule for Recognition in Partially Exposed\n",
      "     Environments\".  IEEE Transactions on Pattern Analysis and Machine\n",
      "     Intelligence, Vol. PAMI-2, No. 1, 67-71.\n",
      "   - Gates, G.W. (1972) \"The Reduced Nearest Neighbor Rule\".  IEEE Transactions\n",
      "     on Information Theory, May 1972, 431-433.\n",
      "   - See also: 1988 MLC Proceedings, 54-64.  Cheeseman et al\"s AUTOCLASS II\n",
      "     conceptual clustering system finds 3 classes in the data.\n",
      "   - Many, many more ...\n",
      "\n"
     ]
    }
   ],
   "source": [
    "from sklearn.datasets import load_iris\n",
    "\n",
    "iris = load_iris()\n",
    "print iris.DESCR"
   ]
  },
  {
   "cell_type": "code",
   "execution_count": 5,
   "metadata": {
    "collapsed": false,
    "slideshow": {
     "slide_type": "subslide"
    }
   },
   "outputs": [
    {
     "name": "stdout",
     "output_type": "stream",
     "text": [
      "(150,)\n",
      "(150, 4)\n",
      "['setosa' 'versicolor' 'virginica']\n"
     ]
    }
   ],
   "source": [
    "print iris.target.shape\n",
    "print iris.data.shape\n",
    "print iris.target_names"
   ]
  },
  {
   "cell_type": "markdown",
   "metadata": {
    "slideshow": {
     "slide_type": "subslide"
    }
   },
   "source": [
    "## 認識玩具資料集（4）\n",
    "\n",
    "- [digits 資料集](http://scikit-learn.org/stable/modules/generated/sklearn.datasets.load_digits.html#sklearn.datasets.load_digits)"
   ]
  },
  {
   "cell_type": "code",
   "execution_count": 6,
   "metadata": {
    "collapsed": false,
    "slideshow": {
     "slide_type": "subslide"
    }
   },
   "outputs": [
    {
     "name": "stdout",
     "output_type": "stream",
     "text": [
      "Optical Recognition of Handwritten Digits Data Set\n",
      "===================================================\n",
      "\n",
      "Notes\n",
      "-----\n",
      "Data Set Characteristics:\n",
      "    :Number of Instances: 5620\n",
      "    :Number of Attributes: 64\n",
      "    :Attribute Information: 8x8 image of integer pixels in the range 0..16.\n",
      "    :Missing Attribute Values: None\n",
      "    :Creator: E. Alpaydin (alpaydin '@' boun.edu.tr)\n",
      "    :Date: July; 1998\n",
      "\n",
      "This is a copy of the test set of the UCI ML hand-written digits datasets\n",
      "http://archive.ics.uci.edu/ml/datasets/Optical+Recognition+of+Handwritten+Digits\n",
      "\n",
      "The data set contains images of hand-written digits: 10 classes where\n",
      "each class refers to a digit.\n",
      "\n",
      "Preprocessing programs made available by NIST were used to extract\n",
      "normalized bitmaps of handwritten digits from a preprinted form. From a\n",
      "total of 43 people, 30 contributed to the training set and different 13\n",
      "to the test set. 32x32 bitmaps are divided into nonoverlapping blocks of\n",
      "4x4 and the number of on pixels are counted in each block. This generates\n",
      "an input matrix of 8x8 where each element is an integer in the range\n",
      "0..16. This reduces dimensionality and gives invariance to small\n",
      "distortions.\n",
      "\n",
      "For info on NIST preprocessing routines, see M. D. Garris, J. L. Blue, G.\n",
      "T. Candela, D. L. Dimmick, J. Geist, P. J. Grother, S. A. Janet, and C.\n",
      "L. Wilson, NIST Form-Based Handprint Recognition System, NISTIR 5469,\n",
      "1994.\n",
      "\n",
      "References\n",
      "----------\n",
      "  - C. Kaynak (1995) Methods of Combining Multiple Classifiers and Their\n",
      "    Applications to Handwritten Digit Recognition, MSc Thesis, Institute of\n",
      "    Graduate Studies in Science and Engineering, Bogazici University.\n",
      "  - E. Alpaydin, C. Kaynak (1998) Cascading Classifiers, Kybernetika.\n",
      "  - Ken Tang and Ponnuthurai N. Suganthan and Xi Yao and A. Kai Qin.\n",
      "    Linear dimensionalityreduction using relevance weighted LDA. School of\n",
      "    Electrical and Electronic Engineering Nanyang Technological University.\n",
      "    2005.\n",
      "  - Claudio Gentile. A New Approximate Maximal Margin Classification\n",
      "    Algorithm. NIPS. 2000.\n",
      "\n"
     ]
    }
   ],
   "source": [
    "from sklearn.datasets import load_digits\n",
    "\n",
    "digits = load_digits()\n",
    "print digits.DESCR"
   ]
  },
  {
   "cell_type": "code",
   "execution_count": 7,
   "metadata": {
    "collapsed": false,
    "slideshow": {
     "slide_type": "subslide"
    }
   },
   "outputs": [
    {
     "name": "stdout",
     "output_type": "stream",
     "text": [
      "(1797, 8, 8)\n",
      "(8, 8)\n"
     ]
    }
   ],
   "source": [
    "print digits.images.shape\n",
    "print digits.images[0].shape"
   ]
  },
  {
   "cell_type": "code",
   "execution_count": 8,
   "metadata": {
    "collapsed": false,
    "slideshow": {
     "slide_type": "subslide"
    }
   },
   "outputs": [
    {
     "data": {
      "image/png": "[encoded data removed]",
      "text/plain": [
       "<matplotlib.figure.Figure at 0x116489710>"
      ]
     },
     "metadata": {},
     "output_type": "display_data"
    }
   ],
   "source": [
    "from sklearn.datasets import load_digits\n",
    "import matplotlib.pyplot as plt\n",
    "\n",
    "digits = load_digits()\n",
    "plt.subplots(2, 5)\n",
    "for i, k in enumerate(range(1, 11)):\n",
    "    plt.subplot(2, 5, k)\n",
    "    plt.imshow(digits.images[i], cmap = \"gray\")\n",
    "    plt.xticks([]), plt.yticks([])\n",
    "\n",
    "plt.tight_layout()\n",
    "plt.show()"
   ]
  },
  {
   "cell_type": "markdown",
   "metadata": {
    "slideshow": {
     "slide_type": "slide"
    }
   },
   "source": [
    "## 迴歸問題"
   ]
  },
  {
   "cell_type": "markdown",
   "metadata": {
    "slideshow": {
     "slide_type": "subslide"
    }
   },
   "source": [
    "## 迴歸問題有哪些？\n",
    "\n",
    "- 利用月收入來核定信用卡額度\n",
    "- 利用坪數、房間數來預測房價\n",
    "- 利用每日最高氣溫來預測飲料店的冰紅茶銷量\n",
    "- ...etc."
   ]
  },
  {
   "cell_type": "markdown",
   "metadata": {
    "slideshow": {
     "slide_type": "subslide"
    }
   },
   "source": [
    "## 氣溫與冰紅茶銷量\n",
    "\n",
    "- 氣溫與飲料店冰紅茶銷量的關係為何?\n",
    "- 先畫一個散佈圖\n",
    "\n",
    "Data source: [世界第一簡單統計學](http://www.books.com.tw/products/0010695099)"
   ]
  },
  {
   "cell_type": "code",
   "execution_count": 9,
   "metadata": {
    "collapsed": false,
    "slideshow": {
     "slide_type": "subslide"
    }
   },
   "outputs": [
    {
     "data": {
      "image/png": "[encoded data removed]",
      "text/plain": [
       "<matplotlib.figure.Figure at 0x11ab50f10>"
      ]
     },
     "metadata": {},
     "output_type": "display_data"
    }
   ],
   "source": [
    "import matplotlib.pyplot as plt\n",
    "\n",
    "temperature = [29, 28, 34, 31, 25, 29, 32, 31, 24, 33, 25, 31, 26, 30]\n",
    "iced_tea_sales = [77, 62, 93, 84, 59, 64, 80, 75, 58, 91, 51, 73, 65, 84]\n",
    "plt.scatter(x = temperature, y = iced_tea_sales)\n",
    "plt.title(\"Temperature vs. Iced Tea Sales\")\n",
    "plt.show()"
   ]
  },
  {
   "cell_type": "markdown",
   "metadata": {
    "slideshow": {
     "slide_type": "subslide"
    }
   },
   "source": [
    "## 氣溫與冰紅茶銷量（2）\n",
    "\n",
    "- 真實的氣溫與冰紅茶銷量的關係：\n",
    "\n",
    "$$y = f(x)$$\n",
    "\n",
    "- 但沒有人知道 $f$ 到底是什麼，我們只能假設氣溫與冰紅茶銷量的關係是：\n",
    "\n",
    "$$\\hat{y} = h(x)$$"
   ]
  },
  {
   "cell_type": "markdown",
   "metadata": {
    "slideshow": {
     "slide_type": "subslide"
    }
   },
   "source": [
    "## 氣溫與冰紅茶銷量（3）\n",
    "\n",
    "- 當 $\\hat{y}$ 與 $y$ 之間的差異愈小，我們就可以更有自信地說 $h$ 跟 $f$ 愈相似\n",
    "- 成本函數\n",
    "\n",
    "$$ \\text{minimize:} \\frac{1}{2m}\\sum_{i=1}^{m}(\\hat{y_i}-y_i)^2$$"
   ]
  },
  {
   "cell_type": "markdown",
   "metadata": {
    "slideshow": {
     "slide_type": "subslide"
    }
   },
   "source": [
    "## 氣溫與冰紅茶銷量（4）\n",
    "\n",
    "- 我們將 $h(x)$ 寫得更仔細一點：\n",
    "\n",
    "$$\\hat{y} = h(x) = \\theta_0 + \\theta_1 x_1$$"
   ]
  },
  {
   "cell_type": "markdown",
   "metadata": {
    "slideshow": {
     "slide_type": "subslide"
    }
   },
   "source": [
    "## 氣溫與冰紅茶銷量（5）\n",
    "\n",
    "- 任務：找到一組 $(\\theta_0, \\theta_1)$ 能讓 $\\hat{y}$ 與 $y$ 之間的差異（成本函數）最小"
   ]
  },
  {
   "cell_type": "code",
   "execution_count": 10,
   "metadata": {
    "collapsed": false,
    "slideshow": {
     "slide_type": "skip"
    }
   },
   "outputs": [
    {
     "data": {
      "text/plain": [
       "((22.799999999999997, 35.7), (48.449999999999996, 97.65))"
      ]
     },
     "execution_count": 10,
     "metadata": {},
     "output_type": "execute_result"
    }
   ],
   "source": [
    "import numpy as np\n",
    "import matplotlib.pyplot as plt\n",
    "\n",
    "temperature = [29, 28, 34, 31, 25, 29, 32, 31, 24, 33, 25, 31, 26, 30]\n",
    "iced_tea_sales = [77, 62, 93, 84, 59, 64, 80, 75, 58, 91, 51, 73, 65, 84]\n",
    "sample_points = 200\n",
    "x1_arr = np.random.choice(np.linspace(min(temperature)*0.5, max(temperature)*1.5, sample_points), size = sample_points, replace = False)\n",
    "x2_arr = np.random.choice(x1_arr, size = sample_points, replace = False)\n",
    "y1_arr = np.random.choice(np.linspace(min(iced_tea_sales)*0.5, max(iced_tea_sales)*1.5, sample_points), size = sample_points, replace = False)\n",
    "y2_arr = np.random.choice(y1_arr, size = sample_points, replace = False)\n",
    "plt.scatter(x = temperature, y = iced_tea_sales)\n",
    "for i in range(len(x1_arr)):\n",
    "    plt.plot([x1_arr[i], x2_arr[i]], [y1_arr[i], y2_arr[i]], c = \"k\", alpha = 0.1)\n",
    "plt.title(\"Temperature vs. Iced Tea Sales\")\n",
    "plt.xlim([min(temperature)*0.95, max(temperature)*1.05]), plt.ylim([min(iced_tea_sales)*0.95, max(iced_tea_sales)*1.05])"
   ]
  },
  {
   "cell_type": "code",
   "execution_count": 11,
   "metadata": {
    "collapsed": false,
    "slideshow": {
     "slide_type": "subslide"
    }
   },
   "outputs": [
    {
     "data": {
      "image/png": "[encoded data removed]",
      "text/plain": [
       "<matplotlib.figure.Figure at 0x11ac43050>"
      ]
     },
     "metadata": {},
     "output_type": "display_data"
    }
   ],
   "source": [
    "plt.show()"
   ]
  },
  {
   "cell_type": "code",
   "execution_count": 12,
   "metadata": {
    "collapsed": false,
    "slideshow": {
     "slide_type": "skip"
    }
   },
   "outputs": [
    {
     "data": {
      "text/plain": [
       "<matplotlib.text.Text at 0x11a7b14d0>"
      ]
     },
     "execution_count": 12,
     "metadata": {},
     "output_type": "execute_result"
    }
   ],
   "source": [
    "import numpy as np\n",
    "from sklearn import linear_model\n",
    "import matplotlib.pyplot as plt\n",
    "\n",
    "temperature = np.array([29, 28, 34, 31, 25, 29, 32, 31, 24, 33, 25, 31, 26, 30]).reshape(-1, 1)\n",
    "iced_tea_sales = np.array([77, 62, 93, 84, 59, 64, 80, 75, 58, 91, 51, 73, 65, 84]).reshape(-1, 1)\n",
    "reg = linear_model.LinearRegression()\n",
    "reg.fit(temperature, iced_tea_sales)\n",
    "predictions_x = np.linspace(min(temperature), max(temperature)).reshape(-1, 1)\n",
    "predictions_y = reg.predict(predictions_x)\n",
    "plt.scatter(temperature, iced_tea_sales)\n",
    "plt.plot(predictions_x, predictions_y, c = 'k', lw = 3)\n",
    "plt.scatter(temperature, reg.predict(temperature), c = 'k', s = 80)\n",
    "for i in range(len(temperature)):\n",
    "    t = temperature[i].reshape(-1, 1)\n",
    "    plt.plot([temperature[i], temperature[i]], [reg.predict(t), iced_tea_sales[i]], color = 'k', linewidth = 2, linestyle = \"--\")\n",
    "plt.title(\"$h(x)$ found by sklearn\")"
   ]
  },
  {
   "cell_type": "code",
   "execution_count": 13,
   "metadata": {
    "collapsed": false,
    "slideshow": {
     "slide_type": "subslide"
    }
   },
   "outputs": [
    {
     "data": {
      "image/png": "[encoded data removed]",
      "text/plain": [
       "<matplotlib.figure.Figure at 0x11a62a6d0>"
      ]
     },
     "metadata": {},
     "output_type": "display_data"
    }
   ],
   "source": [
    "plt.show()"
   ]
  },
  {
   "cell_type": "markdown",
   "metadata": {
    "slideshow": {
     "slide_type": "subslide"
    }
   },
   "source": [
    "## 氣溫與冰紅茶銷量（6）\n",
    "\n",
    "- 透過很聰明的方式找到 $(\\theta_0, \\theta_1)$ 完成任務：**Gradient Descent**"
   ]
  },
  {
   "cell_type": "markdown",
   "metadata": {
    "slideshow": {
     "slide_type": "subslide"
    }
   },
   "source": [
    "## 氣溫與冰紅茶銷量（7）\n",
    "\n",
    "- Gradient Descent\n",
    "\n",
    "> 每組 $(\\theta_0, \\theta_1)$ 所得的成本函數偏微分取得斜率，利用這個斜率逐步取得局部最佳解。"
   ]
  },
  {
   "cell_type": "markdown",
   "metadata": {
    "slideshow": {
     "slide_type": "subslide"
    }
   },
   "source": [
    "## 氣溫與冰紅茶銷量（8）\n",
    "\n",
    "- 先簡化成只有 $\\theta_1$：\n",
    "\n",
    "$$h(x) = \\theta_1x_1$$\n",
    "\n",
    "$$\\theta_1 := \\theta_1 - \\alpha \\frac{\\mathrm \\partial}{\\mathrm \\partial \\theta_1} J(\\theta_1)$$"
   ]
  },
  {
   "cell_type": "markdown",
   "metadata": {
    "slideshow": {
     "slide_type": "subslide"
    }
   },
   "source": [
    "## 氣溫與冰紅茶銷量（9）\n",
    "\n",
    "- 如果 $\\theta_1 = 1$，即 $y = f(x) $\n",
    "- 我們在 $0 < \\theta_1 < 2$ 之間打點來計算成本函數 $J(\\theta_1)$"
   ]
  },
  {
   "cell_type": "code",
   "execution_count": 14,
   "metadata": {
    "collapsed": false,
    "slideshow": {
     "slide_type": "subslide"
    }
   },
   "outputs": [
    {
     "data": {
      "image/png": "[encoded data removed]",
      "text/plain": [
       "<matplotlib.figure.Figure at 0x11acf0190>"
      ]
     },
     "metadata": {},
     "output_type": "display_data"
    }
   ],
   "source": [
    "import numpy as np\n",
    "import matplotlib.pyplot as plt\n",
    "\n",
    "def cost_function(theta_1, x, y):\n",
    "    return np.sum((theta_1 * x - y)**2)/(2*len(x))\n",
    "\n",
    "x = np.arange(1, 4)\n",
    "y = x\n",
    "theta_1_arr = np.linspace(0, 2, 50)\n",
    "cost_arr = []\n",
    "for i in theta_1_arr:\n",
    "    cost_arr.append(cost_function(i, x, y))\n",
    "plt.scatter(theta_1_arr, cost_arr, marker = 'x')\n",
    "plt.xlabel(\"$\\\\theta_1$\")\n",
    "plt.ylabel(\"$J(\\\\theta_1)$\")\n",
    "plt.title(\"Cost Function Visualized\")\n",
    "plt.show()"
   ]
  },
  {
   "cell_type": "code",
   "execution_count": 15,
   "metadata": {
    "collapsed": false,
    "slideshow": {
     "slide_type": "skip"
    }
   },
   "outputs": [
    {
     "data": {
      "text/plain": [
       "<matplotlib.text.Text at 0x11a45ee90>"
      ]
     },
     "execution_count": 15,
     "metadata": {},
     "output_type": "execute_result"
    }
   ],
   "source": [
    "import numpy as np\n",
    "import matplotlib.pyplot as plt\n",
    "\n",
    "def cost_function(theta_1, x, y):\n",
    "    return np.sum((theta_1 * x - y)**2)/(2*len(x))\n",
    "\n",
    "x = np.arange(1, 4)\n",
    "y = x\n",
    "theta_1_arr = np.linspace(0, 2, 50)\n",
    "cost_arr = []\n",
    "for i in theta_1_arr:\n",
    "    cost_arr.append(cost_function(i, x, y))\n",
    "plt.scatter(theta_1_arr, cost_arr, marker = 'x')\n",
    "plt.plot(1.75, cost_function(1.75, x, y), marker = 'D', markersize = 12, color = 'y')\n",
    "plt.plot(0.5, cost_function(0.5, x, y), marker = 'o', markersize = 12, color = 'g')\n",
    "plt.plot(1, cost_function(1, x, y), marker = '^', markersize = 12, color = 'r')\n",
    "plt.xlabel(\"$\\\\theta_1$\")\n",
    "plt.ylabel(\"$J(\\\\theta_1)$\")\n",
    "plt.xticks([]), plt.yticks([])\n",
    "plt.title(\"Gradient Descent with $\\\\theta_1$\")"
   ]
  },
  {
   "cell_type": "code",
   "execution_count": 16,
   "metadata": {
    "collapsed": false,
    "slideshow": {
     "slide_type": "subslide"
    }
   },
   "outputs": [
    {
     "data": {
      "image/png": "[encoded data removed]",
      "text/plain": [
       "<matplotlib.figure.Figure at 0x11a2d4110>"
      ]
     },
     "metadata": {},
     "output_type": "display_data"
    }
   ],
   "source": [
    "plt.show()"
   ]
  },
  {
   "cell_type": "markdown",
   "metadata": {
    "slideshow": {
     "slide_type": "subslide"
    }
   },
   "source": [
    "## 氣溫與冰紅茶銷量（10）\n",
    "\n",
    "- 梯度遞減（Gradient Descent）\n",
    "    - $\\theta_1 = 0.5$ 的時候（綠圓點），$\\frac{\\mathrm \\partial}{\\mathrm \\partial \\theta_1} J(\\theta_1)$ 為負值，所以 $\\theta_1$ 會向右邊修正\n",
    "    - $\\theta_1 = 1.75$ 的時候（黃方塊），$\\frac{\\mathrm \\partial}{\\mathrm \\partial \\theta_1} J(\\theta_1)$ 為正值，所以 $\\theta_1$ 會向左邊修正\n",
    "    - $\\theta_1 = 1.0$ 的時候（紅三角），$\\frac{\\mathrm \\partial}{\\mathrm \\partial \\theta_1} J(\\theta_1)$ 為零，$\\theta_1$ 收斂"
   ]
  },
  {
   "cell_type": "markdown",
   "metadata": {
    "slideshow": {
     "slide_type": "subslide"
    }
   },
   "source": [
    "## 氣溫與冰紅茶銷量（11）\n",
    "\n",
    "- $\\theta_1$ 修正的速度與 $\\alpha$ 相關\n",
    "    - $\\alpha$ 稱為學習速率"
   ]
  },
  {
   "cell_type": "code",
   "execution_count": 17,
   "metadata": {
    "collapsed": false,
    "slideshow": {
     "slide_type": "skip"
    }
   },
   "outputs": [
    {
     "data": {
      "text/plain": [
       "<matplotlib.text.Text at 0x11b163350>"
      ]
     },
     "execution_count": 17,
     "metadata": {},
     "output_type": "execute_result"
    }
   ],
   "source": [
    "import numpy as np\n",
    "import matplotlib.pyplot as plt\n",
    "\n",
    "def cost_function(theta_1, x, y):\n",
    "    return np.sum((theta_1 * x - y)**2)/(2*len(x))\n",
    "\n",
    "x = np.arange(1, 4)\n",
    "y = x\n",
    "theta_1_arr = np.linspace(0, 2, 100)\n",
    "cost_arr = []\n",
    "for i in theta_1_arr:\n",
    "    cost_arr.append(cost_function(i, x, y))\n",
    "plt.plot(theta_1_arr, cost_arr, lw = 1)\n",
    "theta_1_arr = np.linspace(0.1, 1, 15)\n",
    "cost_arr = []\n",
    "for i in theta_1_arr:\n",
    "    cost_arr.append(cost_function(i, x, y))\n",
    "plt.plot(theta_1_arr, cost_arr, marker = '>', markersize = 10, color = 'r', lw = 0)\n",
    "plt.xlabel(\"$\\\\theta_1$\")\n",
    "plt.ylabel(\"$J(\\\\theta_1)$\")\n",
    "plt.xticks([]), plt.yticks([])\n",
    "plt.title(\"Optimal Gradient Descent\")"
   ]
  },
  {
   "cell_type": "code",
   "execution_count": 18,
   "metadata": {
    "collapsed": false,
    "slideshow": {
     "slide_type": "subslide"
    }
   },
   "outputs": [
    {
     "data": {
      "image/png": "[encoded data removed]",
      "text/plain": [
       "<matplotlib.figure.Figure at 0x11a4ebb50>"
      ]
     },
     "metadata": {},
     "output_type": "display_data"
    }
   ],
   "source": [
    "plt.show()"
   ]
  },
  {
   "cell_type": "code",
   "execution_count": 19,
   "metadata": {
    "collapsed": false,
    "slideshow": {
     "slide_type": "skip"
    }
   },
   "outputs": [
    {
     "data": {
      "text/plain": [
       "<matplotlib.text.Text at 0x11a8b6110>"
      ]
     },
     "execution_count": 19,
     "metadata": {},
     "output_type": "execute_result"
    }
   ],
   "source": [
    "import numpy as np\n",
    "import matplotlib.pyplot as plt\n",
    "\n",
    "def cost_function(theta_1, x, y):\n",
    "    return np.sum((theta_1 * x - y)**2)/(2*len(x))\n",
    "\n",
    "x = np.arange(1, 4)\n",
    "y = x\n",
    "theta_1_arr = np.linspace(0, 2, 100)\n",
    "cost_arr = []\n",
    "for i in theta_1_arr:\n",
    "    cost_arr.append(cost_function(i, x, y))\n",
    "plt.plot(theta_1_arr, cost_arr, lw = 1)\n",
    "theta_1_arr = np.linspace(0.05, 1, 50)\n",
    "cost_arr = []\n",
    "for i in theta_1_arr:\n",
    "    cost_arr.append(cost_function(i, x, y))\n",
    "plt.plot(theta_1_arr, cost_arr, marker = '>', markersize = 6, color = 'r')\n",
    "plt.xticks([]), plt.yticks([])\n",
    "plt.xlabel(\"Number of iterations\")\n",
    "plt.ylabel(\"$J(\\\\theta_1)$\")\n",
    "plt.title(\"$\\\\alpha$ is too small\")"
   ]
  },
  {
   "cell_type": "code",
   "execution_count": 20,
   "metadata": {
    "collapsed": false,
    "slideshow": {
     "slide_type": "subslide"
    }
   },
   "outputs": [
    {
     "data": {
      "image/png": "[encoded data removed]",
      "text/plain": [
       "<matplotlib.figure.Figure at 0x11a36fad0>"
      ]
     },
     "metadata": {},
     "output_type": "display_data"
    }
   ],
   "source": [
    "plt.show()"
   ]
  },
  {
   "cell_type": "code",
   "execution_count": 21,
   "metadata": {
    "collapsed": false,
    "slideshow": {
     "slide_type": "skip"
    }
   },
   "outputs": [
    {
     "data": {
      "text/plain": [
       "<matplotlib.text.Text at 0x11a8d3c90>"
      ]
     },
     "execution_count": 21,
     "metadata": {},
     "output_type": "execute_result"
    }
   ],
   "source": [
    "import numpy as np\n",
    "import matplotlib.pyplot as plt\n",
    "\n",
    "def cost_function(theta_1, x, y):\n",
    "    return np.sum((theta_1 * x - y)**2)/(2*len(x))\n",
    "\n",
    "x = np.arange(1, 4)\n",
    "y = x\n",
    "theta_1_arr = np.linspace(0, 2, 100)\n",
    "cost_arr = []\n",
    "for i in theta_1_arr:\n",
    "    cost_arr.append(cost_function(i, x, y))\n",
    "plt.plot(theta_1_arr, cost_arr, lw = 1)\n",
    "theta_1_arr = np.array((0.75, 1.5, 0.25, 1.8, 0.1))\n",
    "cost_arr = []\n",
    "for i in theta_1_arr:\n",
    "    cost_arr.append(cost_function(i, x, y))\n",
    "plt.plot(theta_1_arr, cost_arr, marker = '>', markersize = 10, color = 'r')\n",
    "plt.xlabel(\"$\\\\theta_1$\")\n",
    "plt.ylabel(\"$J(\\\\theta_1)$\")\n",
    "plt.xticks([]), plt.yticks([])\n",
    "plt.title(\"$\\\\alpha$ is too large\")"
   ]
  },
  {
   "cell_type": "code",
   "execution_count": 22,
   "metadata": {
    "collapsed": false,
    "slideshow": {
     "slide_type": "subslide"
    }
   },
   "outputs": [
    {
     "data": {
      "image/png": "[encoded data removed]",
      "text/plain": [
       "<matplotlib.figure.Figure at 0x11a8627d0>"
      ]
     },
     "metadata": {},
     "output_type": "display_data"
    }
   ],
   "source": [
    "plt.show()"
   ]
  },
  {
   "cell_type": "markdown",
   "metadata": {
    "slideshow": {
     "slide_type": "subslide"
    }
   },
   "source": [
    "## 氣溫與冰紅茶銷量（12）\n",
    "\n",
    "- 如果有 $(\\theta_0, \\theta_1)$：\n",
    "\n",
    "$$h(x) = \\theta_0 + \\theta_1x_1$$\n",
    "\n",
    "$$\\theta_0 := \\theta_0 - \\alpha \\frac{\\mathrm \\partial}{\\mathrm \\partial \\theta_0} J(\\theta_0)$$\n",
    "\n",
    "$$\\theta_1 := \\theta_1 - \\alpha \\frac{\\mathrm \\partial}{\\mathrm \\partial \\theta_1} J(\\theta_1)$$\n",
    "\n",
    "- 在某段 $(\\theta_0, \\theta_1)$ 之間打點來計算成本函數 $J(\\theta_0, \\theta_1)$"
   ]
  },
  {
   "cell_type": "code",
   "execution_count": 23,
   "metadata": {
    "collapsed": false,
    "slideshow": {
     "slide_type": "skip"
    }
   },
   "outputs": [
    {
     "data": {
      "text/plain": [
       "<matplotlib.text.Text at 0x11a696ed0>"
      ]
     },
     "execution_count": 23,
     "metadata": {},
     "output_type": "execute_result"
    }
   ],
   "source": [
    "import numpy as np\n",
    "import matplotlib.pyplot as plt\n",
    "\n",
    "def cost_function(theta_0, theta_1, x, y):\n",
    "    return np.sum((theta_0 + theta_1 * x - y)**2)/(2*len(x))\n",
    "\n",
    "x = np.arange(1, 4)\n",
    "y = 1 + x\n",
    "u = np.linspace(0, 2, 100)\n",
    "theta_0, theta_1 = np.meshgrid(u, u)\n",
    "J = np.empty(len(u) * len(u)).reshape(len(u), len(u))\n",
    "for i in range(len(u)):\n",
    "    for j in range(len(u)):\n",
    "        J[i, j] = cost_function(theta_0[i, j], theta_1[i, j], x, y)\n",
    "\n",
    "plt.contour(theta_0, theta_1, J, np.logspace(-3, 3, 20))\n",
    "theta_0, theta_1 = np.linspace(1.8, 1, 5), np.linspace(1.8, 1, 5)\n",
    "plt.plot(theta_0, theta_0, marker = '<', markersize = 8, color = 'r')\n",
    "plt.xlabel('$\\\\theta_0$')\n",
    "plt.ylabel('$\\\\theta_1$')\n",
    "plt.xticks([]), plt.yticks([])\n",
    "plt.title('Cost Function Visualized')"
   ]
  },
  {
   "cell_type": "code",
   "execution_count": 24,
   "metadata": {
    "collapsed": false,
    "slideshow": {
     "slide_type": "subslide"
    }
   },
   "outputs": [
    {
     "data": {
      "image/png": "[encoded data removed]",
      "text/plain": [
       "<matplotlib.figure.Figure at 0x11a29e950>"
      ]
     },
     "metadata": {},
     "output_type": "display_data"
    }
   ],
   "source": [
    "plt.show()"
   ]
  },
  {
   "cell_type": "markdown",
   "metadata": {
    "slideshow": {
     "slide_type": "subslide"
    }
   },
   "source": [
    "## 氣溫與冰紅茶銷量（13）\n",
    "\n",
    "- $x_i$ 的個數增加，表示用更多的特徵（features）來建立 $h$：\n",
    "\n",
    "$$h(x) = \\theta_0 + \\theta_1 x_1 + \\theta_2 x_2 + ... + \\theta_n x_n$$\n",
    "\n",
    "- 假如我們令 $x_0 = 1$，就可以將式子廣義地表示為：\n",
    "\n",
    "$$h(x) = \\begin{bmatrix} \\theta_0 & \\theta_1 & ... & \\theta_n \\end{bmatrix} \\begin{bmatrix} x_0 \\\\ x_1 \\\\.\\\\.\\\\.\\\\ x_n \\end{bmatrix} = \\theta^{T}x$$"
   ]
  },
  {
   "cell_type": "markdown",
   "metadata": {
    "slideshow": {
     "slide_type": "subslide"
    }
   },
   "source": [
    "## 氣溫與冰紅茶銷量（14）\n",
    "\n",
    "- 在梯度遞減的時候，每次迭代會**同時**更新所有的 $\\theta_j$\n",
    "\n",
    "$$\\theta_j := \\theta_j - \\alpha \\frac{\\mathrm \\partial}{\\mathrm \\partial \\theta_j}J(\\theta) \\text{ }\\text{ }\\text{ }\\text{ }for\\text{ } j = 0 \\text{ }...\\text{ }n$$"
   ]
  },
  {
   "cell_type": "markdown",
   "metadata": {
    "slideshow": {
     "slide_type": "subslide"
    }
   },
   "source": [
    "## 氣溫與冰紅茶銷量（15）\n",
    "\n",
    "- 請 Scikit-Learn 幫我們完成任務：\n",
    "    - 找到一組 $(\\theta_0, \\theta_1)$ 讓成本函數最小化"
   ]
  },
  {
   "cell_type": "markdown",
   "metadata": {
    "slideshow": {
     "slide_type": "subslide"
    }
   },
   "source": [
    "## 氣溫與冰紅茶銷量（16）\n",
    "\n",
    "- 訓練（train）與測試樣本（test）：\n",
    "    - 訓練樣本用來建立 $h(x)$\n",
    "    - 將測試樣本投入 $h(x)$ 建立預測 $\\hat{y}$\n",
    "    - 比對測試樣本的 $y$ 與 $\\hat{y}$ 來評估 $h(x)$\n",
    "\n",
    "```python\n",
    "from sklearn.model_selection import train_test_split\n",
    "```"
   ]
  },
  {
   "cell_type": "code",
   "execution_count": 25,
   "metadata": {
    "collapsed": false,
    "slideshow": {
     "slide_type": "subslide"
    }
   },
   "outputs": [
    {
     "name": "stdout",
     "output_type": "stream",
     "text": [
      "theta_0:-28.8235\n",
      "theta_1:3.5294\n"
     ]
    }
   ],
   "source": [
    "import numpy as np\n",
    "from sklearn import linear_model\n",
    "from sklearn.model_selection import train_test_split\n",
    "\n",
    "temperature = np.array([29, 28, 34, 31, 25, 29, 32, 31, 24, 33, 25, 31, 26, 30]).reshape(-1, 1)\n",
    "iced_tea_sales = np.array([77, 62, 93, 84, 59, 64, 80, 75, 58, 91, 51, 73, 65, 84]).reshape(-1, 1)\n",
    "X_train, X_test, y_train, y_test = train_test_split(temperature, iced_tea_sales, test_size = 0.3, random_state = 123)\n",
    "reg = linear_model.LinearRegression()\n",
    "reg.fit(X_train, y_train)\n",
    "print(\"theta_0:%.4f\" % reg.intercept_)\n",
    "print(\"theta_1:%.4f\" % reg.coef_)"
   ]
  },
  {
   "cell_type": "markdown",
   "metadata": {
    "slideshow": {
     "slide_type": "subslide"
    }
   },
   "source": [
    "## 氣溫與冰紅茶銷量（17）\n",
    "\n",
    "評估迴歸模型的指標：\n",
    "\n",
    "- RMSE（愈低愈好）\n",
    "\n",
    "$$RMSE = \\sqrt{\\frac{1}{N}\\sum_{i=1}^N(\\hat{y_i} - y_i) ^ 2}$$\n",
    "\n",
    "- R-squared（愈接近 1 愈好）\n",
    "\n",
    "$$R^2 = 1 - \\frac{SSE}{SST} = 1 - \\frac{\\frac{1}{n}\\sum_{i=1}^N(\\hat{y_i} - y_i)^2}{\\frac{1}{n}\\sum_{i=1}^N(y_i - \\mu)^2} = 1 - \\frac{MSE}{Var(y)}$$"
   ]
  },
  {
   "cell_type": "code",
   "execution_count": 26,
   "metadata": {
    "collapsed": false,
    "slideshow": {
     "slide_type": "subslide"
    }
   },
   "outputs": [
    {
     "name": "stdout",
     "output_type": "stream",
     "text": [
      "R^2: 0.5700\n",
      "RMSE: 6.4033\n"
     ]
    }
   ],
   "source": [
    "from sklearn.metrics import mean_squared_error, r2_score\n",
    "\n",
    "y_hat = reg.predict(X_test)\n",
    "rmse = np.sqrt(mean_squared_error(y_test, y_hat))\n",
    "print(\"R^2: %.4f\" % r2_score(y_test, y_hat))\n",
    "print(\"RMSE: %.4f\" % rmse)"
   ]
  },
  {
   "cell_type": "markdown",
   "metadata": {
    "slideshow": {
     "slide_type": "subslide"
    }
   },
   "source": [
    "## 氣溫與冰紅茶銷量（18）\n",
    "\n",
    "- 試試看一個有二次項的 $h(x) = \\theta_0 + \\theta_1x_1 + \\theta_2x_1^2$\n",
    "\n",
    "```python\n",
    "from sklearn.preprocessing import PolynomialFeatures\n",
    "```"
   ]
  },
  {
   "cell_type": "code",
   "execution_count": 27,
   "metadata": {
    "collapsed": true,
    "slideshow": {
     "slide_type": "subslide"
    }
   },
   "outputs": [],
   "source": [
    "from sklearn.preprocessing import PolynomialFeatures\n",
    "from sklearn import linear_model\n",
    "\n",
    "temperature = np.array([29, 28, 34, 31, 25, 29, 32, 31, 24, 33, 25, 31, 26, 30]).reshape(-1, 1)\n",
    "iced_tea_sales = np.array([77, 62, 93, 84, 59, 64, 80, 75, 58, 91, 51, 73, 65, 84]).reshape(-1, 1)\n",
    "X_train, X_test, y_train, y_test = train_test_split(temperature, iced_tea_sales, test_size = 0.3, random_state = 123)\n",
    "lr = linear_model.LinearRegression()\n",
    "pr_q = linear_model.LinearRegression()\n",
    "\n",
    "# create quadratic terms\n",
    "quadratic = PolynomialFeatures(degree = 2)\n",
    "X_train_quad = quadratic.fit_transform(X_train)\n",
    "\n",
    "# fit linear model\n",
    "lr.fit(X_train, y_train)\n",
    "X_fit = np.linspace(min(X_train) * 0.8, max(X_train) * 1.2, 50).reshape(-1, 1)\n",
    "y_lin_fit = lr.predict(X_fit)\n",
    "\n",
    "# fit quadratic model\n",
    "pr_q.fit(X_train_quad, y_train)\n",
    "y_quad_fit = pr_q.predict(quadratic.fit_transform(X_fit))"
   ]
  },
  {
   "cell_type": "code",
   "execution_count": 28,
   "metadata": {
    "collapsed": false,
    "slideshow": {
     "slide_type": "subslide"
    }
   },
   "outputs": [
    {
     "data": {
      "image/png": "[encoded data removed]",
      "text/plain": [
       "<matplotlib.figure.Figure at 0x11a699b50>"
      ]
     },
     "metadata": {},
     "output_type": "display_data"
    }
   ],
   "source": [
    "import matplotlib.pyplot as plt\n",
    "\n",
    "# plotting\n",
    "plt.scatter(X_train, y_train, label = \"Training Points\")\n",
    "plt.plot(X_fit, y_lin_fit, label = \"Linear\", linestyle = \"--\", c = \"g\")\n",
    "plt.plot(X_fit, y_quad_fit, label = \"Quadratic\", c = \"r\", linestyle = \"--\")\n",
    "plt.legend(loc = \"upper left\", frameon = False)\n",
    "plt.show()"
   ]
  },
  {
   "cell_type": "code",
   "execution_count": 29,
   "metadata": {
    "collapsed": false,
    "slideshow": {
     "slide_type": "subslide"
    }
   },
   "outputs": [
    {
     "name": "stdout",
     "output_type": "stream",
     "text": [
      "RMSE: \n",
      " Linear: 6.4033 \n",
      " Quadratic: 6.2691\n",
      "\n",
      "\n",
      "R^2: \n",
      " Linear: 0.5700 \n",
      " Quadratic: 0.5879\n"
     ]
    }
   ],
   "source": [
    "from sklearn.metrics import mean_squared_error\n",
    "\n",
    "y_lin_hat = lr.predict(X_test)\n",
    "y_quad_hat = pr_q.predict(quadratic.fit_transform(X_test))\n",
    "rmse_lin = np.sqrt(mean_squared_error(y_test, y_lin_hat))\n",
    "rmse_quad = np.sqrt(mean_squared_error(y_test, y_quad_hat))\n",
    "print(\"RMSE: \\n Linear: %.4f \\n Quadratic: %.4f\" % (rmse_lin, rmse_quad))\n",
    "print(\"\\n\")\n",
    "r_2_lin = r2_score(y_test, y_lin_hat)\n",
    "r_2_quad = r2_score(y_test, y_quad_hat)\n",
    "print(\"R^2: \\n Linear: %.4f \\n Quadratic: %.4f\" % (r_2_lin, r_2_quad))"
   ]
  },
  {
   "cell_type": "markdown",
   "metadata": {
    "slideshow": {
     "slide_type": "subslide"
    }
   },
   "source": [
    "## 氣溫與冰紅茶銷量（19）\n",
    "\n",
    "- 試試看一個有三次項的 $h(x) = \\theta_0 + \\theta_1x_1 + \\theta_2x_1^2 + \\theta_3x_1^3$"
   ]
  },
  {
   "cell_type": "code",
   "execution_count": 30,
   "metadata": {
    "collapsed": true,
    "slideshow": {
     "slide_type": "skip"
    }
   },
   "outputs": [],
   "source": [
    "from sklearn.preprocessing import PolynomialFeatures\n",
    "from sklearn import linear_model\n",
    "\n",
    "temperature = np.array([29, 28, 34, 31, 25, 29, 32, 31, 24, 33, 25, 31, 26, 30]).reshape(-1, 1)\n",
    "iced_tea_sales = np.array([77, 62, 93, 84, 59, 64, 80, 75, 58, 91, 51, 73, 65, 84]).reshape(-1, 1)\n",
    "X_train, X_test, y_train, y_test = train_test_split(temperature, iced_tea_sales, test_size = 0.3, random_state = 42)\n",
    "lr = linear_model.LinearRegression()\n",
    "pr_q = linear_model.LinearRegression()\n",
    "pr_c = linear_model.LinearRegression()\n",
    "\n",
    "# create quadratic terms\n",
    "quadratic = PolynomialFeatures(degree = 2)\n",
    "X_train_quad = quadratic.fit_transform(X_train)\n",
    "\n",
    "# create cubic terms\n",
    "cubic = PolynomialFeatures(degree = 3)\n",
    "X_train_cubic = cubic.fit_transform(X_train)\n",
    "\n",
    "# fit linear model\n",
    "lr.fit(X_train, y_train)\n",
    "X_fit = np.linspace(min(X_train) * 0.8, max(X_train) * 1.2, 50).reshape(-1, 1)\n",
    "y_lin_fit = lr.predict(X_fit)\n",
    "\n",
    "# fit quadratic model\n",
    "pr_q.fit(X_train_quad, y_train)\n",
    "y_quad_fit = pr_q.predict(quadratic.fit_transform(X_fit))\n",
    "\n",
    "# fit quadratic model\n",
    "pr_c.fit(X_train_cubic, y_train)\n",
    "y_cubic_fit = pr_c.predict(cubic.fit_transform(X_fit))"
   ]
  },
  {
   "cell_type": "code",
   "execution_count": 31,
   "metadata": {
    "collapsed": false,
    "slideshow": {
     "slide_type": "subslide"
    }
   },
   "outputs": [
    {
     "data": {
      "image/png": "[encoded data removed]",
      "text/plain": [
       "<matplotlib.figure.Figure at 0x11ad63e90>"
      ]
     },
     "metadata": {},
     "output_type": "display_data"
    }
   ],
   "source": [
    "# plotting\n",
    "plt.scatter(X_train, y_train, label = \"Training Points\")\n",
    "plt.plot(X_fit, y_lin_fit, label = \"Linear\", linestyle = \"-\", c = \"k\")\n",
    "plt.plot(X_fit, y_quad_fit, label = \"Quadratic\", c = \"r\", linestyle = \"--\")\n",
    "plt.plot(X_fit, y_cubic_fit, label = \"Cubic\", c = \"g\", linestyle = \":\")\n",
    "plt.legend(loc = \"upper left\", frameon = False)\n",
    "plt.show()"
   ]
  },
  {
   "cell_type": "code",
   "execution_count": 32,
   "metadata": {
    "collapsed": false,
    "slideshow": {
     "slide_type": "skip"
    }
   },
   "outputs": [],
   "source": [
    "from sklearn.metrics import mean_squared_error, r2_score\n",
    "\n",
    "y_lin_pred = lr.predict(X_test)\n",
    "y_quad_pred = pr_q.predict(quadratic.fit_transform(X_test))\n",
    "y_cubic_pred = pr_c.predict(cubic.fit_transform(X_test))\n",
    "rmse_lin = np.sqrt(mean_squared_error(y_test, y_lin_pred))\n",
    "rmse_quad = np.sqrt(mean_squared_error(y_test, y_quad_pred))\n",
    "rmse_cubic = np.sqrt(mean_squared_error(y_test, y_cubic_pred))\n",
    "r_2_lin = r2_score(y_test, y_lin_pred)\n",
    "r_2_quad = r2_score(y_test, y_quad_pred)\n",
    "r_2_cubic = r2_score(y_test, y_cubic_pred)"
   ]
  },
  {
   "cell_type": "code",
   "execution_count": 33,
   "metadata": {
    "collapsed": false,
    "slideshow": {
     "slide_type": "subslide"
    }
   },
   "outputs": [
    {
     "name": "stdout",
     "output_type": "stream",
     "text": [
      "RMSE: \n",
      " Linear: 5.7960 \n",
      " Quadratic: 5.5555 \n",
      " Cubic: 6.4022\n",
      "\n",
      "\n",
      "R^2: \n",
      " Linear: 0.6501 \n",
      " Quadratic: 0.6785 \n",
      " Cubic: 0.5730\n"
     ]
    }
   ],
   "source": [
    "print(\"RMSE: \\n Linear: %.4f \\n Quadratic: %.4f \\n Cubic: %.4f\" % (rmse_lin, rmse_quad, rmse_cubic))\n",
    "print(\"\\n\")\n",
    "print(\"R^2: \\n Linear: %.4f \\n Quadratic: %.4f \\n Cubic: %.4f\" % (r_2_lin, r_2_quad, r_2_cubic))"
   ]
  },
  {
   "cell_type": "markdown",
   "metadata": {
    "slideshow": {
     "slide_type": "slide"
    }
   },
   "source": [
    "## 處理類別型變數\n",
    "\n",
    "- 如果 $x_i$ 屬於類別型變數需要先進行轉換：\n",
    "    - 有順序性（快慢、高低、冷熱...等）\n",
    "    - 無順序性（性別、顏色、區域...等）"
   ]
  },
  {
   "cell_type": "markdown",
   "metadata": {
    "slideshow": {
     "slide_type": "subslide"
    }
   },
   "source": [
    "## 處理類別型變數（2）\n",
    "\n",
    "- 有順序性（快慢、高低、冷熱...等）：使用 `pandas` 的 `map()` 方法"
   ]
  },
  {
   "cell_type": "code",
   "execution_count": 34,
   "metadata": {
    "collapsed": false,
    "slideshow": {
     "slide_type": "subslide"
    }
   },
   "outputs": [
    {
     "data": {
      "text/html": [
       "<div>\n",
       "<style>\n",
       "    .dataframe thead tr:only-child th {\n",
       "        text-align: right;\n",
       "    }\n",
       "\n",
       "    .dataframe thead th {\n",
       "        text-align: left;\n",
       "    }\n",
       "\n",
       "    .dataframe tbody tr th {\n",
       "        vertical-align: top;\n",
       "    }\n",
       "</style>\n",
       "<table border=\"1\" class=\"dataframe\">\n",
       "  <thead>\n",
       "    <tr style=\"text-align: right;\">\n",
       "      <th></th>\n",
       "      <th>temperature</th>\n",
       "      <th>temperature_label</th>\n",
       "    </tr>\n",
       "  </thead>\n",
       "  <tbody>\n",
       "    <tr>\n",
       "      <th>0</th>\n",
       "      <td>Hot</td>\n",
       "      <td>2</td>\n",
       "    </tr>\n",
       "    <tr>\n",
       "      <th>1</th>\n",
       "      <td>Warm</td>\n",
       "      <td>1</td>\n",
       "    </tr>\n",
       "    <tr>\n",
       "      <th>2</th>\n",
       "      <td>Cold</td>\n",
       "      <td>0</td>\n",
       "    </tr>\n",
       "  </tbody>\n",
       "</table>\n",
       "</div>"
      ],
      "text/plain": [
       "  temperature  temperature_label\n",
       "0         Hot                  2\n",
       "1        Warm                  1\n",
       "2        Cold                  0"
      ]
     },
     "execution_count": 34,
     "metadata": {},
     "output_type": "execute_result"
    }
   ],
   "source": [
    "## 有順序性\n",
    "import pandas as pd\n",
    "\n",
    "df = pd.DataFrame({\n",
    "    \"temperature\": [\"Hot\", \"Warm\", \"Cold\"]\n",
    "})\n",
    "temperature_mapping = {\n",
    "    \"Cold\": 0,\n",
    "    \"Warm\": 1,\n",
    "    \"Hot\": 2\n",
    "}\n",
    "df[\"temperature_label\"] = df[\"temperature\"].map(temperature_mapping)\n",
    "df"
   ]
  },
  {
   "cell_type": "markdown",
   "metadata": {
    "slideshow": {
     "slide_type": "subslide"
    }
   },
   "source": [
    "## 處理類別型變數（3）\n",
    "\n",
    "- 無順序性（性別、顏色、區域...等）：使用 `pandas` 的 `get_dummies()` 方法"
   ]
  },
  {
   "cell_type": "code",
   "execution_count": 35,
   "metadata": {
    "collapsed": false,
    "slideshow": {
     "slide_type": "subslide"
    }
   },
   "outputs": [
    {
     "data": {
      "text/html": [
       "<div>\n",
       "<style>\n",
       "    .dataframe thead tr:only-child th {\n",
       "        text-align: right;\n",
       "    }\n",
       "\n",
       "    .dataframe thead th {\n",
       "        text-align: left;\n",
       "    }\n",
       "\n",
       "    .dataframe tbody tr th {\n",
       "        vertical-align: top;\n",
       "    }\n",
       "</style>\n",
       "<table border=\"1\" class=\"dataframe\">\n",
       "  <thead>\n",
       "    <tr style=\"text-align: right;\">\n",
       "      <th></th>\n",
       "      <th>Female</th>\n",
       "      <th>Male</th>\n",
       "    </tr>\n",
       "  </thead>\n",
       "  <tbody>\n",
       "    <tr>\n",
       "      <th>0</th>\n",
       "      <td>1</td>\n",
       "      <td>0</td>\n",
       "    </tr>\n",
       "    <tr>\n",
       "      <th>1</th>\n",
       "      <td>0</td>\n",
       "      <td>1</td>\n",
       "    </tr>\n",
       "    <tr>\n",
       "      <th>2</th>\n",
       "      <td>1</td>\n",
       "      <td>0</td>\n",
       "    </tr>\n",
       "  </tbody>\n",
       "</table>\n",
       "</div>"
      ],
      "text/plain": [
       "   Female  Male\n",
       "0       1     0\n",
       "1       0     1\n",
       "2       1     0"
      ]
     },
     "execution_count": 35,
     "metadata": {},
     "output_type": "execute_result"
    }
   ],
   "source": [
    "## 無順序性\n",
    "import pandas as pd\n",
    "\n",
    "df = pd.DataFrame({\n",
    "    \"gender\": [\"Female\", \"Male\", \"Female\"]\n",
    "})\n",
    "gender_label = pd.get_dummies(df[\"gender\"])\n",
    "gender_label"
   ]
  },
  {
   "cell_type": "markdown",
   "metadata": {
    "slideshow": {
     "slide_type": "slide"
    }
   },
   "source": [
    "## 正規化\n",
    "\n",
    "- Bias vs. Variance\n",
    "- Under-fitting vs. Over-fitting"
   ]
  },
  {
   "cell_type": "code",
   "execution_count": 36,
   "metadata": {
    "collapsed": true,
    "slideshow": {
     "slide_type": "skip"
    }
   },
   "outputs": [],
   "source": [
    "import numpy as np\n",
    "from sklearn.preprocessing import PolynomialFeatures\n",
    "from sklearn import linear_model\n",
    "\n",
    "X = np.array([258.0, 270.0, 294.0, 320.0, 342.0, 368.0, 396.0, 446.0, 480.0, 586.0]).reshape(-1, 1)\n",
    "y = np.array([236.4, 234.4, 252.8, 298.6, 314.2, 342.2, 360.8, 368.0, 391.2, 390.8]).reshape(-1, 1)\n",
    "\n",
    "# Fitting\n",
    "lr = linear_model.LinearRegression()\n",
    "pr_q = linear_model.LinearRegression()\n",
    "pr_6 = linear_model.LinearRegression()\n",
    "quadratic = PolynomialFeatures(degree = 2)\n",
    "power_of_6 = PolynomialFeatures(degree = 6)\n",
    "X_quad = quadratic.fit_transform(X)\n",
    "X_p6 = power_of_6.fit_transform(X)\n",
    "lr.fit(X, y)\n",
    "X_fit = np.linspace(250, 600, 100).reshape(-1, 1)\n",
    "y_lin_fit = lr.predict(X_fit)\n",
    "pr_q.fit(X_quad, y)\n",
    "y_quad_fit = pr_q.predict(quadratic.fit_transform(X_fit))\n",
    "pr_6.fit(X_p6, y)\n",
    "y_p6_fit = pr_6.predict(power_of_6.fit_transform(X_fit))"
   ]
  },
  {
   "cell_type": "code",
   "execution_count": 37,
   "metadata": {
    "collapsed": true,
    "slideshow": {
     "slide_type": "skip"
    }
   },
   "outputs": [],
   "source": [
    "import matplotlib.pyplot as plt\n",
    "\n",
    "# Plotting\n",
    "plt.figure(figsize = (14, 4))\n",
    "plt.subplot(1, 3, 1)\n",
    "plt.scatter(X, y)\n",
    "plt.plot(X_fit, y_lin_fit, linestyle = \"--\", c = \"r\")\n",
    "plt.title(\"Under-fitting($\\\\theta_0 + \\\\theta_1x_1$)\")\n",
    "plt.subplot(1, 3, 2)\n",
    "plt.scatter(X, y)\n",
    "plt.plot(X_fit, y_quad_fit, linestyle = \"--\", c = \"r\")\n",
    "plt.title(\"Balanced Fit($\\\\theta_0 + \\\\theta_1x_1 + \\\\theta_2x_1^2$)\")\n",
    "plt.subplot(1, 3, 3)\n",
    "plt.scatter(X, y)\n",
    "plt.plot(X_fit, y_p6_fit, linestyle = \"--\", c = \"r\")\n",
    "plt.title(\"Over-fitting($\\\\theta_0 + \\\\theta_1x_1 + \\\\theta_2x_1^2 + ... \\\\theta_6x_1^6$)\")\n",
    "plt.tight_layout()"
   ]
  },
  {
   "cell_type": "code",
   "execution_count": 38,
   "metadata": {
    "collapsed": false,
    "slideshow": {
     "slide_type": "subslide"
    }
   },
   "outputs": [
    {
     "data": {
      "image/png": "[encoded data removed]",
      "text/plain": [
       "<matplotlib.figure.Figure at 0x11ae3e7d0>"
      ]
     },
     "metadata": {},
     "output_type": "display_data"
    }
   ],
   "source": [
    "plt.show()"
   ]
  },
  {
   "cell_type": "markdown",
   "metadata": {
    "slideshow": {
     "slide_type": "subslide"
    }
   },
   "source": [
    "## 正規化（2）\n",
    "\n",
    "- 如何防止迴歸模型過度配適：\n",
    "    - Ridge Regression\n",
    "    - LASSO\n",
    "    - Elastic Net\n",
    "\n",
    "$$J(\\theta)_{Ridge} = \\sum_{i=1}^{m}(\\hat{y_i}-y_i)^2 + \\alpha \\theta^2$$\n",
    "$$J(\\theta)_{LASSO} = \\sum_{i=1}^{m}(\\hat{y_i}-y_i)^2 + \\alpha | \\theta |$$\n",
    "$$J(\\theta)_{ElasticNet} = \\sum_{i=1}^{m}(\\hat{y_i}-y_i)^2 + \\alpha \\theta^2 + \\alpha | \\theta |$$"
   ]
  },
  {
   "cell_type": "markdown",
   "metadata": {
    "slideshow": {
     "slide_type": "subslide"
    }
   },
   "source": [
    "## 正規化（3）\n",
    "\n",
    "- 如何防止迴歸模型過度配適：\n",
    "    - Ridge Regression\n",
    "\n",
    "```python\n",
    "from sklearn.linear_model import Ridge\n",
    "ridge = Ridge(alpha = 1.0)\n",
    "```"
   ]
  },
  {
   "cell_type": "markdown",
   "metadata": {
    "slideshow": {
     "slide_type": "subslide"
    }
   },
   "source": [
    "## 正規化（4）\n",
    "\n",
    "- 如何防止迴歸模型過度配適：\n",
    "    - LASSO\n",
    "\n",
    "```python\n",
    "from sklearn.linear_model import Lasso\n",
    "lasso = Lasso(alpha = 1.0)\n",
    "```"
   ]
  },
  {
   "cell_type": "markdown",
   "metadata": {
    "slideshow": {
     "slide_type": "subslide"
    }
   },
   "source": [
    "## 正規化（5）\n",
    "\n",
    "- 如何防止迴歸模型過度配適：\n",
    "    - Elastic Net\n",
    "\n",
    "```python\n",
    "from sklearn.linear_model import ElasticNet\n",
    "ElasticNet = ElasticNet(alpha = 1.0, l1_ratio = 0.5)\n",
    "```"
   ]
  },
  {
   "cell_type": "markdown",
   "metadata": {
    "slideshow": {
     "slide_type": "slide"
    }
   },
   "source": [
    "## 作業\n",
    "\n",
    "1. 仿造 `sklearn.model_selection` 的 `train_test_split()` 函數實作自己的 `train_test_split()` 函數\n",
    "2. 載入 `boston` 資料\n",
    "    - 載入 `boston` 資料，切分為訓練和測試資料\n",
    "    - 利用 `LSTAT` 來預測 `MEDV`，使用 `sklearn` 建立線性迴歸模型\n",
    "    - 畫出訓練資料散佈點與迴歸線\n",
    "    - 加入二次項與三次項建立迴歸模型，並將迴歸線加入圖中\n",
    "    - 利用測試資料計算三個模型的 $R^2$ 與 RMSE\n",
    "3. 練習將 https://storage.googleapis.com/py_ml_datasets/train.csv 中的 `Sex` 與 `Embarked` 由類別型變數轉換為 One-hot encoding 的 dummy variables"
   ]
  },
  {
   "cell_type": "markdown",
   "metadata": {
    "slideshow": {
     "slide_type": "subslide"
    }
   },
   "source": [
    "## 參考連結\n",
    "\n",
    "- [Machine Learning Foundations (機器學習基石)](https://www.youtube.com/playlist?list=PLXVfgk9fNX2I7tB6oIINGBmW50rrmFTqf)\n",
    "- [Machine Learning Techniques (機器學習技法)](https://www.youtube.com/playlist?list=PLXVfgk9fNX2IQOYPmqjqWsNUFl2kpk1U2)\n",
    "- [Coursera Machine Learning](https://www.coursera.org/learn/machine-learning/home/welcome)"
   ]
  }
 ],
 "metadata": {
  "celltoolbar": "Slideshow",
  "kernelspec": {
   "display_name": "Python 2",
   "language": "python",
   "name": "python2"
  },
  "language_info": {
   "codemirror_mode": {
    "name": "ipython",
    "version": 2
   },
   "file_extension": ".py",
   "mimetype": "text/x-python",
   "name": "python",
   "nbconvert_exporter": "python",
   "pygments_lexer": "ipython2",
   "version": "2.7.13"
  }
 },
 "nbformat": 4,
 "nbformat_minor": 2
}
