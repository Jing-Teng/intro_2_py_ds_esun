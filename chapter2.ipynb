{
 "cells": [
  {
   "cell_type": "markdown",
   "metadata": {
    "slideshow": {
     "slide_type": "slide"
    }
   },
   "source": [
    "# Codecademy Recap（2）\n",
    "\n",
    "## 郭耀仁"
   ]
  },
  {
   "cell_type": "markdown",
   "metadata": {
    "slideshow": {
     "slide_type": "slide"
    }
   },
   "source": [
    "## 課程內容\n",
    "\n",
    "- 函數\n",
    "- 模組與套件\n",
    "- 類別\n",
    "- 作業"
   ]
  },
  {
   "cell_type": "markdown",
   "metadata": {
    "slideshow": {
     "slide_type": "slide"
    }
   },
   "source": [
    "# 函數"
   ]
  },
  {
   "cell_type": "markdown",
   "metadata": {
    "slideshow": {
     "slide_type": "subslide"
    }
   },
   "source": [
    "## 使用 `help()` 函數查詢\n",
    "\n",
    "- 了解一個函數的輸入與可以設定的參數"
   ]
  },
  {
   "cell_type": "code",
   "execution_count": 1,
   "metadata": {
    "collapsed": false
   },
   "outputs": [
    {
     "name": "stdout",
     "output_type": "stream",
     "text": [
      "Help on built-in function range in module __builtin__:\n",
      "\n",
      "range(...)\n",
      "    range(stop) -> list of integers\n",
      "    range(start, stop[, step]) -> list of integers\n",
      "    \n",
      "    Return a list containing an arithmetic progression of integers.\n",
      "    range(i, j) returns [i, i+1, i+2, ..., j-1]; start (!) defaults to 0.\n",
      "    When step is given, it specifies the increment (or decrement).\n",
      "    For example, range(4) returns [0, 1, 2, 3].  The end point is omitted!\n",
      "    These are exactly the valid indices for a list of 4 elements.\n",
      "\n"
     ]
    }
   ],
   "source": [
    "help(range)"
   ]
  },
  {
   "cell_type": "markdown",
   "metadata": {
    "slideshow": {
     "slide_type": "subslide"
    }
   },
   "source": [
    "## 自訂函數\n",
    "\n",
    "- 自訂函數的撰寫結構：\n",
    "\n",
    "```python\n",
    "def function_name(輸入1, 輸入2, 參數1, 參數2, ...):\n",
    "    '''\n",
    "    Docstrings\n",
    "    '''\n",
    "    # 主要的程式\n",
    "    return 結果\n",
    "```"
   ]
  },
  {
   "cell_type": "markdown",
   "metadata": {
    "slideshow": {
     "slide_type": "subslide"
    }
   },
   "source": [
    "## 自訂一個 `my_squared()` 函數\n",
    "\n",
    "- 將輸入的數字平方之後回傳"
   ]
  },
  {
   "cell_type": "code",
   "execution_count": 2,
   "metadata": {
    "collapsed": false
   },
   "outputs": [
    {
     "name": "stdout",
     "output_type": "stream",
     "text": [
      "9\n",
      "Help on function my_squared in module __main__:\n",
      "\n",
      "my_squared(x)\n",
      "    將輸入的數字平方之後回傳\n",
      "\n"
     ]
    }
   ],
   "source": [
    "def my_squared(x):\n",
    "    '將輸入的數字平方之後回傳'\n",
    "    return x**2\n",
    "\n",
    "print my_squared(3)\n",
    "help(my_squared) # 查詢 my_squared() 函數"
   ]
  },
  {
   "cell_type": "markdown",
   "metadata": {
    "slideshow": {
     "slide_type": "subslide"
    }
   },
   "source": [
    "## 自訂一個 `circle_calculator()` 函數"
   ]
  },
  {
   "cell_type": "code",
   "execution_count": 3,
   "metadata": {
    "collapsed": false
   },
   "outputs": [
    {
     "name": "stdout",
     "output_type": "stream",
     "text": [
      "28.2743338823\n",
      "18.8495559215\n"
     ]
    }
   ],
   "source": [
    "import math # 要使用圓周率 pi 得引入套件 math\n",
    "\n",
    "def circle_calculator(r, is_area):\n",
    "    '''\n",
    "    輸入半徑長度可以計算出圓面積與圓周長\n",
    "    利用參數 is_area 決定要回傳圓面積或圓周長\n",
    "    預設回傳圓面積\n",
    "    '''\n",
    "    if is_area == True:\n",
    "        return math.pi * r**2\n",
    "    else:\n",
    "        return 2 * math.pi * r\n",
    "\n",
    "print circle_calculator(3, is_area = True)\n",
    "print circle_calculator(3, is_area = False)"
   ]
  },
  {
   "cell_type": "markdown",
   "metadata": {
    "slideshow": {
     "slide_type": "subslide"
    }
   },
   "source": [
    "## 自訂一個 `circle_calculator()` 函數（2）\n",
    "\n",
    "- 如果忘記輸入 `is_area` 參數會 error\n",
    "- 請加入 `is_area` 參數的預設值為 `True`"
   ]
  },
  {
   "cell_type": "markdown",
   "metadata": {
    "slideshow": {
     "slide_type": "subslide"
    }
   },
   "source": [
    "## 自訂一個 `circle_calculator()` 函數（3）\n",
    "\n",
    "- 何不乾脆把一個圓面積跟圓周長全部傳回來呢？\n",
    "- 在 `return` 後面將多個輸出用逗點區隔"
   ]
  },
  {
   "cell_type": "code",
   "execution_count": 4,
   "metadata": {
    "collapsed": false,
    "slideshow": {
     "slide_type": "-"
    }
   },
   "outputs": [
    {
     "name": "stdout",
     "output_type": "stream",
     "text": [
      "半徑為 3.0 的圓面積為 28.274334\n",
      "半徑為 3.0 的圓周長為 18.849556\n"
     ]
    }
   ],
   "source": [
    "import math # 要使用圓周率 pi 得引入套件 math\n",
    "\n",
    "def circle_calculator(r):\n",
    "    '''\n",
    "    輸入半徑長度可以計算出圓面積與圓周長\n",
    "    Tuple 的第 0 個元素為面積、第 1 個元素為周長\n",
    "    '''\n",
    "    area = math.pi * r**2\n",
    "    circum = 2 * math.pi * r\n",
    "    return area, circum\n",
    "\n",
    "radius = 3\n",
    "print \"半徑為 %.1f 的圓面積為 %f\" % (radius, circle_calculator(radius)[0])\n",
    "print \"半徑為 %.1f 的圓周長為 %f\" % (radius, circle_calculator(radius)[1])"
   ]
  },
  {
   "cell_type": "markdown",
   "metadata": {
    "slideshow": {
     "slide_type": "subslide"
    }
   },
   "source": [
    "## 更多自訂函數\n",
    "\n",
    "- `my_len()` 函數"
   ]
  },
  {
   "cell_type": "code",
   "execution_count": 5,
   "metadata": {
    "collapsed": false
   },
   "outputs": [
    {
     "data": {
      "text/plain": [
       "10"
      ]
     },
     "execution_count": 5,
     "metadata": {},
     "output_type": "execute_result"
    }
   ],
   "source": [
    "def my_len(x):\n",
    "    '計算輸入 list 中有幾個元素'\n",
    "    cnt = 0\n",
    "    for i in x:\n",
    "        cnt += 1\n",
    "    return cnt\n",
    "\n",
    "num_list = range(1, 11)\n",
    "my_len(num_list) # 計算 num_list 中有幾個數字"
   ]
  },
  {
   "cell_type": "markdown",
   "metadata": {
    "slideshow": {
     "slide_type": "subslide"
    }
   },
   "source": [
    "## 更多自訂函數（2）\n",
    "\n",
    "- `my_sum()` 函數"
   ]
  },
  {
   "cell_type": "code",
   "execution_count": 6,
   "metadata": {
    "collapsed": false
   },
   "outputs": [
    {
     "data": {
      "text/plain": [
       "55"
      ]
     },
     "execution_count": 6,
     "metadata": {},
     "output_type": "execute_result"
    }
   ],
   "source": [
    "def my_sum(x):\n",
    "    '計算輸入 list 中的數字加總'\n",
    "    summation = 0\n",
    "    for i in x:\n",
    "        summation += i\n",
    "    return summation\n",
    "\n",
    "num_list = range(1, 11)\n",
    "my_sum(num_list) # 計算 num_list 中數字的加總"
   ]
  },
  {
   "cell_type": "markdown",
   "metadata": {
    "slideshow": {
     "slide_type": "subslide"
    }
   },
   "source": [
    "## 更多自訂函數（3）\n",
    "\n",
    "- 練習撰寫 `my_mean()` 函數\n",
    "\n",
    "$$\\bar{x} = \\frac{\\displaystyle\\sum_{i=1}^{n}xi}{n}$$"
   ]
  },
  {
   "cell_type": "markdown",
   "metadata": {
    "slideshow": {
     "slide_type": "subslide"
    }
   },
   "source": [
    "## 錯誤處理\n",
    "\n",
    "- 使用 `try except` 的語法\n",
    "- 掌握特定錯誤，回傳客製訊息\n",
    "- 便利使用者更快偵錯"
   ]
  },
  {
   "cell_type": "code",
   "execution_count": 7,
   "metadata": {
    "collapsed": false
   },
   "outputs": [
    {
     "name": "stdout",
     "output_type": "stream",
     "text": [
      "請輸入數值。\n"
     ]
    }
   ],
   "source": [
    "def my_squared(x):\n",
    "    '計算平方數且具有錯誤處理的函數'\n",
    "    try:\n",
    "        return x ** 2\n",
    "    except:\n",
    "        return \"請輸入數值。\"\n",
    "\n",
    "print my_squared(\"3\")"
   ]
  },
  {
   "cell_type": "markdown",
   "metadata": {
    "slideshow": {
     "slide_type": "subslide"
    }
   },
   "source": [
    "## 錯誤處理（2）\n",
    "\n",
    "- 針對不同的錯誤類型設計客製錯誤訊息\n",
    "- [Built-in Exceptions](https://docs.python.org/2/library/exceptions.html)"
   ]
  },
  {
   "cell_type": "code",
   "execution_count": 8,
   "metadata": {
    "collapsed": false
   },
   "outputs": [
    {
     "name": "stdout",
     "output_type": "stream",
     "text": [
      "請輸入數值。\n",
      "除數不可以為零。\n"
     ]
    }
   ],
   "source": [
    "def divide(x, y):\n",
    "    try:\n",
    "        return x / y\n",
    "    except TypeError:\n",
    "        return \"請輸入數值。\"\n",
    "    except ZeroDivisionError:\n",
    "        return \"除數不可以為零。\"\n",
    "    except:\n",
    "        return \"其他的錯誤。\"\n",
    "\n",
    "print divide(\"9\", 3)\n",
    "print divide(9, 0)"
   ]
  },
  {
   "cell_type": "markdown",
   "metadata": {
    "slideshow": {
     "slide_type": "subslide"
    }
   },
   "source": [
    "## 匿名函數\n",
    "\n",
    "- 又稱為 `lambda` 函數\n",
    "- 不需要 `return` 的敘述"
   ]
  },
  {
   "cell_type": "code",
   "execution_count": 9,
   "metadata": {
    "collapsed": false
   },
   "outputs": [
    {
     "name": "stdout",
     "output_type": "stream",
     "text": [
      "9\n"
     ]
    }
   ],
   "source": [
    "my_squared = lambda x : x ** 2\n",
    "print my_squared(3)"
   ]
  },
  {
   "cell_type": "markdown",
   "metadata": {
    "slideshow": {
     "slide_type": "subslide"
    }
   },
   "source": [
    "## 匿名函數（2）\n",
    "\n",
    "- 常與內建的三個函數一起使用：\n",
    "    - `filter()`\n",
    "    - `map()`\n",
    "    - `reduce()`"
   ]
  },
  {
   "cell_type": "markdown",
   "metadata": {
    "slideshow": {
     "slide_type": "subslide"
    }
   },
   "source": [
    "## 匿名函數（3）\n",
    "\n",
    "- 搭配 `filter()` 將 1~10 中的奇數選出："
   ]
  },
  {
   "cell_type": "code",
   "execution_count": 10,
   "metadata": {
    "collapsed": false
   },
   "outputs": [
    {
     "name": "stdout",
     "output_type": "stream",
     "text": [
      "[1, 3, 5, 7, 9]\n"
     ]
    }
   ],
   "source": [
    "my_list = range(1, 11)\n",
    "print filter(lambda x : x % 2 == 1, my_list)"
   ]
  },
  {
   "cell_type": "markdown",
   "metadata": {
    "slideshow": {
     "slide_type": "subslide"
    }
   },
   "source": [
    "## 匿名函數（4）\n",
    "\n",
    "- 搭配 `map()` 將 1~10 每個數字都平方："
   ]
  },
  {
   "cell_type": "code",
   "execution_count": 11,
   "metadata": {
    "collapsed": false
   },
   "outputs": [
    {
     "name": "stdout",
     "output_type": "stream",
     "text": [
      "[1, 4, 9, 16, 25, 36, 49, 64, 81, 100]\n"
     ]
    }
   ],
   "source": [
    "my_list = range(1, 11)\n",
    "print map(lambda x : x**2, my_list)"
   ]
  },
  {
   "cell_type": "markdown",
   "metadata": {
    "slideshow": {
     "slide_type": "subslide"
    }
   },
   "source": [
    "## 匿名函數（5）\n",
    "\n",
    "- 搭配 `reduce()` 將 1~10 每個數字加總："
   ]
  },
  {
   "cell_type": "code",
   "execution_count": 12,
   "metadata": {
    "collapsed": false
   },
   "outputs": [
    {
     "name": "stdout",
     "output_type": "stream",
     "text": [
      "55\n"
     ]
    }
   ],
   "source": [
    "my_list = range(1, 11)\n",
    "print reduce(lambda x, y : x + y, my_list)"
   ]
  },
  {
   "cell_type": "markdown",
   "metadata": {
    "slideshow": {
     "slide_type": "subslide"
    }
   },
   "source": [
    "## 彈性參數\n",
    "\n",
    "- `*args` 允許我們在函數中直接輸入容器中的資料\n",
    "- 不需要先將輸入資料儲存在容器中（例如 list）\n",
    "\n",
    "```python\n",
    "# 非彈性參數的作法\n",
    "def output_stars(stars):\n",
    "    '將輸入的 list 元素一一輸出'\n",
    "    for star in stars:\n",
    "        print star\n",
    "\n",
    "stars_list = [\"Jennifer Aniston\", \"Courteney Cox\", \"Lisa Kudrow\", \n",
    "\"Matt LeBlanc\", \"Matthew Perry\", \"David Schwimmer\"]\n",
    "output_stars(stars_list)\n",
    "```"
   ]
  },
  {
   "cell_type": "code",
   "execution_count": 13,
   "metadata": {
    "collapsed": false
   },
   "outputs": [
    {
     "name": "stdout",
     "output_type": "stream",
     "text": [
      "Jennifer Aniston\n",
      "Courteney Cox\n",
      "Lisa Kudrow\n",
      "Matt LeBlanc\n",
      "Matthew Perry\n",
      "David Schwimmer\n"
     ]
    }
   ],
   "source": [
    "def output_stars(*args):\n",
    "    '將輸入的演員一一輸出'\n",
    "    for star in args:\n",
    "        print star\n",
    "\n",
    "output_stars(\"Jennifer Aniston\", \"Courteney Cox\", \"Lisa Kudrow\",\n",
    "             \"Matt LeBlanc\", \"Matthew Perry\", \"David Schwimmer\")"
   ]
  },
  {
   "cell_type": "markdown",
   "metadata": {
    "slideshow": {
     "slide_type": "subslide"
    }
   },
   "source": [
    "## 彈性參數（2）\n",
    "\n",
    "- `*kwargs` 允許我們在函數中直接輸入容器中的資料\n",
    "- 不需要先將輸入資料儲存在容器中（例如 dict）\n",
    "\n",
    "```python\n",
    "# 非彈性參數的作法\n",
    "def output_info(infos):\n",
    "    '將輸入的 dict 元素一一輸出'\n",
    "    for (key, value) in infos.items():\n",
    "        print \"%s: %s\" % (key, value)\n",
    "\n",
    "series_info = {\n",
    "    \"genre\": \"SitCom\",\n",
    "    \"seasons\": 10,\n",
    "    \"episodes\": 236,\n",
    "    \"stars\": [\"Jennifer Aniston\", \"Courteney Cox\", \"Lisa Kudrow\",\n",
    "             \"Matt LeBlanc\", \"Matthew Perry\", \"David Schwimmer\"]\n",
    "}\n",
    "\n",
    "output_info(series_info)\n",
    "```"
   ]
  },
  {
   "cell_type": "code",
   "execution_count": 14,
   "metadata": {
    "collapsed": false
   },
   "outputs": [
    {
     "name": "stdout",
     "output_type": "stream",
     "text": [
      "genre: Sitcom\n",
      "seasons: 10\n",
      "episodes: 236\n",
      "stars: ['Jennifer Aniston', 'Courteney Cox', 'Lisa Kudrow', 'Matt LeBlanc', 'Matthew Perry', 'David Schwimmer']\n"
     ]
    }
   ],
   "source": [
    "def output_info(**kwargs):\n",
    "    '將影集資訊一一輸出'\n",
    "    for info in kwargs:\n",
    "        print \"%s: %s\" % (info, kwargs[info])\n",
    "\n",
    "output_info(genre = 'Sitcom', seasons = 10, episodes = 236, \n",
    "            stars = [\"Jennifer Aniston\", \"Courteney Cox\", \"Lisa Kudrow\",\n",
    "             \"Matt LeBlanc\", \"Matthew Perry\", \"David Schwimmer\"])"
   ]
  },
  {
   "cell_type": "markdown",
   "metadata": {
    "slideshow": {
     "slide_type": "slide"
    }
   },
   "source": [
    "# 模組與套件"
   ]
  },
  {
   "cell_type": "markdown",
   "metadata": {
    "slideshow": {
     "slide_type": "subslide"
    }
   },
   "source": [
    "## 從命令列執行 Python 程式\n",
    "\n",
    "- 在課程資料夾新增 stand_alone.py\n",
    "\n",
    "```python\n",
    "# coding=utf-8\n",
    "print \"嗨，我可以從終端機執行！\"\n",
    "```\n",
    "\n",
    "- 回到終端機執行\n",
    "\n",
    "```bash\n",
    "$ python stand_alone.py\n",
    "```"
   ]
  },
  {
   "cell_type": "markdown",
   "metadata": {
    "slideshow": {
     "slide_type": "subslide"
    }
   },
   "source": [
    "## 從命令列執行 Python 程式（2）\n",
    "\n",
    "- 在課程資料夾新增 stand_alone_w_args.py\n",
    "\n",
    "```python\n",
    "# coding=utf-8\n",
    "import sys\n",
    "print \"這些是從終端機回傳的參數：\", sys.argv\n",
    "```\n",
    "\n",
    "- 回到終端機執行\n",
    "\n",
    "```bash\n",
    "$ python stand_alone_w_args.py\n",
    "```\n",
    "\n",
    "- 再次執行\n",
    "\n",
    "```bash\n",
    "$ python stand_alone_w_args.py arg1 arg2\n",
    "```"
   ]
  },
  {
   "cell_type": "markdown",
   "metadata": {
    "slideshow": {
     "slide_type": "subslide"
    }
   },
   "source": [
    "## 從命令列執行 Python 程式（3）\n",
    "\n",
    "- 在課程資料夾新增 my_squared.py\n",
    "\n",
    "```python\n",
    "# coding=utf-8\n",
    "import sys\n",
    "\n",
    "def my_squared(x):\n",
    "    '將輸入的數字平方'\n",
    "    return x**2\n",
    "    \n",
    "input_num = float(sys.argv[1])\n",
    "print \"%.2f 的平方是 %.4f\" % (input_num, my_squared(input_num))\n",
    "```\n",
    "\n",
    "- 回到終端機執行\n",
    "\n",
    "```bash\n",
    "$ python my_squared.py 3\n",
    "```"
   ]
  },
  {
   "cell_type": "markdown",
   "metadata": {
    "slideshow": {
     "slide_type": "subslide"
    }
   },
   "source": [
    "## 從命令列執行 Python 程式（4）\n",
    "\n",
    "- 在課程資料夾新增 circle_calculator.py\n",
    "- 從命令列執行輸入圓的半徑可以得到圓面積與圓周長的答案"
   ]
  },
  {
   "cell_type": "markdown",
   "metadata": {
    "slideshow": {
     "slide_type": "subslide"
    }
   },
   "source": [
    "## 載入模組\n",
    "\n",
    "- 運用 `import` 這個指令將儲存好的程式直接拿來運用\n",
    "- 修改 circle_calculator.py\n",
    "\n",
    "```python\n",
    "# coding=utf-8\n",
    "import math\n",
    "\n",
    "def circle_area(r):\n",
    "    '計算圓形面積'\n",
    "    area = math.pi * r**2\n",
    "    return area\n",
    "\n",
    "def circle_circum(r):\n",
    "    '計算圓形周長'\n",
    "    circum = 2 * math.pi * r\n",
    "    return circum\n",
    "```"
   ]
  },
  {
   "cell_type": "markdown",
   "metadata": {
    "slideshow": {
     "slide_type": "subslide"
    }
   },
   "source": [
    "## 載入模組（2）\n",
    "\n",
    "- 在課程資料夾新增 calculate_circle_params.py\n",
    "\n",
    "```python\n",
    "# coding=utf-8\n",
    "import sys\n",
    "import circle_calculator\n",
    "\n",
    "radius = radius(sys.argv[1])\n",
    "print \"半徑為 %.2f 的圓面積為 %.4f\" % (radius, circle_calculator.circle_area(radius))\n",
    "print \"半徑為 %.2f 的圓周長為 %.4f\" % (radius, circle_calculator.circle_circum(radius))\n",
    "```"
   ]
  },
  {
   "cell_type": "markdown",
   "metadata": {
    "slideshow": {
     "slide_type": "subslide"
    }
   },
   "source": [
    "## 載入模組（3）\n",
    "\n",
    "- 載入模組之後可以更改名稱\n",
    "\n",
    "```python\n",
    "# coding=utf-8\n",
    "import sys\n",
    "import circle_calculator as cc\n",
    "\n",
    "radius = radius(sys.argv[1])\n",
    "print \"半徑為 %.2f 的圓面積為 %.4f\" % (radius, cc.circle_area(radius))\n",
    "print \"半徑為 %.2f 的圓周長為 %.4f\" % (radius, cc.circle_circum(radius))\n",
    "```"
   ]
  },
  {
   "cell_type": "markdown",
   "metadata": {
    "slideshow": {
     "slide_type": "subslide"
    }
   },
   "source": [
    "## 載入模組（4）\n",
    "\n",
    "- 亦可以只載入模組中的部分函數\n",
    "\n",
    "```python\n",
    "# coding=utf-8\n",
    "import sys\n",
    "from circle_calculator import circle_area\n",
    "\n",
    "radius = radius(sys.argv[1])\n",
    "print \"半徑為 %.2f 的圓面積為 %.4f\" % (radius, circle_area(radius))\n",
    "```"
   ]
  },
  {
   "cell_type": "markdown",
   "metadata": {
    "slideshow": {
     "slide_type": "subslide"
    }
   },
   "source": [
    "## 套件\n",
    "\n",
    "- 多個功能相關的模組可以組織成一個套件\n",
    "- 在課程資料夾下建立一個資料夾：casino\n",
    "- 在這個資料夾中新增三個檔案：\n",
    "    - \\_\\_init\\_\\_.py（空白）\n",
    "    - dice.py\n",
    "    - poker.py"
   ]
  },
  {
   "cell_type": "markdown",
   "metadata": {
    "slideshow": {
     "slide_type": "subslide"
    }
   },
   "source": [
    "## 套件（2）\n",
    "\n",
    "- 在 dice.py 中我們定義一個投擲骰子的函數：\n",
    "\n",
    "```python\n",
    "# coding=utf-8\n",
    "from random import choice\n",
    "\n",
    "def roll_dice():\n",
    "    '投擲骰子'\n",
    "    dice = range(1, 7)\n",
    "    return choice(dice)\n",
    "```"
   ]
  },
  {
   "cell_type": "markdown",
   "metadata": {
    "slideshow": {
     "slide_type": "subslide"
    }
   },
   "source": [
    "## 套件（3）\n",
    "\n",
    "- 在 poker.py 中我們定義一個發撲克牌的函數：\n",
    "\n",
    "```python\n",
    "# coding=utf-8\n",
    "from random import choice\n",
    "\n",
    "def deal_card():\n",
    "    '發撲克牌'\n",
    "    spades = []\n",
    "    hearts = []\n",
    "    diamonds = []\n",
    "    clubs = []\n",
    "    denominations = map(str, range(2, 11)) + ['J', 'Q', 'K', 'Ace']\n",
    "\n",
    "    for i in range(len(denominations)):\n",
    "        spades.append(denominations[i] + \" Spade\")\n",
    "        hearts.append(denominations[i] + \" Heart\")\n",
    "        diamonds.append(denominations[i] + \" Diamond\")\n",
    "        clubs.append(denominations[i] + \" Club\")\n",
    "\n",
    "    poker_cards = spades + hearts + diamonds + clubs\n",
    "    return choice(poker_cards)\n",
    "```"
   ]
  },
  {
   "cell_type": "markdown",
   "metadata": {
    "slideshow": {
     "slide_type": "subslide"
    }
   },
   "source": [
    "## 套件（4）\n",
    "\n",
    "- 回到課程資料夾新增 casino_play.py\n",
    "\n",
    "```python\n",
    "# coding=utf-8\n",
    "from casino import dice, poker\n",
    "\n",
    "print \"投擲骰子：\", dice.roll_dice()\n",
    "print \"發撲克牌：\", poker.deal_card()\n",
    "```\n",
    "\n",
    "- 從命令列執行：\n",
    "\n",
    "```bash\n",
    "$ python casino_play.py\n",
    "```"
   ]
  },
  {
   "cell_type": "markdown",
   "metadata": {
    "slideshow": {
     "slide_type": "slide"
    }
   },
   "source": [
    "# 類別"
   ]
  },
  {
   "cell_type": "markdown",
   "metadata": {
    "slideshow": {
     "slide_type": "subslide"
    }
   },
   "source": [
    "## 自訂類別\n",
    "\n",
    "- 除了內建的 `str`、`int`、`list` 等，我們也可以自訂類別\n",
    "- 然後賦予自訂類別各種屬性（Attribute）與方法（Method）\n",
    "- 屬性對應資料，方法對應函數"
   ]
  },
  {
   "cell_type": "markdown",
   "metadata": {
    "slideshow": {
     "slide_type": "subslide"
    }
   },
   "source": [
    "## 自訂類別（2）\n",
    "\n",
    "![](https://storage.googleapis.com/intro-2-py-ds/img/ch7/aoeII.png)"
   ]
  },
  {
   "cell_type": "markdown",
   "metadata": {
    "slideshow": {
     "slide_type": "subslide"
    }
   },
   "source": [
    "## 自訂類別（3）\n",
    "\n",
    "- `__init__()` 方法稱為建構子或者初始化方法\n",
    "- `self` 就像是 `this` 的作用，在使用方法時不需要加入\n",
    "- `__doc__` 屬性可以看類別說明文件\n",
    "- 建築物（Building）類別有基本屬性為建築物名稱："
   ]
  },
  {
   "cell_type": "code",
   "execution_count": 15,
   "metadata": {
    "collapsed": false
   },
   "outputs": [
    {
     "name": "stdout",
     "output_type": "stream",
     "text": [
      "\n",
      "    建築物類別\n",
      "    \n",
      "城鎮中心\n",
      "軍營\n",
      "修道院\n"
     ]
    }
   ],
   "source": [
    "class Building():\n",
    "    '''\n",
    "    建築物類別\n",
    "    '''\n",
    "    def __init__(self, name):\n",
    "        self.name = name\n",
    "\n",
    "town_center = Building(\"城鎮中心\")\n",
    "barrack = Building(\"軍營\")\n",
    "monastery = Building(\"修道院\")\n",
    "\n",
    "print town_center.__doc__\n",
    "print town_center.name\n",
    "print barrack.name\n",
    "print monastery.name"
   ]
  },
  {
   "cell_type": "markdown",
   "metadata": {
    "slideshow": {
     "slide_type": "subslide"
    }
   },
   "source": [
    "## 自訂類別（4）\n",
    "\n",
    "- 建築物（Building）類別有基本方法為生產："
   ]
  },
  {
   "cell_type": "code",
   "execution_count": 16,
   "metadata": {
    "collapsed": false
   },
   "outputs": [
    {
     "name": "stdout",
     "output_type": "stream",
     "text": [
      "城鎮中心生產村民\n",
      "軍營生產長劍兵\n",
      "修道院生產僧侶\n"
     ]
    }
   ],
   "source": [
    "class Building():\n",
    "    '''\n",
    "    建築物類別\n",
    "    '''\n",
    "    def __init__(self, name, unit):\n",
    "        self.name = name\n",
    "        self.unit = unit\n",
    "    \n",
    "    def create(self):\n",
    "        return \"%s生產%s\" %(self.name, self.unit)\n",
    "\n",
    "town_center = Building(\"城鎮中心\", \"村民\")\n",
    "barrack = Building(\"軍營\", \"長劍兵\")\n",
    "monastery = Building(\"修道院\", \"僧侶\")\n",
    "\n",
    "print town_center.create()\n",
    "print barrack.create()\n",
    "print monastery.create()"
   ]
  },
  {
   "cell_type": "markdown",
   "metadata": {
    "slideshow": {
     "slide_type": "subslide"
    }
   },
   "source": [
    "## 自訂類別（5）\n",
    "\n",
    "- 類別具有繼承的特性："
   ]
  },
  {
   "cell_type": "code",
   "execution_count": 17,
   "metadata": {
    "collapsed": false
   },
   "outputs": [
    {
     "name": "stdout",
     "output_type": "stream",
     "text": [
      "城堡\n",
      "城堡生產特殊兵種\n"
     ]
    }
   ],
   "source": [
    "class Building():\n",
    "    '''\n",
    "    建築物類別\n",
    "    '''\n",
    "    def __init__(self, name, unit):\n",
    "        self.name = name\n",
    "        self.unit = unit\n",
    "    \n",
    "    def create(self):\n",
    "        return \"%s生產%s\" %(self.name, self.unit)\n",
    "\n",
    "class Castle(Building):\n",
    "    '''\n",
    "    城堡類別\n",
    "    '''\n",
    "    pass\n",
    "\n",
    "castle = Castle(\"城堡\", \"特殊兵種\")\n",
    "print castle.name\n",
    "print castle.create()"
   ]
  },
  {
   "cell_type": "markdown",
   "metadata": {
    "slideshow": {
     "slide_type": "subslide"
    }
   },
   "source": [
    "## 自訂類別（6）\n",
    "\n",
    "- 類別繼承之後可以新增或改寫方法："
   ]
  },
  {
   "cell_type": "code",
   "execution_count": 18,
   "metadata": {
    "collapsed": false
   },
   "outputs": [
    {
     "name": "stdout",
     "output_type": "stream",
     "text": [
      "城堡\n",
      "城堡生產特殊兵種與巨型投石車\n",
      "城堡使用弓箭攻擊\n"
     ]
    }
   ],
   "source": [
    "class Building():\n",
    "    '''\n",
    "    建築物類別\n",
    "    '''\n",
    "    def __init__(self, name, unit):\n",
    "        self.name = name\n",
    "        self.unit = unit\n",
    "    \n",
    "    def create(self):\n",
    "        return \"%s生產%s\" %(self.name, self.unit)\n",
    "\n",
    "class Castle(Building):\n",
    "    '''\n",
    "    城堡類別\n",
    "    '''\n",
    "    def create(self):\n",
    "        return \"%s生產%s與巨型投石車\" %(self.name, self.unit)\n",
    "    \n",
    "    def attack(self):\n",
    "        return \"%s使用弓箭攻擊\" %(self.name)\n",
    "\n",
    "castle = Castle(\"城堡\", \"特殊兵種\")\n",
    "print castle.name\n",
    "print castle.create()\n",
    "print castle.attack()"
   ]
  },
  {
   "cell_type": "markdown",
   "metadata": {
    "slideshow": {
     "slide_type": "subslide"
    }
   },
   "source": [
    "## 自訂類別（7）\n",
    "\n",
    "- 使用 `super()` 繼承母類別的屬性："
   ]
  },
  {
   "cell_type": "code",
   "execution_count": 19,
   "metadata": {
    "collapsed": false
   },
   "outputs": [
    {
     "name": "stdout",
     "output_type": "stream",
     "text": [
      "城堡生產特殊兵種與巨型投石車\n"
     ]
    }
   ],
   "source": [
    "class Building(object):\n",
    "    '''\n",
    "    建築物類別\n",
    "    '''\n",
    "    def __init__(self, name, unit):\n",
    "        self.name = name\n",
    "        self.unit = unit\n",
    "    \n",
    "    def create(self):\n",
    "        return \"%s生產%s\" %(self.name, self.unit)\n",
    "\n",
    "class Castle(Building):\n",
    "    '''\n",
    "    城堡類別\n",
    "    '''\n",
    "    def __init__(self, name, unit, siege_unit):\n",
    "        super(Castle, self).__init__(name, unit)\n",
    "        self.siege_unit = siege_unit\n",
    "    \n",
    "    def create(self):\n",
    "        return \"%s生產%s與%s\" %(self.name, self.unit, self.siege_unit)\n",
    "\n",
    "castle = Castle(\"城堡\", \"特殊兵種\", \"巨型投石車\")\n",
    "print castle.create()"
   ]
  },
  {
   "cell_type": "markdown",
   "metadata": {
    "slideshow": {
     "slide_type": "slide"
    }
   },
   "source": [
    "# 作業"
   ]
  },
  {
   "cell_type": "markdown",
   "metadata": {
    "slideshow": {
     "slide_type": "subslide"
    }
   },
   "source": [
    "## 作業\n",
    "\n",
    "1. 實作質數判斷函數 `is_prime()`，可以判斷輸入的數字是否為質數（hw201.py）\n",
    "2. 寫一個 Fibonacci 數列的產生函數 `fib_gen()`，有三個輸入：第一個數字、第二個數字與數列長度（hw202.py）\n",
    "3. 實作交換排序法函數 `exchange_sort()`，並且有一個參數可以決定要遞增或遞減排序（hw203.py）\n",
    "4. 實作用二分搜尋法逼進平方根的函數 `my_sqrt()`，逼近區間可以自行決定（hw204.py）\n",
    "5. 實作樣本標準差的函數 `my_sd()`，可以使用 `math.sqrt()` 或前一題自訂的 `my_sqrt()`（hw205.py）\n",
    "\n",
    "$$SD = \\sqrt{\\frac{1}{N-1}\\sum_{i=1}^{N}(x_i - \\bar{x})^2}$$"
   ]
  }
 ],
 "metadata": {
  "celltoolbar": "Slideshow",
  "kernelspec": {
   "display_name": "Python 2",
   "language": "python",
   "name": "python2"
  },
  "language_info": {
   "codemirror_mode": {
    "name": "ipython",
    "version": 2
   },
   "file_extension": ".py",
   "mimetype": "text/x-python",
   "name": "python",
   "nbconvert_exporter": "python",
   "pygments_lexer": "ipython2",
   "version": "2.7.13"
  }
 },
 "nbformat": 4,
 "nbformat_minor": 2
}
