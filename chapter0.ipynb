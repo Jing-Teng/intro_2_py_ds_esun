{
 "cells": [
  {
   "cell_type": "markdown",
   "metadata": {
    "slideshow": {
     "slide_type": "slide"
    }
   },
   "source": [
    "# 開發環境\n",
    "\n",
    "## 郭耀仁"
   ]
  },
  {
   "cell_type": "markdown",
   "metadata": {
    "slideshow": {
     "slide_type": "slide"
    }
   },
   "source": [
    "## 安裝 Anaconda\n",
    "\n",
    "- [Anaconda](https://www.continuum.io/downloads)\n",
    "- 選擇 Python 2.7 Version"
   ]
  },
  {
   "cell_type": "markdown",
   "metadata": {
    "slideshow": {
     "slide_type": "subslide"
    }
   },
   "source": [
    "## 安裝 Anaconda（2）\n",
    "\n",
    "- 為什麼推薦直接使用 [Anaconda](https://www.continuum.io/downloads)？\n",
    "    - 有主程式 Python\n",
    "    - 有編輯器 Jupyter Notebook\n",
    "    - 有套件與環境管理工具 conda"
   ]
  },
  {
   "cell_type": "markdown",
   "metadata": {
    "slideshow": {
     "slide_type": "slide"
    }
   },
   "source": [
    "## 基本命令列指令\n",
    "\n",
    "- MacOS/Linux 適用\n",
    "\n",
    "| 指令          | 說明                    |\n",
    "| -------------|-------------------------|\n",
    "| `cd`         | 切換目錄                 |\n",
    "| `pwd`        | 取得目前所在的位置         |\n",
    "| `ls`         | 列出目前的檔案列表         |\n",
    "| `mkdir`      | 建立新的目錄              |\n",
    "| `touch`      | 建立檔案                 |\n",
    "| `cp`         | 複製檔案                 |\n",
    "| `mv`         | 移動檔案                 |\n",
    "| `rm`         | 刪除檔案                 |"
   ]
  },
  {
   "cell_type": "markdown",
   "metadata": {
    "slideshow": {
     "slide_type": "subslide"
    }
   },
   "source": [
    "## 啟動 Jupyter Notebook\n",
    "\n",
    "- 在命令列輸入\n",
    "\n",
    "```bash\n",
    "$ jupyter notebook\n",
    "```\n",
    "\n",
    "- 新增一個 Notebook"
   ]
  },
  {
   "cell_type": "markdown",
   "metadata": {
    "slideshow": {
     "slide_type": "subslide"
    }
   },
   "source": [
    "## 用 Ubuntu 虛擬機\n",
    "\n",
    "- 至 [Download VirtualBox](https://www.virtualbox.org/wiki/Downloads) 下載 VirtualBox\n",
    "- 下載[映像檔](https://drive.google.com/open?id=0B1RAmsOPDTw1amRsT3VQOFk5UGc)並解壓縮"
   ]
  },
  {
   "cell_type": "markdown",
   "metadata": {
    "slideshow": {
     "slide_type": "subslide"
    }
   },
   "source": [
    "## 用 Ubuntu 虛擬機（2）\n",
    "\n",
    "- 打開 VirtualBox，點選 `New`\n",
    "\n",
    "![](https://storage.googleapis.com/intro-2-py-ds/img/appendix1/a104.png)"
   ]
  },
  {
   "cell_type": "markdown",
   "metadata": {
    "slideshow": {
     "slide_type": "subslide"
    }
   },
   "source": [
    "## 用 Ubuntu 虛擬機（3）\n",
    "\n",
    "- 為這個虛擬機取一個名稱，然後選好版本\n",
    "\n",
    "![](https://storage.googleapis.com/intro-2-py-ds/img/appendix1/a105.png)"
   ]
  },
  {
   "cell_type": "markdown",
   "metadata": {
    "slideshow": {
     "slide_type": "subslide"
    }
   },
   "source": [
    "## 用 Ubuntu 虛擬機（4）\n",
    "\n",
    "- 分配記憶體給這個虛擬機（至少 2G）\n",
    "\n",
    "![](https://storage.googleapis.com/intro-2-py-ds/img/appendix1/a106.png)"
   ]
  },
  {
   "cell_type": "markdown",
   "metadata": {
    "slideshow": {
     "slide_type": "subslide"
    }
   },
   "source": [
    "## 用 Ubuntu 虛擬機（5）\n",
    "\n",
    "- 直接使用下載好的[映像檔](https://drive.google.com/open?id=0B1RAmsOPDTw1amRsT3VQOFk5UGc)：\n",
    "    - Account: student\n",
    "    - Password: student"
   ]
  },
  {
   "cell_type": "markdown",
   "metadata": {
    "slideshow": {
     "slide_type": "slide"
    }
   },
   "source": [
    "## 隨堂練習\n",
    "\n",
    "- 順利執行以下指令："
   ]
  },
  {
   "cell_type": "code",
   "execution_count": 1,
   "metadata": {
    "collapsed": false
   },
   "outputs": [
    {
     "name": "stdout",
     "output_type": "stream",
     "text": [
      "1.12.1\n",
      "0.20.2\n",
      "2.0.2\n",
      "0.18.1\n"
     ]
    }
   ],
   "source": [
    "import numpy\n",
    "import pandas\n",
    "import matplotlib\n",
    "import sklearn\n",
    "\n",
    "print numpy.__version__\n",
    "print pandas.__version__\n",
    "print matplotlib.__version__\n",
    "print sklearn.__version__"
   ]
  }
 ],
 "metadata": {
  "celltoolbar": "Slideshow",
  "kernelspec": {
   "display_name": "Python 2",
   "language": "python",
   "name": "python2"
  },
  "language_info": {
   "codemirror_mode": {
    "name": "ipython",
    "version": 2
   },
   "file_extension": ".py",
   "mimetype": "text/x-python",
   "name": "python",
   "nbconvert_exporter": "python",
   "pygments_lexer": "ipython2",
   "version": "2.7.13"
  }
 },
 "nbformat": 4,
 "nbformat_minor": 2
}
